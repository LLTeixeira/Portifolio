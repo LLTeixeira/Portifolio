{
 "cells": [
  {
   "cell_type": "code",
   "execution_count": 39,
   "metadata": {},
   "outputs": [
    {
     "data": {
      "text/plain": [
       "sis_triang_sup (generic function with 1 method)"
      ]
     },
     "metadata": {},
     "output_type": "display_data"
    }
   ],
   "source": [
    "function sis_triang_sup(A::Matrix{Float64}, b::Vector{Float64})\n",
    "    X = zeros(length(b))\n",
    "    for i in length(b):-1:1\n",
    "        x = (b[i] - sum(X .* A[i, :])) / A[i, i]\n",
    "        X[i] = x\n",
    "    end\n",
    "    return X\n",
    "end"
   ]
  },
  {
   "cell_type": "code",
   "execution_count": 40,
   "metadata": {},
   "outputs": [
    {
     "data": {
      "text/plain": [
       "sis_triang_inf (generic function with 1 method)"
      ]
     },
     "metadata": {},
     "output_type": "display_data"
    }
   ],
   "source": [
    "function sis_triang_inf(A::Matrix{Float64}, b::Vector{Float64})\n",
    "    X = zeros(length(b))\n",
    "    X[1] = b[1]/A[1,1]\n",
    "    for i in 2:length(b)\n",
    "        soma = 0\n",
    "        el = A[i, 1:(i-1)] .* X[1:(i-1)]\n",
    "        soma += sum(el)\n",
    "        X[i] = (b[i] - soma)/A[i,i]\n",
    "    end\n",
    "    return X\n",
    "end\n"
   ]
  },
  {
   "cell_type": "code",
   "execution_count": 41,
   "metadata": {},
   "outputs": [
    {
     "data": {
      "text/plain": [
       "pivotamento (generic function with 1 method)"
      ]
     },
     "metadata": {},
     "output_type": "display_data"
    }
   ],
   "source": [
    "function pivotamento(c::Int64, l::Int64, M::Matrix{Float64})\n",
    "    # c para coluna atual e l para linha atual\n",
    "\n",
    "    vetor = abs.(M[l:end, c])\n",
    "    max = argmax(vetor)\n",
    "    max_index = max + l - 1\n",
    "    M[max_index, :], M[l, :] = M[l, :], M[max_index, :]  \n",
    "    \n",
    "    return (max + l - 1)\n",
    "end"
   ]
  },
  {
   "cell_type": "code",
   "execution_count": 42,
   "metadata": {},
   "outputs": [
    {
     "data": {
      "text/plain": [
       "eliminacao_gauss (generic function with 1 method)"
      ]
     },
     "metadata": {},
     "output_type": "display_data"
    }
   ],
   "source": [
    "function eliminacao_gauss(A::Matrix{Float64}, b::Vector{Float64})\n",
    "\n",
    "    M = hcat(A, b)\n",
    "    \n",
    "    for i in 1:length(M[:, 1])\n",
    "        pivotamento(i, i, M)\n",
    "        pivot_line = M[i, :]\n",
    "        for j in (i+1):(length(M[1, :])-1)\n",
    "            m = M[j, i]/pivot_line[i]\n",
    "            M[j, :] -= m * pivot_line\n",
    "        end\n",
    "    end\n",
    "\n",
    "    return M[:, 1:(end-1)], M[:, end]\n",
    "    \n",
    "end"
   ]
  },
  {
   "cell_type": "code",
   "execution_count": 43,
   "metadata": {},
   "outputs": [
    {
     "data": {
      "text/plain": [
       "resolver_sistema (generic function with 1 method)"
      ]
     },
     "metadata": {},
     "output_type": "display_data"
    }
   ],
   "source": [
    "function resolver_sistema(A::Matrix{Float64}, b::Vector{Float64})\n",
    "    X = eliminacao_gauss(A, b)\n",
    "    return sis_triang_sup(X[1], X[2])\n",
    "end"
   ]
  },
  {
   "cell_type": "code",
   "execution_count": 64,
   "metadata": {},
   "outputs": [
    {
     "data": {
      "text/plain": [
       "permutacao (generic function with 1 method)"
      ]
     },
     "metadata": {},
     "output_type": "display_data"
    }
   ],
   "source": [
    "function permutacao(A::Matrix{Float64})\n",
    "\n",
    "    n = length(A[1, :])\n",
    "    M = hcat(Vector(1:n), A)\n",
    "    N = zeros(n,n+1)\n",
    "\n",
    "    for i in 1:n\n",
    "        linha = findmax(M[:, i+1])[2]\n",
    "        N[i, :] = M[linha, :]\n",
    "        M[linha, :] .= -Inf\n",
    "    end\n",
    "\n",
    "    P = zeros(n,n)\n",
    "    ordem = convert.(Int16, N[:, 1])\n",
    "    for (i, j) in enumerate(ordem)\n",
    "        P[i, j] = 1\n",
    "    end\n",
    "\n",
    "    return N[:,2:end], P\n",
    "end"
   ]
  },
  {
   "cell_type": "code",
   "execution_count": 65,
   "metadata": {},
   "outputs": [
    {
     "data": {
      "text/plain": [
       "decompLU (generic function with 1 method)"
      ]
     },
     "metadata": {},
     "output_type": "display_data"
    }
   ],
   "source": [
    "using LinearAlgebra\n",
    "\n",
    "function decompLU(A::Matrix{Float64})\n",
    "    perm = permutacao(A)\n",
    "    U = perm[1]\n",
    "    n = length(A[1,:])\n",
    "    L = zeros(n, n)\n",
    "    L[diagind(A)] .= 1  \n",
    "    P = perm[2]\n",
    "\n",
    "    for i in 1:n\n",
    "        pivot_line = U[i, :]\n",
    "        for j in (i+1):n\n",
    "            m = U[j, i]/pivot_line[i]\n",
    "            L[j, i] = m\n",
    "            U[j, :] -= m * pivot_line\n",
    "        end\n",
    "        #U = round.(U, digits = 12)\n",
    "    end \n",
    "    return L, U, P\n",
    "end\n"
   ]
  },
  {
   "cell_type": "code",
   "execution_count": 45,
   "metadata": {},
   "outputs": [
    {
     "data": {
      "text/plain": [
       "6-element Vector{Float64}:\n",
       " 27.0\n",
       " 78.0\n",
       " 99.0\n",
       " 29.0\n",
       " 78.0\n",
       "  5.0"
      ]
     },
     "metadata": {},
     "output_type": "display_data"
    }
   ],
   "source": [
    "b = rand(1:100, 6)\n",
    "b = convert.(Float64, b)"
   ]
  },
  {
   "cell_type": "code",
   "execution_count": 44,
   "metadata": {},
   "outputs": [
    {
     "data": {
      "text/plain": [
       "6×6 Matrix{Float64}:\n",
       " 11.0  11.0  55.0  84.0  85.0  60.0\n",
       " 92.0   1.0  31.0  10.0  85.0  62.0\n",
       " 46.0  54.0  30.0  42.0  79.0  81.0\n",
       " 12.0   3.0  68.0  39.0  13.0  83.0\n",
       " 90.0  34.0  13.0  43.0  82.0  17.0\n",
       " 18.0  52.0  93.0  65.0  35.0  74.0"
      ]
     },
     "metadata": {},
     "output_type": "display_data"
    }
   ],
   "source": [
    "A = rand(1:100, (6,6))\n",
    "A = convert.(Float64, A)"
   ]
  },
  {
   "cell_type": "code",
   "execution_count": 76,
   "metadata": {},
   "outputs": [
    {
     "data": {
      "text/plain": [
       "6×6 Matrix{Float64}:\n",
       " 0.0  1.0  0.0  0.0  0.0  0.0\n",
       " 0.0  0.0  1.0  0.0  0.0  0.0\n",
       " 0.0  0.0  0.0  0.0  0.0  1.0\n",
       " 1.0  0.0  0.0  0.0  0.0  0.0\n",
       " 0.0  0.0  0.0  0.0  1.0  0.0\n",
       " 0.0  0.0  0.0  1.0  0.0  0.0"
      ]
     },
     "metadata": {},
     "output_type": "display_data"
    }
   ],
   "source": [
    "X = decompLU(A);\n",
    "X[3]"
   ]
  },
  {
   "cell_type": "code",
   "execution_count": 71,
   "metadata": {},
   "outputs": [
    {
     "data": {
      "text/plain": [
       "1.1102230246251565e-14"
      ]
     },
     "metadata": {},
     "output_type": "display_data"
    }
   ],
   "source": [
    "D = X[3]* A - X[1] * X[2]\n",
    "mapreduce(x-> abs(x), +, D)"
   ]
  },
  {
   "cell_type": "code",
   "execution_count": 72,
   "metadata": {},
   "outputs": [
    {
     "data": {
      "text/plain": [
       "6-element Vector{Float64}:\n",
       "  0.7737827381561798\n",
       "  0.1904358312681018\n",
       " -1.4722241298108623\n",
       "  0.6415973785182231\n",
       " -0.32602069914291654\n",
       "  1.1863917084591251"
      ]
     },
     "metadata": {},
     "output_type": "display_data"
    }
   ],
   "source": [
    "gauss = resolver_sistema(A, b)"
   ]
  },
  {
   "cell_type": "code",
   "execution_count": 73,
   "metadata": {},
   "outputs": [
    {
     "data": {
      "text/plain": [
       "6-element Vector{Float64}:\n",
       "  0.7737827381561798\n",
       "  0.1904358312681018\n",
       " -1.4722241298108623\n",
       "  0.6415973785182231\n",
       " -0.32602069914291654\n",
       "  1.1863917084591251"
      ]
     },
     "metadata": {},
     "output_type": "display_data"
    }
   ],
   "source": [
    "Pb = X[3] * b \n",
    "y = sis_triang_inf(X[1], Pb)\n",
    "x = sis_triang_sup(X[2], y)"
   ]
  },
  {
   "cell_type": "code",
   "execution_count": 75,
   "metadata": {},
   "outputs": [
    {
     "data": {
      "text/plain": [
       "0.0"
      ]
     },
     "metadata": {},
     "output_type": "display_data"
    }
   ],
   "source": [
    "sum(abs, gauss - x)"
   ]
  },
  {
   "cell_type": "code",
   "execution_count": null,
   "metadata": {},
   "outputs": [],
   "source": []
  }
 ],
 "metadata": {
  "kernelspec": {
   "display_name": "Julia 1.7.1",
   "language": "julia",
   "name": "julia-1.7"
  },
  "language_info": {
   "file_extension": ".jl",
   "mimetype": "application/julia",
   "name": "julia",
   "version": "1.7.1"
  },
  "orig_nbformat": 4
 },
 "nbformat": 4,
 "nbformat_minor": 2
}
