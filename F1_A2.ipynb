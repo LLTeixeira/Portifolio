{
 "cells": [
  {
   "cell_type": "code",
   "execution_count": null,
   "metadata": {},
   "outputs": [],
   "source": [
    "#using Pkg\n",
    "#Pkg.installed()"
   ]
  },
  {
   "cell_type": "code",
   "execution_count": 1,
   "metadata": {},
   "outputs": [],
   "source": [
    "using CSV\n",
    "using DataFrames"
   ]
  },
  {
   "cell_type": "code",
   "execution_count": 8,
   "metadata": {},
   "outputs": [
    {
     "data": {
      "text/html": [
       "<div class=\"data-frame\"><p>526,450 rows × 6 columns</p><table class=\"data-frame\"><thead><tr><th></th><th>raceId</th><th>driverId</th><th>lap</th><th>position</th><th>time</th><th>milliseconds</th></tr><tr><th></th><th title=\"Int64\">Int64</th><th title=\"Int64\">Int64</th><th title=\"Int64\">Int64</th><th title=\"Int64\">Int64</th><th title=\"String\">String</th><th title=\"Int64\">Int64</th></tr></thead><tbody><tr><th>1</th><td>841</td><td>20</td><td>1</td><td>1</td><td>1:38.109</td><td>98109</td></tr><tr><th>2</th><td>841</td><td>20</td><td>2</td><td>1</td><td>1:33.006</td><td>93006</td></tr><tr><th>3</th><td>841</td><td>20</td><td>3</td><td>1</td><td>1:32.713</td><td>92713</td></tr><tr><th>4</th><td>841</td><td>20</td><td>4</td><td>1</td><td>1:32.803</td><td>92803</td></tr><tr><th>5</th><td>841</td><td>20</td><td>5</td><td>1</td><td>1:32.342</td><td>92342</td></tr><tr><th>6</th><td>841</td><td>20</td><td>6</td><td>1</td><td>1:32.605</td><td>92605</td></tr><tr><th>7</th><td>841</td><td>20</td><td>7</td><td>1</td><td>1:32.502</td><td>92502</td></tr><tr><th>8</th><td>841</td><td>20</td><td>8</td><td>1</td><td>1:32.537</td><td>92537</td></tr><tr><th>9</th><td>841</td><td>20</td><td>9</td><td>1</td><td>1:33.240</td><td>93240</td></tr><tr><th>10</th><td>841</td><td>20</td><td>10</td><td>1</td><td>1:32.572</td><td>92572</td></tr><tr><th>11</th><td>841</td><td>20</td><td>11</td><td>1</td><td>1:32.669</td><td>92669</td></tr><tr><th>12</th><td>841</td><td>20</td><td>12</td><td>1</td><td>1:32.902</td><td>92902</td></tr><tr><th>13</th><td>841</td><td>20</td><td>13</td><td>1</td><td>1:33.698</td><td>93698</td></tr><tr><th>14</th><td>841</td><td>20</td><td>14</td><td>3</td><td>1:52.075</td><td>112075</td></tr><tr><th>15</th><td>841</td><td>20</td><td>15</td><td>4</td><td>1:38.385</td><td>98385</td></tr><tr><th>16</th><td>841</td><td>20</td><td>16</td><td>2</td><td>1:31.548</td><td>91548</td></tr><tr><th>17</th><td>841</td><td>20</td><td>17</td><td>1</td><td>1:30.800</td><td>90800</td></tr><tr><th>18</th><td>841</td><td>20</td><td>18</td><td>1</td><td>1:31.810</td><td>91810</td></tr><tr><th>19</th><td>841</td><td>20</td><td>19</td><td>1</td><td>1:31.018</td><td>91018</td></tr><tr><th>20</th><td>841</td><td>20</td><td>20</td><td>1</td><td>1:31.055</td><td>91055</td></tr><tr><th>21</th><td>841</td><td>20</td><td>21</td><td>1</td><td>1:31.288</td><td>91288</td></tr><tr><th>22</th><td>841</td><td>20</td><td>22</td><td>1</td><td>1:31.084</td><td>91084</td></tr><tr><th>23</th><td>841</td><td>20</td><td>23</td><td>1</td><td>1:30.875</td><td>90875</td></tr><tr><th>24</th><td>841</td><td>20</td><td>24</td><td>1</td><td>1:32.240</td><td>92240</td></tr><tr><th>&vellip;</th><td>&vellip;</td><td>&vellip;</td><td>&vellip;</td><td>&vellip;</td><td>&vellip;</td><td>&vellip;</td></tr></tbody></table></div>"
      ],
      "text/latex": [
       "\\begin{tabular}{r|cccccc}\n",
       "\t& raceId & driverId & lap & position & time & milliseconds\\\\\n",
       "\t\\hline\n",
       "\t& Int64 & Int64 & Int64 & Int64 & String & Int64\\\\\n",
       "\t\\hline\n",
       "\t1 & 841 & 20 & 1 & 1 & 1:38.109 & 98109 \\\\\n",
       "\t2 & 841 & 20 & 2 & 1 & 1:33.006 & 93006 \\\\\n",
       "\t3 & 841 & 20 & 3 & 1 & 1:32.713 & 92713 \\\\\n",
       "\t4 & 841 & 20 & 4 & 1 & 1:32.803 & 92803 \\\\\n",
       "\t5 & 841 & 20 & 5 & 1 & 1:32.342 & 92342 \\\\\n",
       "\t6 & 841 & 20 & 6 & 1 & 1:32.605 & 92605 \\\\\n",
       "\t7 & 841 & 20 & 7 & 1 & 1:32.502 & 92502 \\\\\n",
       "\t8 & 841 & 20 & 8 & 1 & 1:32.537 & 92537 \\\\\n",
       "\t9 & 841 & 20 & 9 & 1 & 1:33.240 & 93240 \\\\\n",
       "\t10 & 841 & 20 & 10 & 1 & 1:32.572 & 92572 \\\\\n",
       "\t11 & 841 & 20 & 11 & 1 & 1:32.669 & 92669 \\\\\n",
       "\t12 & 841 & 20 & 12 & 1 & 1:32.902 & 92902 \\\\\n",
       "\t13 & 841 & 20 & 13 & 1 & 1:33.698 & 93698 \\\\\n",
       "\t14 & 841 & 20 & 14 & 3 & 1:52.075 & 112075 \\\\\n",
       "\t15 & 841 & 20 & 15 & 4 & 1:38.385 & 98385 \\\\\n",
       "\t16 & 841 & 20 & 16 & 2 & 1:31.548 & 91548 \\\\\n",
       "\t17 & 841 & 20 & 17 & 1 & 1:30.800 & 90800 \\\\\n",
       "\t18 & 841 & 20 & 18 & 1 & 1:31.810 & 91810 \\\\\n",
       "\t19 & 841 & 20 & 19 & 1 & 1:31.018 & 91018 \\\\\n",
       "\t20 & 841 & 20 & 20 & 1 & 1:31.055 & 91055 \\\\\n",
       "\t21 & 841 & 20 & 21 & 1 & 1:31.288 & 91288 \\\\\n",
       "\t22 & 841 & 20 & 22 & 1 & 1:31.084 & 91084 \\\\\n",
       "\t23 & 841 & 20 & 23 & 1 & 1:30.875 & 90875 \\\\\n",
       "\t24 & 841 & 20 & 24 & 1 & 1:32.240 & 92240 \\\\\n",
       "\t$\\dots$ & $\\dots$ & $\\dots$ & $\\dots$ & $\\dots$ & $\\dots$ & $\\dots$ \\\\\n",
       "\\end{tabular}\n"
      ],
      "text/plain": [
       "\u001b[1m526450×6 DataFrame\u001b[0m\n",
       "\u001b[1m    Row \u001b[0m│\u001b[1m raceId \u001b[0m\u001b[1m driverId \u001b[0m\u001b[1m lap   \u001b[0m\u001b[1m position \u001b[0m\u001b[1m time     \u001b[0m\u001b[1m milliseconds \u001b[0m\n",
       "\u001b[1m        \u001b[0m│\u001b[90m Int64  \u001b[0m\u001b[90m Int64    \u001b[0m\u001b[90m Int64 \u001b[0m\u001b[90m Int64    \u001b[0m\u001b[90m String   \u001b[0m\u001b[90m Int64        \u001b[0m\n",
       "────────┼───────────────────────────────────────────────────────────\n",
       "      1 │    841        20      1         1  1:38.109         98109\n",
       "      2 │    841        20      2         1  1:33.006         93006\n",
       "      3 │    841        20      3         1  1:32.713         92713\n",
       "      4 │    841        20      4         1  1:32.803         92803\n",
       "      5 │    841        20      5         1  1:32.342         92342\n",
       "      6 │    841        20      6         1  1:32.605         92605\n",
       "      7 │    841        20      7         1  1:32.502         92502\n",
       "      8 │    841        20      8         1  1:32.537         92537\n",
       "   ⋮    │   ⋮        ⋮        ⋮       ⋮         ⋮           ⋮\n",
       " 526444 │   1084       815     18        20  1:12.880         72880\n",
       " 526445 │   1084       815     19        20  1:12.977         72977\n",
       " 526446 │   1084       815     20        20  1:12.934         72934\n",
       " 526447 │   1084       815     21        20  1:13.071         73071\n",
       " 526448 │   1084       815     22        20  1:13.540         73540\n",
       " 526449 │   1084       815     23        20  1:14.844         74844\n",
       " 526450 │   1084       815     24        20  1:18.175         78175\n",
       "\u001b[36m                                                 526435 rows omitted\u001b[0m"
      ]
     },
     "metadata": {},
     "output_type": "display_data"
    }
   ],
   "source": [
    "lap_times_raw = DataFrame(CSV.File(\"C:/Users/liber/Documents/GitHub/Portifolio/F1_dataset/lap_times.csv\"))"
   ]
  },
  {
   "cell_type": "code",
   "execution_count": 66,
   "metadata": {},
   "outputs": [
    {
     "data": {
      "text/html": [
       "<div class=\"data-frame\"><p>9,061 rows × 9 columns (omitted printing of 1 columns)</p><table class=\"data-frame\"><thead><tr><th></th><th>qualifyId</th><th>raceId</th><th>driverId</th><th>constructorId</th><th>number</th><th>position</th><th>q1</th><th>q2</th></tr><tr><th></th><th title=\"Int64\">Int64</th><th title=\"Int64\">Int64</th><th title=\"Int64\">Int64</th><th title=\"Int64\">Int64</th><th title=\"Int64\">Int64</th><th title=\"Int64\">Int64</th><th title=\"String\">String</th><th title=\"String\">String</th></tr></thead><tbody><tr><th>1</th><td>1</td><td>18</td><td>1</td><td>1</td><td>22</td><td>1</td><td>1:26.572</td><td>1:25.187</td></tr><tr><th>2</th><td>2</td><td>18</td><td>9</td><td>2</td><td>4</td><td>2</td><td>1:26.103</td><td>1:25.315</td></tr><tr><th>3</th><td>3</td><td>18</td><td>5</td><td>1</td><td>23</td><td>3</td><td>1:25.664</td><td>1:25.452</td></tr><tr><th>4</th><td>4</td><td>18</td><td>13</td><td>6</td><td>2</td><td>4</td><td>1:25.994</td><td>1:25.691</td></tr><tr><th>5</th><td>5</td><td>18</td><td>2</td><td>2</td><td>3</td><td>5</td><td>1:25.960</td><td>1:25.518</td></tr><tr><th>6</th><td>6</td><td>18</td><td>15</td><td>7</td><td>11</td><td>6</td><td>1:26.427</td><td>1:26.101</td></tr><tr><th>7</th><td>7</td><td>18</td><td>3</td><td>3</td><td>7</td><td>7</td><td>1:26.295</td><td>1:26.059</td></tr><tr><th>8</th><td>8</td><td>18</td><td>14</td><td>9</td><td>9</td><td>8</td><td>1:26.381</td><td>1:26.063</td></tr><tr><th>9</th><td>9</td><td>18</td><td>10</td><td>7</td><td>12</td><td>9</td><td>1:26.919</td><td>1:26.164</td></tr><tr><th>10</th><td>10</td><td>18</td><td>20</td><td>5</td><td>15</td><td>10</td><td>1:26.702</td><td>1:25.842</td></tr><tr><th>11</th><td>11</td><td>18</td><td>22</td><td>11</td><td>17</td><td>11</td><td>1:26.369</td><td>1:26.173</td></tr><tr><th>12</th><td>12</td><td>18</td><td>4</td><td>4</td><td>5</td><td>12</td><td>1:26.907</td><td>1:26.188</td></tr><tr><th>13</th><td>13</td><td>18</td><td>18</td><td>11</td><td>16</td><td>13</td><td>1:26.712</td><td>1:26.259</td></tr><tr><th>14</th><td>14</td><td>18</td><td>6</td><td>3</td><td>8</td><td>14</td><td>1:26.891</td><td>1:26.413</td></tr><tr><th>15</th><td>15</td><td>18</td><td>17</td><td>9</td><td>10</td><td>15</td><td>1:26.914</td><td>\\\\N</td></tr><tr><th>16</th><td>16</td><td>18</td><td>8</td><td>6</td><td>1</td><td>16</td><td>1:26.140</td><td>\\\\N</td></tr><tr><th>17</th><td>17</td><td>18</td><td>21</td><td>10</td><td>21</td><td>17</td><td>1:27.207</td><td>\\\\N</td></tr><tr><th>18</th><td>18</td><td>18</td><td>7</td><td>5</td><td>14</td><td>18</td><td>1:27.446</td><td>\\\\N</td></tr><tr><th>19</th><td>19</td><td>18</td><td>16</td><td>10</td><td>20</td><td>19</td><td>1:27.859</td><td>\\\\N</td></tr><tr><th>20</th><td>20</td><td>18</td><td>11</td><td>8</td><td>18</td><td>20</td><td>1:28.208</td><td>\\\\N</td></tr><tr><th>21</th><td>21</td><td>18</td><td>12</td><td>4</td><td>6</td><td>21</td><td>1:28.330</td><td>\\\\N</td></tr><tr><th>22</th><td>22</td><td>18</td><td>19</td><td>8</td><td>19</td><td>22</td><td>1:29.059</td><td>\\\\N</td></tr><tr><th>23</th><td>23</td><td>19</td><td>13</td><td>6</td><td>2</td><td>1</td><td>1:35.347</td><td>1:34.412</td></tr><tr><th>24</th><td>24</td><td>19</td><td>8</td><td>6</td><td>1</td><td>2</td><td>1:35.645</td><td>1:34.188</td></tr><tr><th>&vellip;</th><td>&vellip;</td><td>&vellip;</td><td>&vellip;</td><td>&vellip;</td><td>&vellip;</td><td>&vellip;</td><td>&vellip;</td><td>&vellip;</td></tr></tbody></table></div>"
      ],
      "text/latex": [
       "\\begin{tabular}{r|ccccccccc}\n",
       "\t& qualifyId & raceId & driverId & constructorId & number & position & q1 & q2 & \\\\\n",
       "\t\\hline\n",
       "\t& Int64 & Int64 & Int64 & Int64 & Int64 & Int64 & String & String & \\\\\n",
       "\t\\hline\n",
       "\t1 & 1 & 18 & 1 & 1 & 22 & 1 & 1:26.572 & 1:25.187 & $\\dots$ \\\\\n",
       "\t2 & 2 & 18 & 9 & 2 & 4 & 2 & 1:26.103 & 1:25.315 & $\\dots$ \\\\\n",
       "\t3 & 3 & 18 & 5 & 1 & 23 & 3 & 1:25.664 & 1:25.452 & $\\dots$ \\\\\n",
       "\t4 & 4 & 18 & 13 & 6 & 2 & 4 & 1:25.994 & 1:25.691 & $\\dots$ \\\\\n",
       "\t5 & 5 & 18 & 2 & 2 & 3 & 5 & 1:25.960 & 1:25.518 & $\\dots$ \\\\\n",
       "\t6 & 6 & 18 & 15 & 7 & 11 & 6 & 1:26.427 & 1:26.101 & $\\dots$ \\\\\n",
       "\t7 & 7 & 18 & 3 & 3 & 7 & 7 & 1:26.295 & 1:26.059 & $\\dots$ \\\\\n",
       "\t8 & 8 & 18 & 14 & 9 & 9 & 8 & 1:26.381 & 1:26.063 & $\\dots$ \\\\\n",
       "\t9 & 9 & 18 & 10 & 7 & 12 & 9 & 1:26.919 & 1:26.164 & $\\dots$ \\\\\n",
       "\t10 & 10 & 18 & 20 & 5 & 15 & 10 & 1:26.702 & 1:25.842 & $\\dots$ \\\\\n",
       "\t11 & 11 & 18 & 22 & 11 & 17 & 11 & 1:26.369 & 1:26.173 & $\\dots$ \\\\\n",
       "\t12 & 12 & 18 & 4 & 4 & 5 & 12 & 1:26.907 & 1:26.188 & $\\dots$ \\\\\n",
       "\t13 & 13 & 18 & 18 & 11 & 16 & 13 & 1:26.712 & 1:26.259 & $\\dots$ \\\\\n",
       "\t14 & 14 & 18 & 6 & 3 & 8 & 14 & 1:26.891 & 1:26.413 & $\\dots$ \\\\\n",
       "\t15 & 15 & 18 & 17 & 9 & 10 & 15 & 1:26.914 & \\textbackslash{}\\textbackslash{}N & $\\dots$ \\\\\n",
       "\t16 & 16 & 18 & 8 & 6 & 1 & 16 & 1:26.140 & \\textbackslash{}\\textbackslash{}N & $\\dots$ \\\\\n",
       "\t17 & 17 & 18 & 21 & 10 & 21 & 17 & 1:27.207 & \\textbackslash{}\\textbackslash{}N & $\\dots$ \\\\\n",
       "\t18 & 18 & 18 & 7 & 5 & 14 & 18 & 1:27.446 & \\textbackslash{}\\textbackslash{}N & $\\dots$ \\\\\n",
       "\t19 & 19 & 18 & 16 & 10 & 20 & 19 & 1:27.859 & \\textbackslash{}\\textbackslash{}N & $\\dots$ \\\\\n",
       "\t20 & 20 & 18 & 11 & 8 & 18 & 20 & 1:28.208 & \\textbackslash{}\\textbackslash{}N & $\\dots$ \\\\\n",
       "\t21 & 21 & 18 & 12 & 4 & 6 & 21 & 1:28.330 & \\textbackslash{}\\textbackslash{}N & $\\dots$ \\\\\n",
       "\t22 & 22 & 18 & 19 & 8 & 19 & 22 & 1:29.059 & \\textbackslash{}\\textbackslash{}N & $\\dots$ \\\\\n",
       "\t23 & 23 & 19 & 13 & 6 & 2 & 1 & 1:35.347 & 1:34.412 & $\\dots$ \\\\\n",
       "\t24 & 24 & 19 & 8 & 6 & 1 & 2 & 1:35.645 & 1:34.188 & $\\dots$ \\\\\n",
       "\t$\\dots$ & $\\dots$ & $\\dots$ & $\\dots$ & $\\dots$ & $\\dots$ & $\\dots$ & $\\dots$ & $\\dots$ &  \\\\\n",
       "\\end{tabular}\n"
      ],
      "text/plain": [
       "\u001b[1m9061×9 DataFrame\u001b[0m\n",
       "\u001b[1m  Row \u001b[0m│\u001b[1m qualifyId \u001b[0m\u001b[1m raceId \u001b[0m\u001b[1m driverId \u001b[0m\u001b[1m constructorId \u001b[0m\u001b[1m number \u001b[0m\u001b[1m position \u001b[0m\u001b[1m q1      \u001b[0m ⋯\n",
       "\u001b[1m      \u001b[0m│\u001b[90m Int64     \u001b[0m\u001b[90m Int64  \u001b[0m\u001b[90m Int64    \u001b[0m\u001b[90m Int64         \u001b[0m\u001b[90m Int64  \u001b[0m\u001b[90m Int64    \u001b[0m\u001b[90m String  \u001b[0m ⋯\n",
       "──────┼─────────────────────────────────────────────────────────────────────────\n",
       "    1 │         1      18         1              1      22         1  1:26.572 ⋯\n",
       "    2 │         2      18         9              2       4         2  1:26.103\n",
       "    3 │         3      18         5              1      23         3  1:25.664\n",
       "    4 │         4      18        13              6       2         4  1:25.994\n",
       "    5 │         5      18         2              2       3         5  1:25.960 ⋯\n",
       "    6 │         6      18        15              7      11         6  1:26.427\n",
       "    7 │         7      18         3              3       7         7  1:26.295\n",
       "    8 │         8      18        14              9       9         8  1:26.381\n",
       "  ⋮   │     ⋮        ⋮        ⋮            ⋮          ⋮        ⋮         ⋮     ⋱\n",
       " 9055 │      9406    1084       852            213      22        14  1:06.463 ⋯\n",
       " 9056 │      9407    1084       846              1       4        15  1:06.330\n",
       " 9057 │      9408    1084       817              1       3        16  1:06.613\n",
       " 9058 │      9409    1084       840            117      18        17  1:06.847\n",
       " 9059 │      9410    1084       855             51      24        18  1:06.901 ⋯\n",
       " 9060 │      9411    1084       849              3       6        19  1:07.003\n",
       " 9061 │      9412    1084        20            117       5        20  1:07.083\n",
       "\u001b[36m                                                 2 columns and 9046 rows omitted\u001b[0m"
      ]
     },
     "metadata": {},
     "output_type": "display_data"
    }
   ],
   "source": [
    "races = DataFrame(CSV.File(\"C:/Users/liber/Documents/GitHub/Portifolio/F1_dataset/races.csv\"));\n",
    "qualis = DataFrame(CSV.File(\"C:/Users/liber/Documents/GitHub/Portifolio/F1_dataset/qualifying.csv\"))\n",
    "dropmissing!(qualis)"
   ]
  },
  {
   "cell_type": "code",
   "execution_count": 31,
   "metadata": {},
   "outputs": [
    {
     "data": {
      "text/html": [
       "<div class=\"data-frame\"><p>87,959 rows × 22 columns (omitted printing of 13 columns)</p><table class=\"data-frame\"><thead><tr><th></th><th>raceId</th><th>driverId</th><th>lap</th><th>position</th><th>time</th><th>milliseconds</th><th>year</th><th>round</th><th>circuitId</th></tr><tr><th></th><th title=\"Int64\">Int64</th><th title=\"Int64\">Int64</th><th title=\"Int64\">Int64</th><th title=\"Int64\">Int64</th><th title=\"String\">String</th><th title=\"Int64\">Int64</th><th title=\"Int64\">Int64</th><th title=\"Int64\">Int64</th><th title=\"Int64\">Int64</th></tr></thead><tbody><tr><th>1</th><td>989</td><td>843</td><td>57</td><td>15</td><td>1:28.176</td><td>88176</td><td>2018</td><td>1</td><td>1</td></tr><tr><th>2</th><td>989</td><td>843</td><td>56</td><td>15</td><td>1:28.493</td><td>88493</td><td>2018</td><td>1</td><td>1</td></tr><tr><th>3</th><td>989</td><td>843</td><td>55</td><td>15</td><td>1:28.326</td><td>88326</td><td>2018</td><td>1</td><td>1</td></tr><tr><th>4</th><td>989</td><td>843</td><td>54</td><td>15</td><td>1:28.255</td><td>88255</td><td>2018</td><td>1</td><td>1</td></tr><tr><th>5</th><td>989</td><td>843</td><td>53</td><td>15</td><td>1:28.298</td><td>88298</td><td>2018</td><td>1</td><td>1</td></tr><tr><th>6</th><td>989</td><td>843</td><td>52</td><td>15</td><td>1:28.681</td><td>88681</td><td>2018</td><td>1</td><td>1</td></tr><tr><th>7</th><td>989</td><td>843</td><td>51</td><td>15</td><td>1:29.193</td><td>89193</td><td>2018</td><td>1</td><td>1</td></tr><tr><th>8</th><td>989</td><td>843</td><td>50</td><td>15</td><td>1:32.205</td><td>92205</td><td>2018</td><td>1</td><td>1</td></tr><tr><th>9</th><td>989</td><td>843</td><td>49</td><td>15</td><td>1:30.014</td><td>90014</td><td>2018</td><td>1</td><td>1</td></tr><tr><th>10</th><td>989</td><td>843</td><td>48</td><td>15</td><td>1:33.670</td><td>93670</td><td>2018</td><td>1</td><td>1</td></tr><tr><th>11</th><td>989</td><td>843</td><td>47</td><td>15</td><td>1:29.360</td><td>89360</td><td>2018</td><td>1</td><td>1</td></tr><tr><th>12</th><td>989</td><td>843</td><td>46</td><td>15</td><td>1:29.353</td><td>89353</td><td>2018</td><td>1</td><td>1</td></tr><tr><th>13</th><td>989</td><td>843</td><td>45</td><td>15</td><td>1:29.347</td><td>89347</td><td>2018</td><td>1</td><td>1</td></tr><tr><th>14</th><td>989</td><td>843</td><td>44</td><td>15</td><td>1:29.400</td><td>89400</td><td>2018</td><td>1</td><td>1</td></tr><tr><th>15</th><td>989</td><td>843</td><td>43</td><td>15</td><td>1:29.756</td><td>89756</td><td>2018</td><td>1</td><td>1</td></tr><tr><th>16</th><td>989</td><td>843</td><td>42</td><td>15</td><td>1:29.867</td><td>89867</td><td>2018</td><td>1</td><td>1</td></tr><tr><th>17</th><td>989</td><td>843</td><td>41</td><td>15</td><td>1:29.928</td><td>89928</td><td>2018</td><td>1</td><td>1</td></tr><tr><th>18</th><td>989</td><td>843</td><td>40</td><td>15</td><td>1:30.010</td><td>90010</td><td>2018</td><td>1</td><td>1</td></tr><tr><th>19</th><td>989</td><td>843</td><td>39</td><td>15</td><td>1:29.676</td><td>89676</td><td>2018</td><td>1</td><td>1</td></tr><tr><th>20</th><td>989</td><td>843</td><td>38</td><td>15</td><td>1:30.088</td><td>90088</td><td>2018</td><td>1</td><td>1</td></tr><tr><th>21</th><td>989</td><td>843</td><td>37</td><td>15</td><td>1:30.289</td><td>90289</td><td>2018</td><td>1</td><td>1</td></tr><tr><th>22</th><td>989</td><td>843</td><td>36</td><td>15</td><td>1:30.434</td><td>90434</td><td>2018</td><td>1</td><td>1</td></tr><tr><th>23</th><td>989</td><td>843</td><td>35</td><td>15</td><td>1:30.592</td><td>90592</td><td>2018</td><td>1</td><td>1</td></tr><tr><th>24</th><td>989</td><td>843</td><td>34</td><td>15</td><td>1:30.687</td><td>90687</td><td>2018</td><td>1</td><td>1</td></tr><tr><th>&vellip;</th><td>&vellip;</td><td>&vellip;</td><td>&vellip;</td><td>&vellip;</td><td>&vellip;</td><td>&vellip;</td><td>&vellip;</td><td>&vellip;</td><td>&vellip;</td></tr></tbody></table></div>"
      ],
      "text/latex": [
       "\\begin{tabular}{r|cccccccccc}\n",
       "\t& raceId & driverId & lap & position & time & milliseconds & year & round & circuitId & \\\\\n",
       "\t\\hline\n",
       "\t& Int64 & Int64 & Int64 & Int64 & String & Int64 & Int64 & Int64 & Int64 & \\\\\n",
       "\t\\hline\n",
       "\t1 & 989 & 843 & 57 & 15 & 1:28.176 & 88176 & 2018 & 1 & 1 & $\\dots$ \\\\\n",
       "\t2 & 989 & 843 & 56 & 15 & 1:28.493 & 88493 & 2018 & 1 & 1 & $\\dots$ \\\\\n",
       "\t3 & 989 & 843 & 55 & 15 & 1:28.326 & 88326 & 2018 & 1 & 1 & $\\dots$ \\\\\n",
       "\t4 & 989 & 843 & 54 & 15 & 1:28.255 & 88255 & 2018 & 1 & 1 & $\\dots$ \\\\\n",
       "\t5 & 989 & 843 & 53 & 15 & 1:28.298 & 88298 & 2018 & 1 & 1 & $\\dots$ \\\\\n",
       "\t6 & 989 & 843 & 52 & 15 & 1:28.681 & 88681 & 2018 & 1 & 1 & $\\dots$ \\\\\n",
       "\t7 & 989 & 843 & 51 & 15 & 1:29.193 & 89193 & 2018 & 1 & 1 & $\\dots$ \\\\\n",
       "\t8 & 989 & 843 & 50 & 15 & 1:32.205 & 92205 & 2018 & 1 & 1 & $\\dots$ \\\\\n",
       "\t9 & 989 & 843 & 49 & 15 & 1:30.014 & 90014 & 2018 & 1 & 1 & $\\dots$ \\\\\n",
       "\t10 & 989 & 843 & 48 & 15 & 1:33.670 & 93670 & 2018 & 1 & 1 & $\\dots$ \\\\\n",
       "\t11 & 989 & 843 & 47 & 15 & 1:29.360 & 89360 & 2018 & 1 & 1 & $\\dots$ \\\\\n",
       "\t12 & 989 & 843 & 46 & 15 & 1:29.353 & 89353 & 2018 & 1 & 1 & $\\dots$ \\\\\n",
       "\t13 & 989 & 843 & 45 & 15 & 1:29.347 & 89347 & 2018 & 1 & 1 & $\\dots$ \\\\\n",
       "\t14 & 989 & 843 & 44 & 15 & 1:29.400 & 89400 & 2018 & 1 & 1 & $\\dots$ \\\\\n",
       "\t15 & 989 & 843 & 43 & 15 & 1:29.756 & 89756 & 2018 & 1 & 1 & $\\dots$ \\\\\n",
       "\t16 & 989 & 843 & 42 & 15 & 1:29.867 & 89867 & 2018 & 1 & 1 & $\\dots$ \\\\\n",
       "\t17 & 989 & 843 & 41 & 15 & 1:29.928 & 89928 & 2018 & 1 & 1 & $\\dots$ \\\\\n",
       "\t18 & 989 & 843 & 40 & 15 & 1:30.010 & 90010 & 2018 & 1 & 1 & $\\dots$ \\\\\n",
       "\t19 & 989 & 843 & 39 & 15 & 1:29.676 & 89676 & 2018 & 1 & 1 & $\\dots$ \\\\\n",
       "\t20 & 989 & 843 & 38 & 15 & 1:30.088 & 90088 & 2018 & 1 & 1 & $\\dots$ \\\\\n",
       "\t21 & 989 & 843 & 37 & 15 & 1:30.289 & 90289 & 2018 & 1 & 1 & $\\dots$ \\\\\n",
       "\t22 & 989 & 843 & 36 & 15 & 1:30.434 & 90434 & 2018 & 1 & 1 & $\\dots$ \\\\\n",
       "\t23 & 989 & 843 & 35 & 15 & 1:30.592 & 90592 & 2018 & 1 & 1 & $\\dots$ \\\\\n",
       "\t24 & 989 & 843 & 34 & 15 & 1:30.687 & 90687 & 2018 & 1 & 1 & $\\dots$ \\\\\n",
       "\t$\\dots$ & $\\dots$ & $\\dots$ & $\\dots$ & $\\dots$ & $\\dots$ & $\\dots$ & $\\dots$ & $\\dots$ & $\\dots$ &  \\\\\n",
       "\\end{tabular}\n"
      ],
      "text/plain": [
       "\u001b[1m87959×22 DataFrame\u001b[0m\n",
       "\u001b[1m   Row \u001b[0m│\u001b[1m raceId \u001b[0m\u001b[1m driverId \u001b[0m\u001b[1m lap   \u001b[0m\u001b[1m position \u001b[0m\u001b[1m time     \u001b[0m\u001b[1m milliseconds \u001b[0m\u001b[1m year  \u001b[0m\u001b[1m rou\u001b[0m ⋯\n",
       "\u001b[1m       \u001b[0m│\u001b[90m Int64  \u001b[0m\u001b[90m Int64    \u001b[0m\u001b[90m Int64 \u001b[0m\u001b[90m Int64    \u001b[0m\u001b[90m String   \u001b[0m\u001b[90m Int64        \u001b[0m\u001b[90m Int64 \u001b[0m\u001b[90m Int\u001b[0m ⋯\n",
       "───────┼────────────────────────────────────────────────────────────────────────\n",
       "     1 │    989       843     57        15  1:28.176         88176   2018      ⋯\n",
       "     2 │    989       843     56        15  1:28.493         88493   2018\n",
       "     3 │    989       843     55        15  1:28.326         88326   2018\n",
       "     4 │    989       843     54        15  1:28.255         88255   2018\n",
       "     5 │    989       843     53        15  1:28.298         88298   2018      ⋯\n",
       "     6 │    989       843     52        15  1:28.681         88681   2018\n",
       "     7 │    989       843     51        15  1:29.193         89193   2018\n",
       "     8 │    989       843     50        15  1:32.205         92205   2018\n",
       "   ⋮   │   ⋮        ⋮        ⋮       ⋮         ⋮           ⋮          ⋮      ⋮ ⋱\n",
       " 87953 │   1073       847     20        17  1:32.053         92053   2021      ⋯\n",
       " 87954 │   1073       847     21        17  1:31.065         91065   2021\n",
       " 87955 │   1073       847     22        15  1:30.821         90821   2021\n",
       " 87956 │   1073       847     23        15  1:30.647         90647   2021\n",
       " 87957 │   1073       847     24        14  1:31.577         91577   2021      ⋯\n",
       " 87958 │   1073       847     25        16  1:32.794         92794   2021\n",
       " 87959 │   1073       847     26        18  2:46.262        166262   2021\n",
       "\u001b[36m                                               15 columns and 87944 rows omitted\u001b[0m"
      ]
     },
     "metadata": {},
     "output_type": "display_data"
    }
   ],
   "source": [
    "races_period = races[2018 .<= races.year .<= 2021, :]\n",
    "races_period = select(races_period, Not(:time));\n",
    "dados = innerjoin(lap_times_raw, races_period, on = :raceId)"
   ]
  },
  {
   "cell_type": "code",
   "execution_count": 67,
   "metadata": {},
   "outputs": [
    {
     "data": {
      "text/html": [
       "<div class=\"data-frame\"><p>436 rows × 2 columns</p><table class=\"data-frame\"><thead><tr><th></th><th>raceId</th><th>q3</th></tr><tr><th></th><th title=\"Int64\">Int64</th><th title=\"String\">String</th></tr></thead><tbody><tr><th>1</th><td>18</td><td>1:26.714</td></tr><tr><th>2</th><td>19</td><td>1:35.748</td></tr><tr><th>3</th><td>20</td><td>1:33.096</td></tr><tr><th>4</th><td>21</td><td>1:21.813</td></tr><tr><th>5</th><td>22</td><td>1:27.617</td></tr><tr><th>6</th><td>23</td><td>1:15.787</td></tr><tr><th>7</th><td>24</td><td>1:17.886</td></tr><tr><th>8</th><td>25</td><td>1:16.449</td></tr><tr><th>9</th><td>26</td><td>1:21.049</td></tr><tr><th>10</th><td>27</td><td>1:15.666</td></tr><tr><th>11</th><td>28</td><td>1:20.899</td></tr><tr><th>12</th><td>29</td><td>1:38.989</td></tr><tr><th>13</th><td>30</td><td>1:47.338</td></tr><tr><th>14</th><td>31</td><td>1:37.555</td></tr><tr><th>15</th><td>32</td><td>1:44.801</td></tr><tr><th>16</th><td>33</td><td>1:18.404</td></tr><tr><th>17</th><td>34</td><td>1:36.303</td></tr><tr><th>18</th><td>35</td><td>1:12.368</td></tr><tr><th>19</th><td>36</td><td>1:26.072</td></tr><tr><th>20</th><td>37</td><td>1:35.043</td></tr><tr><th>21</th><td>38</td><td>1:32.652</td></tr><tr><th>22</th><td>39</td><td>1:21.421</td></tr><tr><th>23</th><td>40</td><td>1:15.726</td></tr><tr><th>24</th><td>41</td><td>1:15.707</td></tr><tr><th>&vellip;</th><td>&vellip;</td><td>&vellip;</td></tr></tbody></table></div>"
      ],
      "text/latex": [
       "\\begin{tabular}{r|cc}\n",
       "\t& raceId & q3\\\\\n",
       "\t\\hline\n",
       "\t& Int64 & String\\\\\n",
       "\t\\hline\n",
       "\t1 & 18 & 1:26.714 \\\\\n",
       "\t2 & 19 & 1:35.748 \\\\\n",
       "\t3 & 20 & 1:33.096 \\\\\n",
       "\t4 & 21 & 1:21.813 \\\\\n",
       "\t5 & 22 & 1:27.617 \\\\\n",
       "\t6 & 23 & 1:15.787 \\\\\n",
       "\t7 & 24 & 1:17.886 \\\\\n",
       "\t8 & 25 & 1:16.449 \\\\\n",
       "\t9 & 26 & 1:21.049 \\\\\n",
       "\t10 & 27 & 1:15.666 \\\\\n",
       "\t11 & 28 & 1:20.899 \\\\\n",
       "\t12 & 29 & 1:38.989 \\\\\n",
       "\t13 & 30 & 1:47.338 \\\\\n",
       "\t14 & 31 & 1:37.555 \\\\\n",
       "\t15 & 32 & 1:44.801 \\\\\n",
       "\t16 & 33 & 1:18.404 \\\\\n",
       "\t17 & 34 & 1:36.303 \\\\\n",
       "\t18 & 35 & 1:12.368 \\\\\n",
       "\t19 & 36 & 1:26.072 \\\\\n",
       "\t20 & 37 & 1:35.043 \\\\\n",
       "\t21 & 38 & 1:32.652 \\\\\n",
       "\t22 & 39 & 1:21.421 \\\\\n",
       "\t23 & 40 & 1:15.726 \\\\\n",
       "\t24 & 41 & 1:15.707 \\\\\n",
       "\t$\\dots$ & $\\dots$ & $\\dots$ \\\\\n",
       "\\end{tabular}\n"
      ],
      "text/plain": [
       "\u001b[1m436×2 DataFrame\u001b[0m\n",
       "\u001b[1m Row \u001b[0m│\u001b[1m raceId \u001b[0m\u001b[1m q3       \u001b[0m\n",
       "\u001b[1m     \u001b[0m│\u001b[90m Int64  \u001b[0m\u001b[90m String   \u001b[0m\n",
       "─────┼──────────────────\n",
       "   1 │     18  1:26.714\n",
       "   2 │     19  1:35.748\n",
       "   3 │     20  1:33.096\n",
       "   4 │     21  1:21.813\n",
       "   5 │     22  1:27.617\n",
       "   6 │     23  1:15.787\n",
       "   7 │     24  1:17.886\n",
       "   8 │     25  1:16.449\n",
       "  ⋮  │   ⋮        ⋮\n",
       " 430 │   1078  1:28.796\n",
       " 431 │   1079  1:18.750\n",
       " 432 │   1080  1:11.376\n",
       " 433 │   1081  1:41.359\n",
       " 434 │   1082  1:21.299\n",
       " 435 │   1083  1:40.983\n",
       " 436 │   1084  1:04.984\n",
       "\u001b[36m        421 rows omitted\u001b[0m"
      ]
     },
     "metadata": {},
     "output_type": "display_data"
    }
   ],
   "source": [
    "qualis = qualis[(qualis.position .== 1), :]\n",
    "qualis = qualis[:, [:raceId, :q3]]"
   ]
  },
  {
   "cell_type": "code",
   "execution_count": 72,
   "metadata": {},
   "outputs": [
    {
     "data": {
      "text/plain": [
       "converter (generic function with 1 method)"
      ]
     },
     "metadata": {},
     "output_type": "display_data"
    }
   ],
   "source": [
    "v = \"1:15.666\"\n",
    "v[(end-2):end]\n",
    "function converter(string)\n",
    "    try\n",
    "        numero = split(string, \":\")\n",
    "        min = parse(Float64, numero[1])\n",
    "        sec = parse(Float64, numero[2])\n",
    "        total = sec*1000 + min*60*1000\n",
    "        return total\n",
    "    catch\n",
    "        return 0\n",
    "    end\n",
    "end"
   ]
  },
  {
   "cell_type": "code",
   "execution_count": 73,
   "metadata": {},
   "outputs": [
    {
     "data": {
      "text/plain": [
       "436-element Vector{Float64}:\n",
       " 0.0\n",
       " 0.0\n",
       " 0.0\n",
       " 0.0\n",
       " 0.0\n",
       " 0.0\n",
       " 0.0\n",
       " 0.0\n",
       " 0.0\n",
       " 0.0\n",
       " ⋮\n",
       " 0.0\n",
       " 0.0\n",
       " 0.0\n",
       " 0.0\n",
       " 0.0\n",
       " 0.0\n",
       " 0.0\n",
       " 0.0\n",
       " 0.0"
      ]
     },
     "metadata": {},
     "output_type": "display_data"
    }
   ],
   "source": [
    "qualis.PACE = zeros(436)"
   ]
  },
  {
   "cell_type": "code",
   "execution_count": 69,
   "metadata": {},
   "outputs": [
    {
     "data": {
      "text/plain": [
       "75666.0"
      ]
     },
     "metadata": {},
     "output_type": "display_data"
    }
   ],
   "source": [
    "converter(v)"
   ]
  },
  {
   "cell_type": "code",
   "execution_count": 74,
   "metadata": {},
   "outputs": [
    {
     "data": {
      "text/plain": [
       "436-element Vector{Float64}:\n",
       "  86714.0\n",
       "  95748.0\n",
       "  93096.0\n",
       "  81813.0\n",
       "  87617.0\n",
       "  75787.0\n",
       "  77886.0\n",
       "  76449.0\n",
       "  81049.0\n",
       "  75666.0\n",
       "      ⋮\n",
       "  77868.0\n",
       "  87999.0\n",
       "  88796.0\n",
       "  78750.0\n",
       "  71376.0\n",
       " 101359.0\n",
       "  81299.0\n",
       " 100983.0\n",
       "  64984.0"
      ]
     },
     "metadata": {},
     "output_type": "display_data"
    }
   ],
   "source": [
    "dropmissing!(qualis)\n",
    "map!(converter, qualis.PACE, qualis[:, :q3])"
   ]
  },
  {
   "cell_type": "code",
   "execution_count": 76,
   "metadata": {},
   "outputs": [
    {
     "data": {
      "text/html": [
       "<div class=\"data-frame\"><p>317 rows × 3 columns</p><table class=\"data-frame\"><thead><tr><th></th><th>raceId</th><th>q3</th><th>PACE</th></tr><tr><th></th><th title=\"Int64\">Int64</th><th title=\"String\">String</th><th title=\"Float64\">Float64</th></tr></thead><tbody><tr><th>1</th><td>18</td><td>1:26.714</td><td>86714.0</td></tr><tr><th>2</th><td>19</td><td>1:35.748</td><td>95748.0</td></tr><tr><th>3</th><td>20</td><td>1:33.096</td><td>93096.0</td></tr><tr><th>4</th><td>21</td><td>1:21.813</td><td>81813.0</td></tr><tr><th>5</th><td>22</td><td>1:27.617</td><td>87617.0</td></tr><tr><th>6</th><td>23</td><td>1:15.787</td><td>75787.0</td></tr><tr><th>7</th><td>24</td><td>1:17.886</td><td>77886.0</td></tr><tr><th>8</th><td>25</td><td>1:16.449</td><td>76449.0</td></tr><tr><th>9</th><td>26</td><td>1:21.049</td><td>81049.0</td></tr><tr><th>10</th><td>27</td><td>1:15.666</td><td>75666.0</td></tr><tr><th>11</th><td>28</td><td>1:20.899</td><td>80899.0</td></tr><tr><th>12</th><td>29</td><td>1:38.989</td><td>98989.0</td></tr><tr><th>13</th><td>30</td><td>1:47.338</td><td>107338.0</td></tr><tr><th>14</th><td>31</td><td>1:37.555</td><td>97555.0</td></tr><tr><th>15</th><td>32</td><td>1:44.801</td><td>104801.0</td></tr><tr><th>16</th><td>33</td><td>1:18.404</td><td>78404.0</td></tr><tr><th>17</th><td>34</td><td>1:36.303</td><td>96303.0</td></tr><tr><th>18</th><td>35</td><td>1:12.368</td><td>72368.0</td></tr><tr><th>19</th><td>36</td><td>1:26.072</td><td>86072.0</td></tr><tr><th>20</th><td>37</td><td>1:35.043</td><td>95043.0</td></tr><tr><th>21</th><td>38</td><td>1:32.652</td><td>92652.0</td></tr><tr><th>22</th><td>39</td><td>1:21.421</td><td>81421.0</td></tr><tr><th>23</th><td>40</td><td>1:15.726</td><td>75726.0</td></tr><tr><th>24</th><td>41</td><td>1:15.707</td><td>75707.0</td></tr><tr><th>&vellip;</th><td>&vellip;</td><td>&vellip;</td><td>&vellip;</td></tr></tbody></table></div>"
      ],
      "text/latex": [
       "\\begin{tabular}{r|ccc}\n",
       "\t& raceId & q3 & PACE\\\\\n",
       "\t\\hline\n",
       "\t& Int64 & String & Float64\\\\\n",
       "\t\\hline\n",
       "\t1 & 18 & 1:26.714 & 86714.0 \\\\\n",
       "\t2 & 19 & 1:35.748 & 95748.0 \\\\\n",
       "\t3 & 20 & 1:33.096 & 93096.0 \\\\\n",
       "\t4 & 21 & 1:21.813 & 81813.0 \\\\\n",
       "\t5 & 22 & 1:27.617 & 87617.0 \\\\\n",
       "\t6 & 23 & 1:15.787 & 75787.0 \\\\\n",
       "\t7 & 24 & 1:17.886 & 77886.0 \\\\\n",
       "\t8 & 25 & 1:16.449 & 76449.0 \\\\\n",
       "\t9 & 26 & 1:21.049 & 81049.0 \\\\\n",
       "\t10 & 27 & 1:15.666 & 75666.0 \\\\\n",
       "\t11 & 28 & 1:20.899 & 80899.0 \\\\\n",
       "\t12 & 29 & 1:38.989 & 98989.0 \\\\\n",
       "\t13 & 30 & 1:47.338 & 107338.0 \\\\\n",
       "\t14 & 31 & 1:37.555 & 97555.0 \\\\\n",
       "\t15 & 32 & 1:44.801 & 104801.0 \\\\\n",
       "\t16 & 33 & 1:18.404 & 78404.0 \\\\\n",
       "\t17 & 34 & 1:36.303 & 96303.0 \\\\\n",
       "\t18 & 35 & 1:12.368 & 72368.0 \\\\\n",
       "\t19 & 36 & 1:26.072 & 86072.0 \\\\\n",
       "\t20 & 37 & 1:35.043 & 95043.0 \\\\\n",
       "\t21 & 38 & 1:32.652 & 92652.0 \\\\\n",
       "\t22 & 39 & 1:21.421 & 81421.0 \\\\\n",
       "\t23 & 40 & 1:15.726 & 75726.0 \\\\\n",
       "\t24 & 41 & 1:15.707 & 75707.0 \\\\\n",
       "\t$\\dots$ & $\\dots$ & $\\dots$ & $\\dots$ \\\\\n",
       "\\end{tabular}\n"
      ],
      "text/plain": [
       "\u001b[1m317×3 DataFrame\u001b[0m\n",
       "\u001b[1m Row \u001b[0m│\u001b[1m raceId \u001b[0m\u001b[1m q3       \u001b[0m\u001b[1m PACE     \u001b[0m\n",
       "\u001b[1m     \u001b[0m│\u001b[90m Int64  \u001b[0m\u001b[90m String   \u001b[0m\u001b[90m Float64  \u001b[0m\n",
       "─────┼────────────────────────────\n",
       "   1 │     18  1:26.714   86714.0\n",
       "   2 │     19  1:35.748   95748.0\n",
       "   3 │     20  1:33.096   93096.0\n",
       "   4 │     21  1:21.813   81813.0\n",
       "   5 │     22  1:27.617   87617.0\n",
       "   6 │     23  1:15.787   75787.0\n",
       "   7 │     24  1:17.886   77886.0\n",
       "   8 │     25  1:16.449   76449.0\n",
       "  ⋮  │   ⋮        ⋮         ⋮\n",
       " 311 │   1078  1:28.796   88796.0\n",
       " 312 │   1079  1:18.750   78750.0\n",
       " 313 │   1080  1:11.376   71376.0\n",
       " 314 │   1081  1:41.359  101359.0\n",
       " 315 │   1082  1:21.299   81299.0\n",
       " 316 │   1083  1:40.983  100983.0\n",
       " 317 │   1084  1:04.984   64984.0\n",
       "\u001b[36m                  302 rows omitted\u001b[0m"
      ]
     },
     "metadata": {},
     "output_type": "display_data"
    }
   ],
   "source": [
    "qualis = qualis[qualis.PACE .> 0, :]"
   ]
  },
  {
   "cell_type": "code",
   "execution_count": 31,
   "metadata": {},
   "outputs": [
    {
     "data": {
      "text/plain": [
       "\"C:/Users/liber/Desktop/Stats/3o Semestre/Pacotes/voltas_HAM\""
      ]
     },
     "metadata": {},
     "output_type": "display_data"
    }
   ],
   "source": [
    "voltas_HAM = dados[dados.driverId .== 1, :]\n",
    "CSV.write(\"C:/Users/liber/Desktop/Stats/3o Semestre/Pacotes/voltas_HAM\", voltas_HAM)"
   ]
  },
  {
   "cell_type": "code",
   "execution_count": 18,
   "metadata": {},
   "outputs": [
    {
     "data": {
      "text/html": [
       "<div class=\"data-frame\"><p>854 rows × 9 columns (omitted printing of 2 columns)</p><table class=\"data-frame\"><thead><tr><th></th><th>driverId</th><th>driverRef</th><th>number</th><th>code</th><th>forename</th><th>surname</th><th>dob</th></tr><tr><th></th><th title=\"Int64\">Int64</th><th title=\"String\">String</th><th title=\"String\">String</th><th title=\"String\">String</th><th title=\"String\">String</th><th title=\"String\">String</th><th title=\"Dates.Date\">Date</th></tr></thead><tbody><tr><th>1</th><td>1</td><td>hamilton</td><td>44</td><td>HAM</td><td>Lewis</td><td>Hamilton</td><td>1985-01-07</td></tr><tr><th>2</th><td>2</td><td>heidfeld</td><td>\\\\N</td><td>HEI</td><td>Nick</td><td>Heidfeld</td><td>1977-05-10</td></tr><tr><th>3</th><td>3</td><td>rosberg</td><td>6</td><td>ROS</td><td>Nico</td><td>Rosberg</td><td>1985-06-27</td></tr><tr><th>4</th><td>4</td><td>alonso</td><td>14</td><td>ALO</td><td>Fernando</td><td>Alonso</td><td>1981-07-29</td></tr><tr><th>5</th><td>5</td><td>kovalainen</td><td>\\\\N</td><td>KOV</td><td>Heikki</td><td>Kovalainen</td><td>1981-10-19</td></tr><tr><th>6</th><td>6</td><td>nakajima</td><td>\\\\N</td><td>NAK</td><td>Kazuki</td><td>Nakajima</td><td>1985-01-11</td></tr><tr><th>7</th><td>7</td><td>bourdais</td><td>\\\\N</td><td>BOU</td><td>Sébastien</td><td>Bourdais</td><td>1979-02-28</td></tr><tr><th>8</th><td>8</td><td>raikkonen</td><td>7</td><td>RAI</td><td>Kimi</td><td>Räikkönen</td><td>1979-10-17</td></tr><tr><th>9</th><td>9</td><td>kubica</td><td>88</td><td>KUB</td><td>Robert</td><td>Kubica</td><td>1984-12-07</td></tr><tr><th>10</th><td>10</td><td>glock</td><td>\\\\N</td><td>GLO</td><td>Timo</td><td>Glock</td><td>1982-03-18</td></tr><tr><th>11</th><td>11</td><td>sato</td><td>\\\\N</td><td>SAT</td><td>Takuma</td><td>Sato</td><td>1977-01-28</td></tr><tr><th>12</th><td>12</td><td>piquet_jr</td><td>\\\\N</td><td>PIQ</td><td>Nelson</td><td>Piquet Jr.</td><td>1985-07-25</td></tr><tr><th>13</th><td>13</td><td>massa</td><td>19</td><td>MAS</td><td>Felipe</td><td>Massa</td><td>1981-04-25</td></tr><tr><th>14</th><td>14</td><td>coulthard</td><td>\\\\N</td><td>COU</td><td>David</td><td>Coulthard</td><td>1971-03-27</td></tr><tr><th>15</th><td>15</td><td>trulli</td><td>\\\\N</td><td>TRU</td><td>Jarno</td><td>Trulli</td><td>1974-07-13</td></tr><tr><th>16</th><td>16</td><td>sutil</td><td>99</td><td>SUT</td><td>Adrian</td><td>Sutil</td><td>1983-01-11</td></tr><tr><th>17</th><td>17</td><td>webber</td><td>\\\\N</td><td>WEB</td><td>Mark</td><td>Webber</td><td>1976-08-27</td></tr><tr><th>18</th><td>18</td><td>button</td><td>22</td><td>BUT</td><td>Jenson</td><td>Button</td><td>1980-01-19</td></tr><tr><th>19</th><td>19</td><td>davidson</td><td>\\\\N</td><td>DAV</td><td>Anthony</td><td>Davidson</td><td>1979-04-18</td></tr><tr><th>20</th><td>20</td><td>vettel</td><td>5</td><td>VET</td><td>Sebastian</td><td>Vettel</td><td>1987-07-03</td></tr><tr><th>21</th><td>21</td><td>fisichella</td><td>\\\\N</td><td>FIS</td><td>Giancarlo</td><td>Fisichella</td><td>1973-01-14</td></tr><tr><th>22</th><td>22</td><td>barrichello</td><td>\\\\N</td><td>BAR</td><td>Rubens</td><td>Barrichello</td><td>1972-05-23</td></tr><tr><th>23</th><td>23</td><td>ralf_schumacher</td><td>\\\\N</td><td>SCH</td><td>Ralf</td><td>Schumacher</td><td>1975-06-30</td></tr><tr><th>24</th><td>24</td><td>liuzzi</td><td>\\\\N</td><td>LIU</td><td>Vitantonio</td><td>Liuzzi</td><td>1980-08-06</td></tr><tr><th>&vellip;</th><td>&vellip;</td><td>&vellip;</td><td>&vellip;</td><td>&vellip;</td><td>&vellip;</td><td>&vellip;</td><td>&vellip;</td></tr></tbody></table></div>"
      ],
      "text/latex": [
       "\\begin{tabular}{r|cccccccc}\n",
       "\t& driverId & driverRef & number & code & forename & surname & dob & \\\\\n",
       "\t\\hline\n",
       "\t& Int64 & String & String & String & String & String & Date & \\\\\n",
       "\t\\hline\n",
       "\t1 & 1 & hamilton & 44 & HAM & Lewis & Hamilton & 1985-01-07 & $\\dots$ \\\\\n",
       "\t2 & 2 & heidfeld & \\textbackslash{}\\textbackslash{}N & HEI & Nick & Heidfeld & 1977-05-10 & $\\dots$ \\\\\n",
       "\t3 & 3 & rosberg & 6 & ROS & Nico & Rosberg & 1985-06-27 & $\\dots$ \\\\\n",
       "\t4 & 4 & alonso & 14 & ALO & Fernando & Alonso & 1981-07-29 & $\\dots$ \\\\\n",
       "\t5 & 5 & kovalainen & \\textbackslash{}\\textbackslash{}N & KOV & Heikki & Kovalainen & 1981-10-19 & $\\dots$ \\\\\n",
       "\t6 & 6 & nakajima & \\textbackslash{}\\textbackslash{}N & NAK & Kazuki & Nakajima & 1985-01-11 & $\\dots$ \\\\\n",
       "\t7 & 7 & bourdais & \\textbackslash{}\\textbackslash{}N & BOU & Sébastien & Bourdais & 1979-02-28 & $\\dots$ \\\\\n",
       "\t8 & 8 & raikkonen & 7 & RAI & Kimi & Räikkönen & 1979-10-17 & $\\dots$ \\\\\n",
       "\t9 & 9 & kubica & 88 & KUB & Robert & Kubica & 1984-12-07 & $\\dots$ \\\\\n",
       "\t10 & 10 & glock & \\textbackslash{}\\textbackslash{}N & GLO & Timo & Glock & 1982-03-18 & $\\dots$ \\\\\n",
       "\t11 & 11 & sato & \\textbackslash{}\\textbackslash{}N & SAT & Takuma & Sato & 1977-01-28 & $\\dots$ \\\\\n",
       "\t12 & 12 & piquet\\_jr & \\textbackslash{}\\textbackslash{}N & PIQ & Nelson & Piquet Jr. & 1985-07-25 & $\\dots$ \\\\\n",
       "\t13 & 13 & massa & 19 & MAS & Felipe & Massa & 1981-04-25 & $\\dots$ \\\\\n",
       "\t14 & 14 & coulthard & \\textbackslash{}\\textbackslash{}N & COU & David & Coulthard & 1971-03-27 & $\\dots$ \\\\\n",
       "\t15 & 15 & trulli & \\textbackslash{}\\textbackslash{}N & TRU & Jarno & Trulli & 1974-07-13 & $\\dots$ \\\\\n",
       "\t16 & 16 & sutil & 99 & SUT & Adrian & Sutil & 1983-01-11 & $\\dots$ \\\\\n",
       "\t17 & 17 & webber & \\textbackslash{}\\textbackslash{}N & WEB & Mark & Webber & 1976-08-27 & $\\dots$ \\\\\n",
       "\t18 & 18 & button & 22 & BUT & Jenson & Button & 1980-01-19 & $\\dots$ \\\\\n",
       "\t19 & 19 & davidson & \\textbackslash{}\\textbackslash{}N & DAV & Anthony & Davidson & 1979-04-18 & $\\dots$ \\\\\n",
       "\t20 & 20 & vettel & 5 & VET & Sebastian & Vettel & 1987-07-03 & $\\dots$ \\\\\n",
       "\t21 & 21 & fisichella & \\textbackslash{}\\textbackslash{}N & FIS & Giancarlo & Fisichella & 1973-01-14 & $\\dots$ \\\\\n",
       "\t22 & 22 & barrichello & \\textbackslash{}\\textbackslash{}N & BAR & Rubens & Barrichello & 1972-05-23 & $\\dots$ \\\\\n",
       "\t23 & 23 & ralf\\_schumacher & \\textbackslash{}\\textbackslash{}N & SCH & Ralf & Schumacher & 1975-06-30 & $\\dots$ \\\\\n",
       "\t24 & 24 & liuzzi & \\textbackslash{}\\textbackslash{}N & LIU & Vitantonio & Liuzzi & 1980-08-06 & $\\dots$ \\\\\n",
       "\t$\\dots$ & $\\dots$ & $\\dots$ & $\\dots$ & $\\dots$ & $\\dots$ & $\\dots$ & $\\dots$ &  \\\\\n",
       "\\end{tabular}\n"
      ],
      "text/plain": [
       "\u001b[1m854×9 DataFrame\u001b[0m\n",
       "\u001b[1m Row \u001b[0m│\u001b[1m driverId \u001b[0m\u001b[1m driverRef         \u001b[0m\u001b[1m number \u001b[0m\u001b[1m code   \u001b[0m\u001b[1m forename  \u001b[0m\u001b[1m surname    \u001b[0m\u001b[1m dob\u001b[0m ⋯\n",
       "\u001b[1m     \u001b[0m│\u001b[90m Int64    \u001b[0m\u001b[90m String            \u001b[0m\u001b[90m String \u001b[0m\u001b[90m String \u001b[0m\u001b[90m String    \u001b[0m\u001b[90m String     \u001b[0m\u001b[90m Dat\u001b[0m ⋯\n",
       "─────┼──────────────────────────────────────────────────────────────────────────\n",
       "   1 │        1  hamilton           44      HAM     Lewis      Hamilton    198 ⋯\n",
       "   2 │        2  heidfeld           \\\\N     HEI     Nick       Heidfeld    197\n",
       "   3 │        3  rosberg            6       ROS     Nico       Rosberg     198\n",
       "   4 │        4  alonso             14      ALO     Fernando   Alonso      198\n",
       "   5 │        5  kovalainen         \\\\N     KOV     Heikki     Kovalainen  198 ⋯\n",
       "   6 │        6  nakajima           \\\\N     NAK     Kazuki     Nakajima    198\n",
       "   7 │        7  bourdais           \\\\N     BOU     Sébastien  Bourdais    197\n",
       "   8 │        8  raikkonen          7       RAI     Kimi       Räikkönen   197\n",
       "  ⋮  │    ⋮              ⋮            ⋮       ⋮         ⋮          ⋮           ⋱\n",
       " 848 │      849  latifi             6       LAT     Nicholas   Latifi      199 ⋯\n",
       " 849 │      850  pietro_fittipaldi  51      FIT     Pietro     Fittipaldi  199\n",
       " 850 │      851  aitken             89      AIT     Jack       Aitken      199\n",
       " 851 │      852  tsunoda            22      TSU     Yuki       Tsunoda     200\n",
       " 852 │      853  mazepin            9       MAZ     Nikita     Mazepin     199 ⋯\n",
       " 853 │      854  mick_schumacher    47      MSC     Mick       Schumacher  199\n",
       " 854 │      855  zhou               24      ZHO     Guanyu     Zhou        199\n",
       "\u001b[36m                                                  3 columns and 839 rows omitted\u001b[0m"
      ]
     },
     "metadata": {},
     "output_type": "display_data"
    }
   ],
   "source": [
    "Drivers = DataFrame(CSV.File(\"C:/Users/liber/Documents/GitHub/Portifolio/F1_dataset/drivers.csv\"))"
   ]
  },
  {
   "cell_type": "code",
   "execution_count": 19,
   "metadata": {},
   "outputs": [
    {
     "data": {
      "text/html": [
       "<div class=\"data-frame\"><p>4 rows × 9 columns (omitted printing of 1 columns)</p><table class=\"data-frame\"><thead><tr><th></th><th>driverId</th><th>driverRef</th><th>number</th><th>code</th><th>forename</th><th>surname</th><th>dob</th><th>nationality</th></tr><tr><th></th><th title=\"Int64\">Int64</th><th title=\"String\">String</th><th title=\"String\">String</th><th title=\"String\">String</th><th title=\"String\">String</th><th title=\"String\">String</th><th title=\"Dates.Date\">Date</th><th title=\"String\">String</th></tr></thead><tbody><tr><th>1</th><td>349</td><td>jean</td><td>\\\\N</td><td>\\\\N</td><td>Max</td><td>Jean</td><td>1943-07-27</td><td>French</td></tr><tr><th>2</th><td>720</td><td>terra</td><td>\\\\N</td><td>\\\\N</td><td>Max</td><td>de Terra</td><td>1918-10-06</td><td>Swiss</td></tr><tr><th>3</th><td>820</td><td>chilton</td><td>4</td><td>CHI</td><td>Max</td><td>Chilton</td><td>1991-04-21</td><td>British</td></tr><tr><th>4</th><td>830</td><td>max_verstappen</td><td>33</td><td>VER</td><td>Max</td><td>Verstappen</td><td>1997-09-30</td><td>Dutch</td></tr></tbody></table></div>"
      ],
      "text/latex": [
       "\\begin{tabular}{r|ccccccccc}\n",
       "\t& driverId & driverRef & number & code & forename & surname & dob & nationality & \\\\\n",
       "\t\\hline\n",
       "\t& Int64 & String & String & String & String & String & Date & String & \\\\\n",
       "\t\\hline\n",
       "\t1 & 349 & jean & \\textbackslash{}\\textbackslash{}N & \\textbackslash{}\\textbackslash{}N & Max & Jean & 1943-07-27 & French & $\\dots$ \\\\\n",
       "\t2 & 720 & terra & \\textbackslash{}\\textbackslash{}N & \\textbackslash{}\\textbackslash{}N & Max & de Terra & 1918-10-06 & Swiss & $\\dots$ \\\\\n",
       "\t3 & 820 & chilton & 4 & CHI & Max & Chilton & 1991-04-21 & British & $\\dots$ \\\\\n",
       "\t4 & 830 & max\\_verstappen & 33 & VER & Max & Verstappen & 1997-09-30 & Dutch & $\\dots$ \\\\\n",
       "\\end{tabular}\n"
      ],
      "text/plain": [
       "\u001b[1m4×9 DataFrame\u001b[0m\n",
       "\u001b[1m Row \u001b[0m│\u001b[1m driverId \u001b[0m\u001b[1m driverRef      \u001b[0m\u001b[1m number \u001b[0m\u001b[1m code   \u001b[0m\u001b[1m forename \u001b[0m\u001b[1m surname    \u001b[0m\u001b[1m dob    \u001b[0m ⋯\n",
       "\u001b[1m     \u001b[0m│\u001b[90m Int64    \u001b[0m\u001b[90m String         \u001b[0m\u001b[90m String \u001b[0m\u001b[90m String \u001b[0m\u001b[90m String   \u001b[0m\u001b[90m String     \u001b[0m\u001b[90m Date   \u001b[0m ⋯\n",
       "─────┼──────────────────────────────────────────────────────────────────────────\n",
       "   1 │      349  jean            \\\\N     \\\\N     Max       Jean        1943-07 ⋯\n",
       "   2 │      720  terra           \\\\N     \\\\N     Max       de Terra    1918-10\n",
       "   3 │      820  chilton         4       CHI     Max       Chilton     1991-04\n",
       "   4 │      830  max_verstappen  33      VER     Max       Verstappen  1997-09\n",
       "\u001b[36m                                                               3 columns omitted\u001b[0m"
      ]
     },
     "metadata": {},
     "output_type": "display_data"
    }
   ],
   "source": [
    "Drivers[Drivers.forename .== \"Max\", :]"
   ]
  },
  {
   "cell_type": "code",
   "execution_count": 30,
   "metadata": {},
   "outputs": [
    {
     "data": {
      "text/plain": [
       "\"C:/Users/liber/Desktop/Stats/3o Semestre/Pacotes/MAX.csv\""
      ]
     },
     "metadata": {},
     "output_type": "display_data"
    }
   ],
   "source": [
    "voltas_VER = dados[dados.driverId .== 830, :]\n",
    "CSV.write(\"C:/Users/liber/Desktop/Stats/3o Semestre/Pacotes/MAX.csv\", voltas_VER)\n"
   ]
  },
  {
   "cell_type": "code",
   "execution_count": 26,
   "metadata": {},
   "outputs": [
    {
     "data": {
      "text/plain": [
       "5-element Vector{Float64}:\n",
       "  68881.5\n",
       " 104488.0\n",
       " 115250.0\n",
       " 135036.75\n",
       " 171561.50000000044"
      ]
     },
     "metadata": {},
     "output_type": "display_data"
    }
   ],
   "source": [
    "#histogram(voltas_VER)\n",
    "quantile(voltas_VER, [0.05, 0.9, 0.95, 0.975, 0.99])"
   ]
  },
  {
   "cell_type": "code",
   "execution_count": 27,
   "metadata": {},
   "outputs": [
    {
     "data": {
      "text/plain": [
       "5-element Vector{Float64}:\n",
       "  69415.2\n",
       " 104949.40000000001\n",
       " 116783.79999999997\n",
       " 142771.69999999998\n",
       " 176811.55999999974"
      ]
     },
     "metadata": {},
     "output_type": "display_data"
    }
   ],
   "source": [
    "quantile(voltas_HAM, [0.05, 0.9, 0.95, 0.975, 0.99])"
   ]
  },
  {
   "cell_type": "code",
   "execution_count": null,
   "metadata": {},
   "outputs": [],
   "source": []
  },
  {
   "cell_type": "code",
   "execution_count": 25,
   "metadata": {},
   "outputs": [],
   "source": [
    "using Statistics\n",
    "#quantile(dados[dados.driverId .== 3, :].milliseconds, [0.05, 0.9, 0.95, 0.975, 0.99])"
   ]
  },
  {
   "cell_type": "code",
   "execution_count": null,
   "metadata": {},
   "outputs": [],
   "source": [
    "dados_ham = dados[dados.milliseconds .< 100000, :]\n",
    "dados_ham = dados_ham[dados_ham.driverId .== 1, :]"
   ]
  },
  {
   "cell_type": "code",
   "execution_count": null,
   "metadata": {},
   "outputs": [],
   "source": [
    "scatter(dados[dados.circuitId .== 1, :].lap, dados[dados.circuitId .== 1, :].milliseconds)"
   ]
  },
  {
   "cell_type": "code",
   "execution_count": null,
   "metadata": {},
   "outputs": [],
   "source": [
    "quantile(dados.milliseconds, [0.05, 0.9, 0.95, 0.975, 0.99])"
   ]
  },
  {
   "cell_type": "code",
   "execution_count": null,
   "metadata": {},
   "outputs": [],
   "source": [
    "hamilton = filter(row -> row.driverId == 1 , lap_times_raw);"
   ]
  },
  {
   "cell_type": "code",
   "execution_count": null,
   "metadata": {},
   "outputs": [],
   "source": [
    "hamilton_race_1 = filter(row -> row.raceId == 841, hamilton);"
   ]
  },
  {
   "cell_type": "code",
   "execution_count": 21,
   "metadata": {},
   "outputs": [
    {
     "data": {
      "text/plain": [
       "Plots.GRBackend()"
      ]
     },
     "metadata": {},
     "output_type": "display_data"
    }
   ],
   "source": [
    "using Plots \n",
    "gr()"
   ]
  },
  {
   "cell_type": "code",
   "execution_count": null,
   "metadata": {},
   "outputs": [],
   "source": [
    "histogram(hamilton_race_1.milliseconds, bins = 100);"
   ]
  },
  {
   "cell_type": "code",
   "execution_count": null,
   "metadata": {},
   "outputs": [],
   "source": [
    "hamilton_race_2 = filter(row -> row.raceId == 1015, hamilton);"
   ]
  },
  {
   "cell_type": "code",
   "execution_count": null,
   "metadata": {},
   "outputs": [],
   "source": [
    "#scatter(lap_times_raw.milliseconds, lap_times_raw.lap)"
   ]
  },
  {
   "cell_type": "code",
   "execution_count": null,
   "metadata": {},
   "outputs": [],
   "source": [
    "race1015 = filter(row -> row.raceId == 1015 , lap_times_raw);"
   ]
  },
  {
   "cell_type": "code",
   "execution_count": null,
   "metadata": {},
   "outputs": [],
   "source": [
    "using Statistics"
   ]
  },
  {
   "cell_type": "code",
   "execution_count": null,
   "metadata": {},
   "outputs": [],
   "source": [
    "function mean_groups(grouped_data)    \n",
    "    mean_times = Dict()\n",
    "    for (j, i) in enumerate(keys(grouped_data))\n",
    "        mean_ = mean(get(gd, i, nothing).milliseconds)\n",
    "        driver = get(gd, i, nothing).driverId[1]\n",
    "        mean_times[driver] = mean_  \n",
    "    end\n",
    "    return mean_times\n",
    "end"
   ]
  },
  {
   "cell_type": "code",
   "execution_count": null,
   "metadata": {},
   "outputs": [],
   "source": [
    "means = mean_groups(gd)"
   ]
  },
  {
   "cell_type": "code",
   "execution_count": null,
   "metadata": {},
   "outputs": [],
   "source": [
    "delete!(means, 844)"
   ]
  },
  {
   "cell_type": "code",
   "execution_count": null,
   "metadata": {},
   "outputs": [],
   "source": [
    "histogram(means, bin = 9)"
   ]
  },
  {
   "cell_type": "code",
   "execution_count": null,
   "metadata": {},
   "outputs": [],
   "source": [
    "drivers_raw = DataFrame(CSV.File(\"C:/Users/liber/Documents/GitHub/Portifolio/F1_dataset/drivers.csv\"));"
   ]
  },
  {
   "cell_type": "code",
   "execution_count": null,
   "metadata": {},
   "outputs": [],
   "source": [
    "function drivers_dict(data)\n",
    "    drivers = Dict()\n",
    "    for i in 1:nrow(drivers_raw)\n",
    "        ID = drivers_raw.driverId[i]\n",
    "        driver = drivers_raw.surname[i]\n",
    "        drivers[ID] = driver\n",
    "    end\n",
    "    return drivers\n",
    "end"
   ]
  },
  {
   "cell_type": "code",
   "execution_count": null,
   "metadata": {},
   "outputs": [],
   "source": [
    "nrow(drivers_raw)"
   ]
  },
  {
   "cell_type": "code",
   "execution_count": null,
   "metadata": {},
   "outputs": [],
   "source": [
    "drivers = drivers_dict(drivers_raw)"
   ]
  },
  {
   "cell_type": "code",
   "execution_count": null,
   "metadata": {},
   "outputs": [],
   "source": [
    "drivers[1]"
   ]
  },
  {
   "cell_type": "code",
   "execution_count": null,
   "metadata": {},
   "outputs": [],
   "source": [
    "names(lap_times_raw)"
   ]
  },
  {
   "cell_type": "code",
   "execution_count": null,
   "metadata": {},
   "outputs": [],
   "source": [
    "races = DataFrame(CSV.File(\"C:/Users/liber/Documents/GitHub/Portifolio/F1_dataset/races.csv\"));"
   ]
  },
  {
   "cell_type": "code",
   "execution_count": null,
   "metadata": {},
   "outputs": [],
   "source": [
    "first(races, 6)"
   ]
  },
  {
   "cell_type": "code",
   "execution_count": null,
   "metadata": {},
   "outputs": [],
   "source": [
    "function races_dict(data)\n",
    "    races_dictionary = Dict()\n",
    "    for i in 1:nrow(data)\n",
    "        ID = data.raceId[i]\n",
    "        year = data.year[i]\n",
    "        circuit = data.name[i]\n",
    "        races_dictionary[ID] = (year, circuit)\n",
    "    end\n",
    "    return races_dictionary\n",
    "end"
   ]
  },
  {
   "cell_type": "code",
   "execution_count": null,
   "metadata": {},
   "outputs": [],
   "source": [
    "race_dict = races_dict(races)"
   ]
  },
  {
   "cell_type": "code",
   "execution_count": null,
   "metadata": {},
   "outputs": [],
   "source": [
    "D = Dict('a'=>5, 'b'=>6)"
   ]
  },
  {
   "cell_type": "code",
   "execution_count": null,
   "metadata": {},
   "outputs": [],
   "source": [
    "depois_de_2013 = [i for (i, j) in race_dict if j[1]>2013]\n",
    "# filter(x -> x[1]> 2013, race_dict)"
   ]
  }
 ],
 "metadata": {
  "kernelspec": {
   "display_name": "Julia 1.7.1",
   "language": "julia",
   "name": "julia-1.7"
  },
  "language_info": {
   "file_extension": ".jl",
   "mimetype": "application/julia",
   "name": "julia",
   "version": "1.7.1"
  },
  "orig_nbformat": 4
 },
 "nbformat": 4,
 "nbformat_minor": 2
}
