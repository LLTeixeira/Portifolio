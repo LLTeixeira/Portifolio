{
 "cells": [
  {
   "cell_type": "code",
   "execution_count": 17,
   "metadata": {},
   "outputs": [],
   "source": [
    "using CSV\n",
    "using DataFrames"
   ]
  },
  {
   "cell_type": "code",
   "execution_count": 18,
   "metadata": {},
   "outputs": [
    {
     "data": {
      "text/html": [
       "<div><div style = \"float: left;\"><span>324543×11 DataFrame</span></div><div style = \"float: right;\"><span style = \"font-style: italic;\">324518 rows omitted</span></div><div style = \"clear: both;\"></div></div><div class = \"data-frame\" style = \"overflow-x: scroll;\"><table class = \"data-frame\" style = \"margin-bottom: 6px;\"><thead><tr class = \"header\"><th class = \"rowNumber\" style = \"font-weight: bold; text-align: right;\">Row</th><th style = \"text-align: left;\">gameID</th><th style = \"text-align: left;\">shooterID</th><th style = \"text-align: left;\">assisterID</th><th style = \"text-align: left;\">minute</th><th style = \"text-align: left;\">situation</th><th style = \"text-align: left;\">lastAction</th><th style = \"text-align: left;\">shotType</th><th style = \"text-align: left;\">shotResult</th><th style = \"text-align: left;\">xGoal</th><th style = \"text-align: left;\">positionX</th><th style = \"text-align: left;\">positionY</th></tr><tr class = \"subheader headerLastRow\"><th class = \"rowNumber\" style = \"font-weight: bold; text-align: right;\"></th><th title = \"Int64\" style = \"text-align: left;\">Int64</th><th title = \"Int64\" style = \"text-align: left;\">Int64</th><th title = \"String7\" style = \"text-align: left;\">String7</th><th title = \"Int64\" style = \"text-align: left;\">Int64</th><th title = \"String15\" style = \"text-align: left;\">String15</th><th title = \"String15\" style = \"text-align: left;\">String15</th><th title = \"String15\" style = \"text-align: left;\">String15</th><th title = \"String15\" style = \"text-align: left;\">String15</th><th title = \"Float64\" style = \"text-align: left;\">Float64</th><th title = \"Float64\" style = \"text-align: left;\">Float64</th><th title = \"Float64\" style = \"text-align: left;\">Float64</th></tr></thead><tbody><tr><td class = \"rowNumber\" style = \"font-weight: bold; text-align: right;\">1</td><td style = \"text-align: right;\">81</td><td style = \"text-align: right;\">554</td><td style = \"text-align: left;\">NA</td><td style = \"text-align: right;\">27</td><td style = \"text-align: left;\">DirectFreekick</td><td style = \"text-align: left;\">Standard</td><td style = \"text-align: left;\">LeftFoot</td><td style = \"text-align: left;\">BlockedShot</td><td style = \"text-align: right;\">0.104347</td><td style = \"text-align: right;\">0.794</td><td style = \"text-align: right;\">0.421</td></tr><tr><td class = \"rowNumber\" style = \"font-weight: bold; text-align: right;\">2</td><td style = \"text-align: right;\">81</td><td style = \"text-align: right;\">555</td><td style = \"text-align: left;\">631</td><td style = \"text-align: right;\">27</td><td style = \"text-align: left;\">SetPiece</td><td style = \"text-align: left;\">Pass</td><td style = \"text-align: left;\">RightFoot</td><td style = \"text-align: left;\">BlockedShot</td><td style = \"text-align: right;\">0.0643422</td><td style = \"text-align: right;\">0.86</td><td style = \"text-align: right;\">0.627</td></tr><tr><td class = \"rowNumber\" style = \"font-weight: bold; text-align: right;\">3</td><td style = \"text-align: right;\">81</td><td style = \"text-align: right;\">554</td><td style = \"text-align: left;\">629</td><td style = \"text-align: right;\">35</td><td style = \"text-align: left;\">OpenPlay</td><td style = \"text-align: left;\">Pass</td><td style = \"text-align: left;\">LeftFoot</td><td style = \"text-align: left;\">BlockedShot</td><td style = \"text-align: right;\">0.0571568</td><td style = \"text-align: right;\">0.843</td><td style = \"text-align: right;\">0.333</td></tr><tr><td class = \"rowNumber\" style = \"font-weight: bold; text-align: right;\">4</td><td style = \"text-align: right;\">81</td><td style = \"text-align: right;\">554</td><td style = \"text-align: left;\">NA</td><td style = \"text-align: right;\">35</td><td style = \"text-align: left;\">OpenPlay</td><td style = \"text-align: left;\">Tackle</td><td style = \"text-align: left;\">LeftFoot</td><td style = \"text-align: left;\">MissedShots</td><td style = \"text-align: right;\">0.0921414</td><td style = \"text-align: right;\">0.848</td><td style = \"text-align: right;\">0.533</td></tr><tr><td class = \"rowNumber\" style = \"font-weight: bold; text-align: right;\">5</td><td style = \"text-align: right;\">81</td><td style = \"text-align: right;\">555</td><td style = \"text-align: left;\">654</td><td style = \"text-align: right;\">40</td><td style = \"text-align: left;\">OpenPlay</td><td style = \"text-align: left;\">BallRecovery</td><td style = \"text-align: left;\">RightFoot</td><td style = \"text-align: left;\">BlockedShot</td><td style = \"text-align: right;\">0.035742</td><td style = \"text-align: right;\">0.812</td><td style = \"text-align: right;\">0.707</td></tr><tr><td class = \"rowNumber\" style = \"font-weight: bold; text-align: right;\">6</td><td style = \"text-align: right;\">81</td><td style = \"text-align: right;\">555</td><td style = \"text-align: left;\">629</td><td style = \"text-align: right;\">49</td><td style = \"text-align: left;\">OpenPlay</td><td style = \"text-align: left;\">Pass</td><td style = \"text-align: left;\">LeftFoot</td><td style = \"text-align: left;\">MissedShots</td><td style = \"text-align: right;\">0.0212247</td><td style = \"text-align: right;\">0.725</td><td style = \"text-align: right;\">0.545</td></tr><tr><td class = \"rowNumber\" style = \"font-weight: bold; text-align: right;\">7</td><td style = \"text-align: right;\">81</td><td style = \"text-align: right;\">631</td><td style = \"text-align: left;\">NA</td><td style = \"text-align: right;\">64</td><td style = \"text-align: left;\">OpenPlay</td><td style = \"text-align: left;\">None</td><td style = \"text-align: left;\">RightFoot</td><td style = \"text-align: left;\">SavedShot</td><td style = \"text-align: right;\">0.103004</td><td style = \"text-align: right;\">0.896</td><td style = \"text-align: right;\">0.597</td></tr><tr><td class = \"rowNumber\" style = \"font-weight: bold; text-align: right;\">8</td><td style = \"text-align: right;\">81</td><td style = \"text-align: right;\">629</td><td style = \"text-align: left;\">557</td><td style = \"text-align: right;\">72</td><td style = \"text-align: left;\">OpenPlay</td><td style = \"text-align: left;\">Cross</td><td style = \"text-align: left;\">RightFoot</td><td style = \"text-align: left;\">MissedShots</td><td style = \"text-align: right;\">0.106513</td><td style = \"text-align: right;\">0.89</td><td style = \"text-align: right;\">0.534</td></tr><tr><td class = \"rowNumber\" style = \"font-weight: bold; text-align: right;\">9</td><td style = \"text-align: right;\">81</td><td style = \"text-align: right;\">629</td><td style = \"text-align: left;\">NA</td><td style = \"text-align: right;\">76</td><td style = \"text-align: left;\">DirectFreekick</td><td style = \"text-align: left;\">Standard</td><td style = \"text-align: left;\">RightFoot</td><td style = \"text-align: left;\">MissedShots</td><td style = \"text-align: right;\">0.0430677</td><td style = \"text-align: right;\">0.747</td><td style = \"text-align: right;\">0.694</td></tr><tr><td class = \"rowNumber\" style = \"font-weight: bold; text-align: right;\">10</td><td style = \"text-align: right;\">81</td><td style = \"text-align: right;\">646</td><td style = \"text-align: left;\">647</td><td style = \"text-align: right;\">4</td><td style = \"text-align: left;\">OpenPlay</td><td style = \"text-align: left;\">Chipped</td><td style = \"text-align: left;\">LeftFoot</td><td style = \"text-align: left;\">MissedShots</td><td style = \"text-align: right;\">0.297304</td><td style = \"text-align: right;\">0.902</td><td style = \"text-align: right;\">0.61</td></tr><tr><td class = \"rowNumber\" style = \"font-weight: bold; text-align: right;\">11</td><td style = \"text-align: right;\">81</td><td style = \"text-align: right;\">647</td><td style = \"text-align: left;\">646</td><td style = \"text-align: right;\">11</td><td style = \"text-align: left;\">OpenPlay</td><td style = \"text-align: left;\">Pass</td><td style = \"text-align: left;\">RightFoot</td><td style = \"text-align: left;\">BlockedShot</td><td style = \"text-align: right;\">0.0303755</td><td style = \"text-align: right;\">0.879</td><td style = \"text-align: right;\">0.247</td></tr><tr><td class = \"rowNumber\" style = \"font-weight: bold; text-align: right;\">12</td><td style = \"text-align: right;\">81</td><td style = \"text-align: right;\">639</td><td style = \"text-align: left;\">646</td><td style = \"text-align: right;\">11</td><td style = \"text-align: left;\">FromCorner</td><td style = \"text-align: left;\">Cross</td><td style = \"text-align: left;\">Head</td><td style = \"text-align: left;\">BlockedShot</td><td style = \"text-align: right;\">0.0210388</td><td style = \"text-align: right;\">0.866</td><td style = \"text-align: right;\">0.497</td></tr><tr><td class = \"rowNumber\" style = \"font-weight: bold; text-align: right;\">13</td><td style = \"text-align: right;\">81</td><td style = \"text-align: right;\">647</td><td style = \"text-align: left;\">NA</td><td style = \"text-align: right;\">11</td><td style = \"text-align: left;\">FromCorner</td><td style = \"text-align: left;\">Rebound</td><td style = \"text-align: left;\">RightFoot</td><td style = \"text-align: left;\">MissedShots</td><td style = \"text-align: right;\">0.0533997</td><td style = \"text-align: right;\">0.831</td><td style = \"text-align: right;\">0.433</td></tr><tr><td style = \"text-align: right;\">&vellip;</td><td style = \"text-align: right;\">&vellip;</td><td style = \"text-align: right;\">&vellip;</td><td style = \"text-align: right;\">&vellip;</td><td style = \"text-align: right;\">&vellip;</td><td style = \"text-align: right;\">&vellip;</td><td style = \"text-align: right;\">&vellip;</td><td style = \"text-align: right;\">&vellip;</td><td style = \"text-align: right;\">&vellip;</td><td style = \"text-align: right;\">&vellip;</td><td style = \"text-align: right;\">&vellip;</td><td style = \"text-align: right;\">&vellip;</td></tr><tr><td class = \"rowNumber\" style = \"font-weight: bold; text-align: right;\">324532</td><td style = \"text-align: right;\">16135</td><td style = \"text-align: right;\">6905</td><td style = \"text-align: left;\">3549</td><td style = \"text-align: right;\">31</td><td style = \"text-align: left;\">OpenPlay</td><td style = \"text-align: left;\">Pass</td><td style = \"text-align: left;\">LeftFoot</td><td style = \"text-align: left;\">MissedShots</td><td style = \"text-align: right;\">0.0362181</td><td style = \"text-align: right;\">0.816</td><td style = \"text-align: right;\">0.69</td></tr><tr><td class = \"rowNumber\" style = \"font-weight: bold; text-align: right;\">324533</td><td style = \"text-align: right;\">16135</td><td style = \"text-align: right;\">3253</td><td style = \"text-align: left;\">4242</td><td style = \"text-align: right;\">35</td><td style = \"text-align: left;\">FromCorner</td><td style = \"text-align: left;\">HeadPass</td><td style = \"text-align: left;\">RightFoot</td><td style = \"text-align: left;\">MissedShots</td><td style = \"text-align: right;\">0.00827531</td><td style = \"text-align: right;\">0.675</td><td style = \"text-align: right;\">0.359</td></tr><tr><td class = \"rowNumber\" style = \"font-weight: bold; text-align: right;\">324534</td><td style = \"text-align: right;\">16135</td><td style = \"text-align: right;\">6905</td><td style = \"text-align: left;\">6380</td><td style = \"text-align: right;\">64</td><td style = \"text-align: left;\">OpenPlay</td><td style = \"text-align: left;\">Pass</td><td style = \"text-align: left;\">RightFoot</td><td style = \"text-align: left;\">MissedShots</td><td style = \"text-align: right;\">0.0174632</td><td style = \"text-align: right;\">0.76</td><td style = \"text-align: right;\">0.696</td></tr><tr><td class = \"rowNumber\" style = \"font-weight: bold; text-align: right;\">324535</td><td style = \"text-align: right;\">16135</td><td style = \"text-align: right;\">5769</td><td style = \"text-align: left;\">6318</td><td style = \"text-align: right;\">76</td><td style = \"text-align: left;\">OpenPlay</td><td style = \"text-align: left;\">Aerial</td><td style = \"text-align: left;\">LeftFoot</td><td style = \"text-align: left;\">SavedShot</td><td style = \"text-align: right;\">0.0126791</td><td style = \"text-align: right;\">0.731</td><td style = \"text-align: right;\">0.427</td></tr><tr><td class = \"rowNumber\" style = \"font-weight: bold; text-align: right;\">324536</td><td style = \"text-align: right;\">16135</td><td style = \"text-align: right;\">3253</td><td style = \"text-align: left;\">NA</td><td style = \"text-align: right;\">80</td><td style = \"text-align: left;\">DirectFreekick</td><td style = \"text-align: left;\">Standard</td><td style = \"text-align: left;\">RightFoot</td><td style = \"text-align: left;\">MissedShots</td><td style = \"text-align: right;\">0.0290881</td><td style = \"text-align: right;\">0.666</td><td style = \"text-align: right;\">0.422</td></tr><tr><td class = \"rowNumber\" style = \"font-weight: bold; text-align: right;\">324537</td><td style = \"text-align: right;\">16135</td><td style = \"text-align: right;\">3509</td><td style = \"text-align: left;\">NA</td><td style = \"text-align: right;\">10</td><td style = \"text-align: left;\">DirectFreekick</td><td style = \"text-align: left;\">Standard</td><td style = \"text-align: left;\">RightFoot</td><td style = \"text-align: left;\">BlockedShot</td><td style = \"text-align: right;\">0.028713</td><td style = \"text-align: right;\">0.683</td><td style = \"text-align: right;\">0.319</td></tr><tr><td class = \"rowNumber\" style = \"font-weight: bold; text-align: right;\">324538</td><td style = \"text-align: right;\">16135</td><td style = \"text-align: right;\">4882</td><td style = \"text-align: left;\">NA</td><td style = \"text-align: right;\">11</td><td style = \"text-align: left;\">FromCorner</td><td style = \"text-align: left;\">Aerial</td><td style = \"text-align: left;\">RightFoot</td><td style = \"text-align: left;\">MissedShots</td><td style = \"text-align: right;\">0.0134822</td><td style = \"text-align: right;\">0.743</td><td style = \"text-align: right;\">0.445</td></tr><tr><td class = \"rowNumber\" style = \"font-weight: bold; text-align: right;\">324539</td><td style = \"text-align: right;\">16135</td><td style = \"text-align: right;\">6615</td><td style = \"text-align: left;\">8651</td><td style = \"text-align: right;\">19</td><td style = \"text-align: left;\">SetPiece</td><td style = \"text-align: left;\">Aerial</td><td style = \"text-align: left;\">Head</td><td style = \"text-align: left;\">MissedShots</td><td style = \"text-align: right;\">0.0391716</td><td style = \"text-align: right;\">0.899</td><td style = \"text-align: right;\">0.511</td></tr><tr><td class = \"rowNumber\" style = \"font-weight: bold; text-align: right;\">324540</td><td style = \"text-align: right;\">16135</td><td style = \"text-align: right;\">6615</td><td style = \"text-align: left;\">8651</td><td style = \"text-align: right;\">54</td><td style = \"text-align: left;\">SetPiece</td><td style = \"text-align: left;\">Cross</td><td style = \"text-align: left;\">LeftFoot</td><td style = \"text-align: left;\">Goal</td><td style = \"text-align: right;\">0.372809</td><td style = \"text-align: right;\">0.902</td><td style = \"text-align: right;\">0.482</td></tr><tr><td class = \"rowNumber\" style = \"font-weight: bold; text-align: right;\">324541</td><td style = \"text-align: right;\">16135</td><td style = \"text-align: right;\">3464</td><td style = \"text-align: left;\">NA</td><td style = \"text-align: right;\">70</td><td style = \"text-align: left;\">OpenPlay</td><td style = \"text-align: left;\">None</td><td style = \"text-align: left;\">LeftFoot</td><td style = \"text-align: left;\">MissedShots</td><td style = \"text-align: right;\">0.00924233</td><td style = \"text-align: right;\">0.738</td><td style = \"text-align: right;\">0.774</td></tr><tr><td class = \"rowNumber\" style = \"font-weight: bold; text-align: right;\">324542</td><td style = \"text-align: right;\">16135</td><td style = \"text-align: right;\">8651</td><td style = \"text-align: left;\">4882</td><td style = \"text-align: right;\">72</td><td style = \"text-align: left;\">OpenPlay</td><td style = \"text-align: left;\">Cross</td><td style = \"text-align: left;\">Head</td><td style = \"text-align: left;\">BlockedShot</td><td style = \"text-align: right;\">0.0453741</td><td style = \"text-align: right;\">0.882</td><td style = \"text-align: right;\">0.543</td></tr><tr><td class = \"rowNumber\" style = \"font-weight: bold; text-align: right;\">324543</td><td style = \"text-align: right;\">16135</td><td style = \"text-align: right;\">8651</td><td style = \"text-align: left;\">4882</td><td style = \"text-align: right;\">85</td><td style = \"text-align: left;\">OpenPlay</td><td style = \"text-align: left;\">Pass</td><td style = \"text-align: left;\">RightFoot</td><td style = \"text-align: left;\">MissedShots</td><td style = \"text-align: right;\">0.0131211</td><td style = \"text-align: right;\">0.653</td><td style = \"text-align: right;\">0.359</td></tr></tbody></table></div>"
      ],
      "text/latex": [
       "\\begin{tabular}{r|cccccccc}\n",
       "\t& gameID & shooterID & assisterID & minute & situation & lastAction & shotType & \\\\\n",
       "\t\\hline\n",
       "\t& Int64 & Int64 & String7 & Int64 & String15 & String15 & String15 & \\\\\n",
       "\t\\hline\n",
       "\t1 & 81 & 554 & NA & 27 & DirectFreekick & Standard & LeftFoot & $\\dots$ \\\\\n",
       "\t2 & 81 & 555 & 631 & 27 & SetPiece & Pass & RightFoot & $\\dots$ \\\\\n",
       "\t3 & 81 & 554 & 629 & 35 & OpenPlay & Pass & LeftFoot & $\\dots$ \\\\\n",
       "\t4 & 81 & 554 & NA & 35 & OpenPlay & Tackle & LeftFoot & $\\dots$ \\\\\n",
       "\t5 & 81 & 555 & 654 & 40 & OpenPlay & BallRecovery & RightFoot & $\\dots$ \\\\\n",
       "\t6 & 81 & 555 & 629 & 49 & OpenPlay & Pass & LeftFoot & $\\dots$ \\\\\n",
       "\t7 & 81 & 631 & NA & 64 & OpenPlay & None & RightFoot & $\\dots$ \\\\\n",
       "\t8 & 81 & 629 & 557 & 72 & OpenPlay & Cross & RightFoot & $\\dots$ \\\\\n",
       "\t9 & 81 & 629 & NA & 76 & DirectFreekick & Standard & RightFoot & $\\dots$ \\\\\n",
       "\t10 & 81 & 646 & 647 & 4 & OpenPlay & Chipped & LeftFoot & $\\dots$ \\\\\n",
       "\t11 & 81 & 647 & 646 & 11 & OpenPlay & Pass & RightFoot & $\\dots$ \\\\\n",
       "\t12 & 81 & 639 & 646 & 11 & FromCorner & Cross & Head & $\\dots$ \\\\\n",
       "\t13 & 81 & 647 & NA & 11 & FromCorner & Rebound & RightFoot & $\\dots$ \\\\\n",
       "\t14 & 81 & 638 & 646 & 17 & OpenPlay & Chipped & RightFoot & $\\dots$ \\\\\n",
       "\t15 & 81 & 638 & NA & 21 & OpenPlay & Tackle & LeftFoot & $\\dots$ \\\\\n",
       "\t16 & 81 & 639 & NA & 46 & SetPiece & None & RightFoot & $\\dots$ \\\\\n",
       "\t17 & 81 & 646 & 639 & 83 & OpenPlay & Chipped & LeftFoot & $\\dots$ \\\\\n",
       "\t18 & 81 & 647 & 646 & 87 & SetPiece & Cross & Head & $\\dots$ \\\\\n",
       "\t19 & 81 & 646 & 644 & 88 & OpenPlay & Pass & RightFoot & $\\dots$ \\\\\n",
       "\t20 & 82 & 466 & 456 & 19 & OpenPlay & Aerial & Head & $\\dots$ \\\\\n",
       "\t21 & 82 & 461 & 465 & 24 & OpenPlay & Pass & LeftFoot & $\\dots$ \\\\\n",
       "\t22 & 82 & 465 & 460 & 28 & OpenPlay & Pass & RightFoot & $\\dots$ \\\\\n",
       "\t23 & 82 & 460 & 461 & 32 & OpenPlay & Pass & LeftFoot & $\\dots$ \\\\\n",
       "\t24 & 82 & 462 & NA & 36 & OpenPlay & Dispossessed & RightFoot & $\\dots$ \\\\\n",
       "\t$\\dots$ & $\\dots$ & $\\dots$ & $\\dots$ & $\\dots$ & $\\dots$ & $\\dots$ & $\\dots$ &  \\\\\n",
       "\\end{tabular}\n"
      ],
      "text/plain": [
       "\u001b[1m324543×11 DataFrame\u001b[0m\n",
       "\u001b[1m    Row \u001b[0m│\u001b[1m gameID \u001b[0m\u001b[1m shooterID \u001b[0m\u001b[1m assisterID \u001b[0m\u001b[1m minute \u001b[0m\u001b[1m situation      \u001b[0m\u001b[1m lastAction   \u001b[0m\u001b[1m\u001b[0m ⋯\n",
       "        │\u001b[90m Int64  \u001b[0m\u001b[90m Int64     \u001b[0m\u001b[90m String7    \u001b[0m\u001b[90m Int64  \u001b[0m\u001b[90m String15       \u001b[0m\u001b[90m String15     \u001b[0m\u001b[90m\u001b[0m ⋯\n",
       "────────┼───────────────────────────────────────────────────────────────────────\n",
       "      1 │     81        554  NA              27  DirectFreekick  Standard      ⋯\n",
       "      2 │     81        555  631             27  SetPiece        Pass\n",
       "      3 │     81        554  629             35  OpenPlay        Pass\n",
       "      4 │     81        554  NA              35  OpenPlay        Tackle\n",
       "      5 │     81        555  654             40  OpenPlay        BallRecovery  ⋯\n",
       "      6 │     81        555  629             49  OpenPlay        Pass\n",
       "      7 │     81        631  NA              64  OpenPlay        None\n",
       "      8 │     81        629  557             72  OpenPlay        Cross\n",
       "   ⋮    │   ⋮         ⋮          ⋮         ⋮           ⋮              ⋮        ⋱\n",
       " 324537 │  16135       3509  NA              10  DirectFreekick  Standard      ⋯\n",
       " 324538 │  16135       4882  NA              11  FromCorner      Aerial\n",
       " 324539 │  16135       6615  8651            19  SetPiece        Aerial\n",
       " 324540 │  16135       6615  8651            54  SetPiece        Cross\n",
       " 324541 │  16135       3464  NA              70  OpenPlay        None          ⋯\n",
       " 324542 │  16135       8651  4882            72  OpenPlay        Cross\n",
       " 324543 │  16135       8651  4882            85  OpenPlay        Pass\n",
       "\u001b[36m                                               5 columns and 324528 rows omitted\u001b[0m"
      ]
     },
     "metadata": {},
     "output_type": "display_data"
    }
   ],
   "source": [
    "shots = DataFrame(CSV.File(raw\"C:\\Users\\liber\\Documents\\Datasets\\Football\\shots.csv\"))"
   ]
  },
  {
   "cell_type": "code",
   "execution_count": 19,
   "metadata": {},
   "outputs": [],
   "source": [
    "games = DataFrame(CSV.File(raw\"C:\\Users\\liber\\Documents\\Datasets\\Football\\games.csv\"));"
   ]
  },
  {
   "cell_type": "code",
   "execution_count": 20,
   "metadata": {},
   "outputs": [],
   "source": [
    "players = DataFrame(CSV.File(raw\"C:\\Users\\liber\\Documents\\Datasets\\Football\\players.csv\"));"
   ]
  },
  {
   "cell_type": "code",
   "execution_count": 21,
   "metadata": {},
   "outputs": [
    {
     "data": {
      "text/html": [
       "<div><div style = \"float: left;\"><span>1×2 DataFrame</span></div><div style = \"clear: both;\"></div></div><div class = \"data-frame\" style = \"overflow-x: scroll;\"><table class = \"data-frame\" style = \"margin-bottom: 6px;\"><thead><tr class = \"header\"><th class = \"rowNumber\" style = \"font-weight: bold; text-align: right;\">Row</th><th style = \"text-align: left;\">playerID</th><th style = \"text-align: left;\">name</th></tr><tr class = \"subheader headerLastRow\"><th class = \"rowNumber\" style = \"font-weight: bold; text-align: right;\"></th><th title = \"Int64\" style = \"text-align: left;\">Int64</th><th title = \"String31\" style = \"text-align: left;\">String31</th></tr></thead><tbody><tr><td class = \"rowNumber\" style = \"font-weight: bold; text-align: right;\">1</td><td style = \"text-align: right;\">2097</td><td style = \"text-align: left;\">Lionel Messi</td></tr></tbody></table></div>"
      ],
      "text/latex": [
       "\\begin{tabular}{r|cc}\n",
       "\t& playerID & name\\\\\n",
       "\t\\hline\n",
       "\t& Int64 & String31\\\\\n",
       "\t\\hline\n",
       "\t1 & 2097 & Lionel Messi \\\\\n",
       "\\end{tabular}\n"
      ],
      "text/plain": [
       "\u001b[1m1×2 DataFrame\u001b[0m\n",
       "\u001b[1m Row \u001b[0m│\u001b[1m playerID \u001b[0m\u001b[1m name         \u001b[0m\n",
       "     │\u001b[90m Int64    \u001b[0m\u001b[90m String31     \u001b[0m\n",
       "─────┼────────────────────────\n",
       "   1 │     2097  Lionel Messi"
      ]
     },
     "metadata": {},
     "output_type": "display_data"
    }
   ],
   "source": [
    "players[players.name .== \"Lionel Messi\", :]"
   ]
  },
  {
   "cell_type": "code",
   "execution_count": 22,
   "metadata": {},
   "outputs": [
    {
     "data": {
      "text/html": [
       "<div><div style = \"float: left;\"><span>1×2 DataFrame</span></div><div style = \"clear: both;\"></div></div><div class = \"data-frame\" style = \"overflow-x: scroll;\"><table class = \"data-frame\" style = \"margin-bottom: 6px;\"><thead><tr class = \"header\"><th class = \"rowNumber\" style = \"font-weight: bold; text-align: right;\">Row</th><th style = \"text-align: left;\">playerID</th><th style = \"text-align: left;\">name</th></tr><tr class = \"subheader headerLastRow\"><th class = \"rowNumber\" style = \"font-weight: bold; text-align: right;\"></th><th title = \"Int64\" style = \"text-align: left;\">Int64</th><th title = \"String31\" style = \"text-align: left;\">String31</th></tr></thead><tbody><tr><td class = \"rowNumber\" style = \"font-weight: bold; text-align: right;\">1</td><td style = \"text-align: right;\">2099</td><td style = \"text-align: left;\">Neymar</td></tr></tbody></table></div>"
      ],
      "text/latex": [
       "\\begin{tabular}{r|cc}\n",
       "\t& playerID & name\\\\\n",
       "\t\\hline\n",
       "\t& Int64 & String31\\\\\n",
       "\t\\hline\n",
       "\t1 & 2099 & Neymar \\\\\n",
       "\\end{tabular}\n"
      ],
      "text/plain": [
       "\u001b[1m1×2 DataFrame\u001b[0m\n",
       "\u001b[1m Row \u001b[0m│\u001b[1m playerID \u001b[0m\u001b[1m name     \u001b[0m\n",
       "     │\u001b[90m Int64    \u001b[0m\u001b[90m String31 \u001b[0m\n",
       "─────┼────────────────────\n",
       "   1 │     2099  Neymar"
      ]
     },
     "metadata": {},
     "output_type": "display_data"
    }
   ],
   "source": [
    "players[players.name .== \"Neymar\", :]"
   ]
  },
  {
   "cell_type": "code",
   "execution_count": 23,
   "metadata": {},
   "outputs": [
    {
     "data": {
      "text/html": [
       "<div><div style = \"float: left;\"><span>1×2 DataFrame</span></div><div style = \"clear: both;\"></div></div><div class = \"data-frame\" style = \"overflow-x: scroll;\"><table class = \"data-frame\" style = \"margin-bottom: 6px;\"><thead><tr class = \"header\"><th class = \"rowNumber\" style = \"font-weight: bold; text-align: right;\">Row</th><th style = \"text-align: left;\">playerID</th><th style = \"text-align: left;\">name</th></tr><tr class = \"subheader headerLastRow\"><th class = \"rowNumber\" style = \"font-weight: bold; text-align: right;\"></th><th title = \"Int64\" style = \"text-align: left;\">Int64</th><th title = \"String31\" style = \"text-align: left;\">String31</th></tr></thead><tbody><tr><td class = \"rowNumber\" style = \"font-weight: bold; text-align: right;\">1</td><td style = \"text-align: right;\">2370</td><td style = \"text-align: left;\">Karim Benzema</td></tr></tbody></table></div>"
      ],
      "text/latex": [
       "\\begin{tabular}{r|cc}\n",
       "\t& playerID & name\\\\\n",
       "\t\\hline\n",
       "\t& Int64 & String31\\\\\n",
       "\t\\hline\n",
       "\t1 & 2370 & Karim Benzema \\\\\n",
       "\\end{tabular}\n"
      ],
      "text/plain": [
       "\u001b[1m1×2 DataFrame\u001b[0m\n",
       "\u001b[1m Row \u001b[0m│\u001b[1m playerID \u001b[0m\u001b[1m name          \u001b[0m\n",
       "     │\u001b[90m Int64    \u001b[0m\u001b[90m String31      \u001b[0m\n",
       "─────┼─────────────────────────\n",
       "   1 │     2370  Karim Benzema"
      ]
     },
     "metadata": {},
     "output_type": "display_data"
    }
   ],
   "source": [
    "players[players.name .== \"Karim Benzema\", :]"
   ]
  },
  {
   "cell_type": "code",
   "execution_count": 24,
   "metadata": {},
   "outputs": [
    {
     "data": {
      "text/html": [
       "<div><div style = \"float: left;\"><span>1×2 DataFrame</span></div><div style = \"clear: both;\"></div></div><div class = \"data-frame\" style = \"overflow-x: scroll;\"><table class = \"data-frame\" style = \"margin-bottom: 6px;\"><thead><tr class = \"header\"><th class = \"rowNumber\" style = \"font-weight: bold; text-align: right;\">Row</th><th style = \"text-align: left;\">playerID</th><th style = \"text-align: left;\">name</th></tr><tr class = \"subheader headerLastRow\"><th class = \"rowNumber\" style = \"font-weight: bold; text-align: right;\"></th><th title = \"Int64\" style = \"text-align: left;\">Int64</th><th title = \"String31\" style = \"text-align: left;\">String31</th></tr></thead><tbody><tr><td class = \"rowNumber\" style = \"font-weight: bold; text-align: right;\">1</td><td style = \"text-align: right;\">8015</td><td style = \"text-align: left;\">Rodrygo</td></tr></tbody></table></div>"
      ],
      "text/latex": [
       "\\begin{tabular}{r|cc}\n",
       "\t& playerID & name\\\\\n",
       "\t\\hline\n",
       "\t& Int64 & String31\\\\\n",
       "\t\\hline\n",
       "\t1 & 8015 & Rodrygo \\\\\n",
       "\\end{tabular}\n"
      ],
      "text/plain": [
       "\u001b[1m1×2 DataFrame\u001b[0m\n",
       "\u001b[1m Row \u001b[0m│\u001b[1m playerID \u001b[0m\u001b[1m name     \u001b[0m\n",
       "     │\u001b[90m Int64    \u001b[0m\u001b[90m String31 \u001b[0m\n",
       "─────┼────────────────────\n",
       "   1 │     8015  Rodrygo"
      ]
     },
     "metadata": {},
     "output_type": "display_data"
    }
   ],
   "source": [
    "players[players.name .== \"Rodrygo\", :]"
   ]
  },
  {
   "cell_type": "code",
   "execution_count": 25,
   "metadata": {},
   "outputs": [
    {
     "data": {
      "text/html": [
       "<div><div style = \"float: left;\"><span>1×2 DataFrame</span></div><div style = \"clear: both;\"></div></div><div class = \"data-frame\" style = \"overflow-x: scroll;\"><table class = \"data-frame\" style = \"margin-bottom: 6px;\"><thead><tr class = \"header\"><th class = \"rowNumber\" style = \"font-weight: bold; text-align: right;\">Row</th><th style = \"text-align: left;\">playerID</th><th style = \"text-align: left;\">name</th></tr><tr class = \"subheader headerLastRow\"><th class = \"rowNumber\" style = \"font-weight: bold; text-align: right;\"></th><th title = \"Int64\" style = \"text-align: left;\">Int64</th><th title = \"String31\" style = \"text-align: left;\">String31</th></tr></thead><tbody><tr><td class = \"rowNumber\" style = \"font-weight: bold; text-align: right;\">1</td><td style = \"text-align: right;\">647</td><td style = \"text-align: left;\">Harry Kane</td></tr></tbody></table></div>"
      ],
      "text/latex": [
       "\\begin{tabular}{r|cc}\n",
       "\t& playerID & name\\\\\n",
       "\t\\hline\n",
       "\t& Int64 & String31\\\\\n",
       "\t\\hline\n",
       "\t1 & 647 & Harry Kane \\\\\n",
       "\\end{tabular}\n"
      ],
      "text/plain": [
       "\u001b[1m1×2 DataFrame\u001b[0m\n",
       "\u001b[1m Row \u001b[0m│\u001b[1m playerID \u001b[0m\u001b[1m name       \u001b[0m\n",
       "     │\u001b[90m Int64    \u001b[0m\u001b[90m String31   \u001b[0m\n",
       "─────┼──────────────────────\n",
       "   1 │      647  Harry Kane"
      ]
     },
     "metadata": {},
     "output_type": "display_data"
    }
   ],
   "source": [
    "players[players.name .== \"Harry Kane\", :]"
   ]
  },
  {
   "cell_type": "code",
   "execution_count": 26,
   "metadata": {},
   "outputs": [],
   "source": [
    "messi = 2097\n",
    "neymar = 2099\n",
    "benzema = 2370\n",
    "rodrygo = 8015\n",
    "kane = 647\n",
    "players = [neymar, messi, benzema, rodrygo, kane];"
   ]
  },
  {
   "cell_type": "code",
   "execution_count": 27,
   "metadata": {},
   "outputs": [],
   "source": [
    "shots_players = [shots[shots.shooterID .== player, :] for player in players];"
   ]
  },
  {
   "cell_type": "code",
   "execution_count": 28,
   "metadata": {},
   "outputs": [],
   "source": [
    "using FileIO, GLMakie, ImageShow, ColorSchemes"
   ]
  },
  {
   "cell_type": "code",
   "execution_count": 29,
   "metadata": {},
   "outputs": [],
   "source": [
    "img = load(raw\"C:\\Users\\liber\\Documents\\Datasets\\Football\\Football_field_cut.png\");"
   ]
  },
  {
   "cell_type": "code",
   "execution_count": 30,
   "metadata": {},
   "outputs": [
    {
     "data": {
      "text/plain": [
       "ObserverFunction defined at c:\\Users\\liber\\Documents\\GitHub\\Portifolio\\Futebol_visualizacao.ipynb:66 operating on Observable{Any}(#55)"
      ]
     },
     "metadata": {},
     "output_type": "display_data"
    }
   ],
   "source": [
    "#figura em 4k\n",
    "f = Figure(resolution = (3840, 2160))\n",
    "imagem = Axis(f[1, 2], aspect=AxisAspect(100/65))\n",
    "#remover eixos\n",
    "hidedecorations!(imagem)\n",
    "#adicionando imagem de fundo / campo\n",
    "background = image!(0:1, 0:1, rotr90(img); fxaa=true)\n",
    "\n",
    "#grid com botoes em baixo \n",
    "f[2, :] = buttongrid = GridLayout()\n",
    "\n",
    "#nome dos botoes\n",
    "labels = [\"Neymar\", \"Messi\", \"Benzema\", \"Rodrygo\", \"H. Kane\"]\n",
    "buttons = buttongrid[1, 1:5] = [Button(f, label=l) for l in labels]\n",
    "\n",
    "#nome toggles\n",
    "\n",
    "#dados\n",
    "player = Observable(1)\n",
    "data = @lift(shots_players[$player])\n",
    "\n",
    "#definir pontos | IMPORTANTE USAR ESTRUTURA \"Point2f()\"\n",
    "points = @lift(Point2f.($data.positionX, $data.positionY))\n",
    "#Xg para o heat map\n",
    "hmap = @lift($data.xGoal)\n",
    "\n",
    "#scatter plot\n",
    "plot = scatter!(imagem, points, color=hmap, colormap=cgrad([:cyan, :blue, :purple, :red, :orange, :yellow], [0.1, 0.2, 0.4, 0.5, 0.7, 0.9], alpha = 0.6, rev = false, scale = nothing), strokewidth=0.8, fxaa=true)\n",
    "\n",
    "#barra com a legenda do heat map\n",
    "barra = Colorbar(f[1, 3], plot; label = \"xGoals\", ticks=0:0.1:1)\n",
    "\n",
    "#menu 1 : (label, funcao)\n",
    "feet = [\"RightFoot\", \"LeftFoot\", \"Head\", \"Todos\"]\n",
    "data_funcs_1 = [i != \"Todos\" ? (data -> data[data.shotType .== i, :]) : data -> data for i in feet]\n",
    "menu1 = Menu(f, options = zip(feet, data_funcs_1), default = \"Todos\")\n",
    "\n",
    "#menu 2 : (label, funcao)\n",
    "outcome = [\"Goal\", \"MissedShots\", \"SavedShot\", \"Todos\"]\n",
    "data_funcs_2 = [i != \"Todos\" ? (data -> data[data.shotResult .== i, :]) : data -> data for i in outcome]\n",
    "menu2 = Menu(f, options = zip(outcome, data_funcs_2), default = \"Todos\")\n",
    "\n",
    "#grid de menus\n",
    "f[:, 1] = vgrid!(\n",
    "    Label(f, \"Foot\", width = nothing),\n",
    "    menu1,\n",
    "    Label(f, \"Outcome\", width = nothing),\n",
    "    menu2;\n",
    "    tellheight = false, width = 200)\n",
    "\n",
    "#configurando ativacao dos botoes | levar em conta os menus ativados\n",
    "for i in 1:5\n",
    "    on(buttons[i].clicks) do click\n",
    "        player[] = i\n",
    "        data[] = menu1.selection.val(menu2.selection.val(shots_players[player.val]))\n",
    "    end\n",
    "end\n",
    "\n",
    "#configurando so menus | importante manter o menu ja ativado \n",
    "on(menu1.selection) do s\n",
    "    data.val = menu2.selection.val(shots_players[player.val])\n",
    "    data[] = s(data.val)\n",
    "end\n",
    "\n",
    "on(menu2.selection) do s\n",
    "    data.val = menu1.selection.val(shots_players[player.val])\n",
    "    data[] = s(data.val)\n",
    "end"
   ]
  },
  {
   "cell_type": "code",
   "execution_count": 31,
   "metadata": {},
   "outputs": [],
   "source": [
    "f"
   ]
  }
 ],
 "metadata": {
  "kernelspec": {
   "display_name": "Julia 1.8.3",
   "language": "julia",
   "name": "julia-1.8"
  },
  "language_info": {
   "file_extension": ".jl",
   "mimetype": "application/julia",
   "name": "julia",
   "version": "1.8.3"
  },
  "orig_nbformat": 4
 },
 "nbformat": 4,
 "nbformat_minor": 2
}
