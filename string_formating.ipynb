{
 "cells": [
  {
   "cell_type": "code",
   "execution_count": 6,
   "metadata": {},
   "outputs": [
    {
     "data": {
      "text/plain": [
       "rhombus (generic function with 1 method)"
      ]
     },
     "metadata": {},
     "output_type": "display_data"
    }
   ],
   "source": [
    "function rhombus(size)\n",
    "    for i in 1:size\n",
    "        line = repeat(' ', size-i) * repeat('*', size)\n",
    "        println(line)\n",
    "    end\n",
    "end"
   ]
  },
  {
   "cell_type": "code",
   "execution_count": 73,
   "metadata": {},
   "outputs": [
    {
     "name": "stdout",
     "output_type": "stream",
     "text": [
      "     ******\n",
      "    ******\n",
      "   ******\n",
      "  ******\n",
      " ******\n",
      "******\n"
     ]
    }
   ],
   "source": [
    "rhombus(6)"
   ]
  },
  {
   "cell_type": "code",
   "execution_count": 71,
   "metadata": {},
   "outputs": [
    {
     "data": {
      "text/plain": [
       "pyramid (generic function with 1 method)"
      ]
     },
     "metadata": {},
     "output_type": "display_data"
    }
   ],
   "source": [
    "function pyramid(size)\n",
    "    for i in 1:size\n",
    "        owo = (size - i) % 2 \n",
    "        if owo == 1\n",
    "            line = repeat(\"  \", trunc(Int, (size-i)/2) + 1) * repeat((string(i) * ' '), trunc(Int, (i)))\n",
    "        else\n",
    "            line = repeat(\"  \", trunc(Int, (size-i)/2)) * ' ' * repeat((string(i) * ' '), trunc(Int, (i/2))) * repeat((string(i) * ' '), trunc(Int, (i/2)))\n",
    "        end\n",
    "        println(line)\n",
    "    end\n",
    "end"
   ]
  },
  {
   "cell_type": "code",
   "execution_count": 72,
   "metadata": {},
   "outputs": [
    {
     "name": "stdout",
     "output_type": "stream",
     "text": [
      "      1 \n",
      "     2 2 \n",
      "    3 3 3 \n",
      "   4 4 4 4 \n",
      "  5 5 5 5 5 \n",
      " 6 6 6 6 6 6 \n"
     ]
    }
   ],
   "source": [
    "pyramid(6)"
   ]
  },
  {
   "cell_type": "code",
   "execution_count": 64,
   "metadata": {},
   "outputs": [
    {
     "data": {
      "text/plain": [
       "pali_pyramid (generic function with 2 methods)"
      ]
     },
     "metadata": {},
     "output_type": "display_data"
    }
   ],
   "source": [
    "function pali_pyramid(size)\n",
    "    numbers = '1'\n",
    "    line = repeat(' ', size - 1) * numbers \n",
    "    println(line)\n",
    "    for i in 2:size\n",
    "        numbers = string(i) * numbers * string(i)\n",
    "        line = repeat(' ', size - i) * numbers \n",
    "        println(line)\n",
    "    end\n",
    "end"
   ]
  },
  {
   "cell_type": "code",
   "execution_count": 65,
   "metadata": {},
   "outputs": [
    {
     "name": "stdout",
     "output_type": "stream",
     "text": [
      "     1\n",
      "    212\n",
      "   32123\n",
      "  4321234\n",
      " 543212345\n",
      "65432123456\n"
     ]
    }
   ],
   "source": [
    "pali_pyramid(6)"
   ]
  }
 ],
 "metadata": {
  "kernelspec": {
   "display_name": "Julia 1.7.1",
   "language": "julia",
   "name": "julia-1.7"
  },
  "language_info": {
   "file_extension": ".jl",
   "mimetype": "application/julia",
   "name": "julia",
   "version": "1.7.1"
  },
  "orig_nbformat": 4
 },
 "nbformat": 4,
 "nbformat_minor": 2
}
