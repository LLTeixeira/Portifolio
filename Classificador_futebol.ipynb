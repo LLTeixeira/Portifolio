{
 "cells": [
  {
   "cell_type": "code",
   "execution_count": 1,
   "metadata": {},
   "outputs": [],
   "source": [
    "import numpy as np\n",
    "import pandas as pd"
   ]
  },
  {
   "cell_type": "code",
   "execution_count": 2,
   "metadata": {},
   "outputs": [],
   "source": [
    "data_train = pd.read_csv(r\"C:\\Users\\liber\\Desktop\\Stats\\4o Semestre\\Aprendizado de Maquina\\train_projetofinal.csv\")"
   ]
  },
  {
   "cell_type": "code",
   "execution_count": 3,
   "metadata": {},
   "outputs": [
    {
     "data": {
      "text/html": [
       "<div>\n",
       "<style scoped>\n",
       "    .dataframe tbody tr th:only-of-type {\n",
       "        vertical-align: middle;\n",
       "    }\n",
       "\n",
       "    .dataframe tbody tr th {\n",
       "        vertical-align: top;\n",
       "    }\n",
       "\n",
       "    .dataframe thead th {\n",
       "        text-align: right;\n",
       "    }\n",
       "</style>\n",
       "<table border=\"1\" class=\"dataframe\">\n",
       "  <thead>\n",
       "    <tr style=\"text-align: right;\">\n",
       "      <th></th>\n",
       "      <th>Name</th>\n",
       "      <th>Nationality</th>\n",
       "      <th>Club</th>\n",
       "      <th>Country_Club_id</th>\n",
       "      <th>Country_Club</th>\n",
       "      <th>National_Position</th>\n",
       "      <th>National_Kit</th>\n",
       "      <th>Club_Position</th>\n",
       "      <th>Club_Kit</th>\n",
       "      <th>Club_Joining</th>\n",
       "      <th>...</th>\n",
       "      <th>Long_Shots</th>\n",
       "      <th>Curve</th>\n",
       "      <th>Freekick_Accuracy</th>\n",
       "      <th>Penalties</th>\n",
       "      <th>Volleys</th>\n",
       "      <th>GK_Positioning</th>\n",
       "      <th>GK_Diving</th>\n",
       "      <th>GK_Kicking</th>\n",
       "      <th>GK_Handling</th>\n",
       "      <th>GK_Reflexes</th>\n",
       "    </tr>\n",
       "  </thead>\n",
       "  <tbody>\n",
       "    <tr>\n",
       "      <th>0</th>\n",
       "      <td>Cristiano Ronaldo</td>\n",
       "      <td>Portugal</td>\n",
       "      <td>Real Madrid CF</td>\n",
       "      <td>10</td>\n",
       "      <td>Spain</td>\n",
       "      <td>LS</td>\n",
       "      <td>7.0</td>\n",
       "      <td>LW</td>\n",
       "      <td>7</td>\n",
       "      <td>07/01/2009</td>\n",
       "      <td>...</td>\n",
       "      <td>90</td>\n",
       "      <td>81</td>\n",
       "      <td>76</td>\n",
       "      <td>85</td>\n",
       "      <td>88</td>\n",
       "      <td>14</td>\n",
       "      <td>7</td>\n",
       "      <td>15</td>\n",
       "      <td>11</td>\n",
       "      <td>11</td>\n",
       "    </tr>\n",
       "    <tr>\n",
       "      <th>1</th>\n",
       "      <td>Lionel Messi</td>\n",
       "      <td>Argentina</td>\n",
       "      <td>FC Barcelona</td>\n",
       "      <td>10</td>\n",
       "      <td>Spain</td>\n",
       "      <td>RW</td>\n",
       "      <td>10.0</td>\n",
       "      <td>RW</td>\n",
       "      <td>10</td>\n",
       "      <td>07/01/2004</td>\n",
       "      <td>...</td>\n",
       "      <td>88</td>\n",
       "      <td>89</td>\n",
       "      <td>90</td>\n",
       "      <td>74</td>\n",
       "      <td>85</td>\n",
       "      <td>14</td>\n",
       "      <td>6</td>\n",
       "      <td>15</td>\n",
       "      <td>11</td>\n",
       "      <td>8</td>\n",
       "    </tr>\n",
       "    <tr>\n",
       "      <th>2</th>\n",
       "      <td>Neymar</td>\n",
       "      <td>Brazil</td>\n",
       "      <td>FC Barcelona</td>\n",
       "      <td>10</td>\n",
       "      <td>Spain</td>\n",
       "      <td>LW</td>\n",
       "      <td>10.0</td>\n",
       "      <td>LW</td>\n",
       "      <td>11</td>\n",
       "      <td>07/01/2013</td>\n",
       "      <td>...</td>\n",
       "      <td>77</td>\n",
       "      <td>79</td>\n",
       "      <td>84</td>\n",
       "      <td>81</td>\n",
       "      <td>83</td>\n",
       "      <td>15</td>\n",
       "      <td>9</td>\n",
       "      <td>15</td>\n",
       "      <td>9</td>\n",
       "      <td>11</td>\n",
       "    </tr>\n",
       "    <tr>\n",
       "      <th>3</th>\n",
       "      <td>Luis Suárez</td>\n",
       "      <td>Uruguay</td>\n",
       "      <td>FC Barcelona</td>\n",
       "      <td>10</td>\n",
       "      <td>Spain</td>\n",
       "      <td>LS</td>\n",
       "      <td>9.0</td>\n",
       "      <td>ST</td>\n",
       "      <td>9</td>\n",
       "      <td>07/11/2014</td>\n",
       "      <td>...</td>\n",
       "      <td>86</td>\n",
       "      <td>86</td>\n",
       "      <td>84</td>\n",
       "      <td>85</td>\n",
       "      <td>88</td>\n",
       "      <td>33</td>\n",
       "      <td>27</td>\n",
       "      <td>31</td>\n",
       "      <td>25</td>\n",
       "      <td>37</td>\n",
       "    </tr>\n",
       "    <tr>\n",
       "      <th>4</th>\n",
       "      <td>Manuel Neuer</td>\n",
       "      <td>Germany</td>\n",
       "      <td>FC Bayern Munich</td>\n",
       "      <td>4</td>\n",
       "      <td>Germany</td>\n",
       "      <td>GK</td>\n",
       "      <td>1.0</td>\n",
       "      <td>GK</td>\n",
       "      <td>1</td>\n",
       "      <td>07/01/2011</td>\n",
       "      <td>...</td>\n",
       "      <td>16</td>\n",
       "      <td>14</td>\n",
       "      <td>11</td>\n",
       "      <td>47</td>\n",
       "      <td>11</td>\n",
       "      <td>91</td>\n",
       "      <td>89</td>\n",
       "      <td>95</td>\n",
       "      <td>90</td>\n",
       "      <td>89</td>\n",
       "    </tr>\n",
       "    <tr>\n",
       "      <th>...</th>\n",
       "      <td>...</td>\n",
       "      <td>...</td>\n",
       "      <td>...</td>\n",
       "      <td>...</td>\n",
       "      <td>...</td>\n",
       "      <td>...</td>\n",
       "      <td>...</td>\n",
       "      <td>...</td>\n",
       "      <td>...</td>\n",
       "      <td>...</td>\n",
       "      <td>...</td>\n",
       "      <td>...</td>\n",
       "      <td>...</td>\n",
       "      <td>...</td>\n",
       "      <td>...</td>\n",
       "      <td>...</td>\n",
       "      <td>...</td>\n",
       "      <td>...</td>\n",
       "      <td>...</td>\n",
       "      <td>...</td>\n",
       "      <td>...</td>\n",
       "    </tr>\n",
       "    <tr>\n",
       "      <th>4527</th>\n",
       "      <td>Carl Stewart</td>\n",
       "      <td>England</td>\n",
       "      <td>Watford</td>\n",
       "      <td>2</td>\n",
       "      <td>England</td>\n",
       "      <td>NaN</td>\n",
       "      <td>NaN</td>\n",
       "      <td>Res</td>\n",
       "      <td>35</td>\n",
       "      <td>07/01/2016</td>\n",
       "      <td>...</td>\n",
       "      <td>36</td>\n",
       "      <td>32</td>\n",
       "      <td>36</td>\n",
       "      <td>35</td>\n",
       "      <td>30</td>\n",
       "      <td>14</td>\n",
       "      <td>12</td>\n",
       "      <td>7</td>\n",
       "      <td>13</td>\n",
       "      <td>10</td>\n",
       "    </tr>\n",
       "    <tr>\n",
       "      <th>4528</th>\n",
       "      <td>Daniel Hoban</td>\n",
       "      <td>Scotland</td>\n",
       "      <td>Inverness Caledonian Thistle</td>\n",
       "      <td>9</td>\n",
       "      <td>Scotland</td>\n",
       "      <td>NaN</td>\n",
       "      <td>NaN</td>\n",
       "      <td>Res</td>\n",
       "      <td>42</td>\n",
       "      <td>07/01/2014</td>\n",
       "      <td>...</td>\n",
       "      <td>13</td>\n",
       "      <td>17</td>\n",
       "      <td>18</td>\n",
       "      <td>20</td>\n",
       "      <td>21</td>\n",
       "      <td>44</td>\n",
       "      <td>46</td>\n",
       "      <td>53</td>\n",
       "      <td>47</td>\n",
       "      <td>45</td>\n",
       "    </tr>\n",
       "    <tr>\n",
       "      <th>4529</th>\n",
       "      <td>Kyle Gourlay</td>\n",
       "      <td>Scotland</td>\n",
       "      <td>Dundee FC</td>\n",
       "      <td>9</td>\n",
       "      <td>Scotland</td>\n",
       "      <td>NaN</td>\n",
       "      <td>NaN</td>\n",
       "      <td>Sub</td>\n",
       "      <td>46</td>\n",
       "      <td>07/01/2014</td>\n",
       "      <td>...</td>\n",
       "      <td>16</td>\n",
       "      <td>15</td>\n",
       "      <td>13</td>\n",
       "      <td>27</td>\n",
       "      <td>20</td>\n",
       "      <td>47</td>\n",
       "      <td>47</td>\n",
       "      <td>52</td>\n",
       "      <td>42</td>\n",
       "      <td>46</td>\n",
       "    </tr>\n",
       "    <tr>\n",
       "      <th>4530</th>\n",
       "      <td>Neil McLaughlin</td>\n",
       "      <td>Scotland</td>\n",
       "      <td>Partick Thistle F.C.</td>\n",
       "      <td>9</td>\n",
       "      <td>Scotland</td>\n",
       "      <td>NaN</td>\n",
       "      <td>NaN</td>\n",
       "      <td>Sub</td>\n",
       "      <td>26</td>\n",
       "      <td>05/26/2015</td>\n",
       "      <td>...</td>\n",
       "      <td>30</td>\n",
       "      <td>34</td>\n",
       "      <td>30</td>\n",
       "      <td>39</td>\n",
       "      <td>41</td>\n",
       "      <td>14</td>\n",
       "      <td>8</td>\n",
       "      <td>15</td>\n",
       "      <td>16</td>\n",
       "      <td>9</td>\n",
       "    </tr>\n",
       "    <tr>\n",
       "      <th>4531</th>\n",
       "      <td>Mark Foden</td>\n",
       "      <td>Scotland</td>\n",
       "      <td>Ross County FC</td>\n",
       "      <td>9</td>\n",
       "      <td>Scotland</td>\n",
       "      <td>NaN</td>\n",
       "      <td>NaN</td>\n",
       "      <td>Sub</td>\n",
       "      <td>45</td>\n",
       "      <td>03/02/2016</td>\n",
       "      <td>...</td>\n",
       "      <td>12</td>\n",
       "      <td>13</td>\n",
       "      <td>12</td>\n",
       "      <td>24</td>\n",
       "      <td>12</td>\n",
       "      <td>40</td>\n",
       "      <td>45</td>\n",
       "      <td>44</td>\n",
       "      <td>43</td>\n",
       "      <td>45</td>\n",
       "    </tr>\n",
       "  </tbody>\n",
       "</table>\n",
       "<p>4532 rows × 55 columns</p>\n",
       "</div>"
      ],
      "text/plain": [
       "                   Name Nationality                          Club  \\\n",
       "0     Cristiano Ronaldo    Portugal                Real Madrid CF   \n",
       "1          Lionel Messi   Argentina                  FC Barcelona   \n",
       "2                Neymar      Brazil                  FC Barcelona   \n",
       "3           Luis Suárez     Uruguay                  FC Barcelona   \n",
       "4          Manuel Neuer     Germany              FC Bayern Munich   \n",
       "...                 ...         ...                           ...   \n",
       "4527       Carl Stewart     England                       Watford   \n",
       "4528       Daniel Hoban    Scotland  Inverness Caledonian Thistle   \n",
       "4529       Kyle Gourlay    Scotland                     Dundee FC   \n",
       "4530    Neil McLaughlin    Scotland          Partick Thistle F.C.   \n",
       "4531         Mark Foden    Scotland                Ross County FC   \n",
       "\n",
       "      Country_Club_id Country_Club National_Position  National_Kit  \\\n",
       "0                  10        Spain                LS           7.0   \n",
       "1                  10        Spain                RW          10.0   \n",
       "2                  10        Spain                LW          10.0   \n",
       "3                  10        Spain                LS           9.0   \n",
       "4                   4      Germany                GK           1.0   \n",
       "...               ...          ...               ...           ...   \n",
       "4527                2      England               NaN           NaN   \n",
       "4528                9     Scotland               NaN           NaN   \n",
       "4529                9     Scotland               NaN           NaN   \n",
       "4530                9     Scotland               NaN           NaN   \n",
       "4531                9     Scotland               NaN           NaN   \n",
       "\n",
       "     Club_Position  Club_Kit Club_Joining  ...  Long_Shots  Curve  \\\n",
       "0               LW         7   07/01/2009  ...          90     81   \n",
       "1               RW        10   07/01/2004  ...          88     89   \n",
       "2               LW        11   07/01/2013  ...          77     79   \n",
       "3               ST         9   07/11/2014  ...          86     86   \n",
       "4               GK         1   07/01/2011  ...          16     14   \n",
       "...            ...       ...          ...  ...         ...    ...   \n",
       "4527           Res        35   07/01/2016  ...          36     32   \n",
       "4528           Res        42   07/01/2014  ...          13     17   \n",
       "4529           Sub        46   07/01/2014  ...          16     15   \n",
       "4530           Sub        26   05/26/2015  ...          30     34   \n",
       "4531           Sub        45   03/02/2016  ...          12     13   \n",
       "\n",
       "      Freekick_Accuracy  Penalties Volleys GK_Positioning  GK_Diving  \\\n",
       "0                    76         85      88             14          7   \n",
       "1                    90         74      85             14          6   \n",
       "2                    84         81      83             15          9   \n",
       "3                    84         85      88             33         27   \n",
       "4                    11         47      11             91         89   \n",
       "...                 ...        ...     ...            ...        ...   \n",
       "4527                 36         35      30             14         12   \n",
       "4528                 18         20      21             44         46   \n",
       "4529                 13         27      20             47         47   \n",
       "4530                 30         39      41             14          8   \n",
       "4531                 12         24      12             40         45   \n",
       "\n",
       "     GK_Kicking GK_Handling  GK_Reflexes  \n",
       "0            15          11           11  \n",
       "1            15          11            8  \n",
       "2            15           9           11  \n",
       "3            31          25           37  \n",
       "4            95          90           89  \n",
       "...         ...         ...          ...  \n",
       "4527          7          13           10  \n",
       "4528         53          47           45  \n",
       "4529         52          42           46  \n",
       "4530         15          16            9  \n",
       "4531         44          43           45  \n",
       "\n",
       "[4532 rows x 55 columns]"
      ]
     },
     "execution_count": 3,
     "metadata": {},
     "output_type": "execute_result"
    }
   ],
   "source": [
    "data_train"
   ]
  },
  {
   "cell_type": "code",
   "execution_count": 4,
   "metadata": {},
   "outputs": [
    {
     "data": {
      "text/plain": [
       "Index(['Name', 'Nationality', 'Club', 'Country_Club_id', 'Country_Club',\n",
       "       'National_Position', 'National_Kit', 'Club_Position', 'Club_Kit',\n",
       "       'Club_Joining', 'Contract_Expiry', 'Rating', 'Height', 'Weight',\n",
       "       'Preffered_Foot', 'Birth_Date', 'Age', 'Work_Rate_Attacking',\n",
       "       'Work_Rate_Defensive', 'Weak_foot', 'Skill_Moves', 'Ball_Control',\n",
       "       'Dribbling', 'Marking', 'Sliding_Tackle', 'Standing_Tackle',\n",
       "       'Aggression', 'Reactions', 'Attacking_Position', 'Interceptions',\n",
       "       'Vision', 'Composure', 'Crossing', 'Short_Pass', 'Long_Pass',\n",
       "       'Acceleration', 'Speed', 'Stamina', 'Strength', 'Balance', 'Agility',\n",
       "       'Jumping', 'Heading', 'Shot_Power', 'Finishing', 'Long_Shots', 'Curve',\n",
       "       'Freekick_Accuracy', 'Penalties', 'Volleys', 'GK_Positioning',\n",
       "       'GK_Diving', 'GK_Kicking', 'GK_Handling', 'GK_Reflexes'],\n",
       "      dtype='object')"
      ]
     },
     "execution_count": 4,
     "metadata": {},
     "output_type": "execute_result"
    }
   ],
   "source": [
    "data_train.columns"
   ]
  },
  {
   "cell_type": "code",
   "execution_count": 5,
   "metadata": {},
   "outputs": [
    {
     "data": {
      "text/plain": [
       "Sub    1871\n",
       "Res     926\n",
       "RCB     161\n",
       "LCB     159\n",
       "GK      156\n",
       "RB      140\n",
       "LB      132\n",
       "ST      121\n",
       "RM       97\n",
       "LM       97\n",
       "LCM      95\n",
       "RCM      90\n",
       "CAM      74\n",
       "LDM      59\n",
       "RDM      59\n",
       "LW       49\n",
       "RW       48\n",
       "CDM      41\n",
       "RS       39\n",
       "LS       37\n",
       "CB       22\n",
       "CM       20\n",
       "RWB      12\n",
       "LWB      11\n",
       "RF        5\n",
       "LF        4\n",
       "LAM       3\n",
       "RAM       2\n",
       "CF        2\n",
       "Name: Club_Position, dtype: int64"
      ]
     },
     "execution_count": 5,
     "metadata": {},
     "output_type": "execute_result"
    }
   ],
   "source": [
    "data_train[\"Club_Position\"].value_counts()"
   ]
  },
  {
   "cell_type": "code",
   "execution_count": 6,
   "metadata": {},
   "outputs": [],
   "source": [
    "data_train[\"Club_Position\"].replace({'CF': 'ST', 'RAM': 'CAM', 'LAM': 'CAM', 'LF': 'ST', 'RF': 'ST'}, inplace=True)"
   ]
  },
  {
   "cell_type": "code",
   "execution_count": 7,
   "metadata": {},
   "outputs": [
    {
     "data": {
      "text/plain": [
       "France                476\n",
       "Spain                 390\n",
       "Netherlands           302\n",
       "Germany               287\n",
       "England               278\n",
       "                     ... \n",
       "Tanzania                1\n",
       "Cyprus                  1\n",
       "Dominican Republic      1\n",
       "Benin                   1\n",
       "Equatorial Guinea       1\n",
       "Name: Nationality, Length: 115, dtype: int64"
      ]
     },
     "execution_count": 7,
     "metadata": {},
     "output_type": "execute_result"
    }
   ],
   "source": [
    "data_train[\"Nationality\"].value_counts() "
   ]
  },
  {
   "cell_type": "code",
   "execution_count": 8,
   "metadata": {},
   "outputs": [
    {
     "data": {
      "text/plain": [
       "[115,\n",
       " 96,\n",
       " 91,\n",
       " 82,\n",
       " 76,\n",
       " 74,\n",
       " 69,\n",
       " 60,\n",
       " 53,\n",
       " 50,\n",
       " 50,\n",
       " 49,\n",
       " 46,\n",
       " 45,\n",
       " 45,\n",
       " 44,\n",
       " 44,\n",
       " 42,\n",
       " 41,\n",
       " 40,\n",
       " 37,\n",
       " 35,\n",
       " 35,\n",
       " 34,\n",
       " 34,\n",
       " 33,\n",
       " 31,\n",
       " 28,\n",
       " 27,\n",
       " 27,\n",
       " 25,\n",
       " 24,\n",
       " 24,\n",
       " 21,\n",
       " 20,\n",
       " 20,\n",
       " 20,\n",
       " 20,\n",
       " 20,\n",
       " 20,\n",
       " 18,\n",
       " 17,\n",
       " 16,\n",
       " 16,\n",
       " 16,\n",
       " 16,\n",
       " 16,\n",
       " 16,\n",
       " 16,\n",
       " 16,\n",
       " 16,\n",
       " 15,\n",
       " 15,\n",
       " 15,\n",
       " 14,\n",
       " 14,\n",
       " 14,\n",
       " 14,\n",
       " 14,\n",
       " 14,\n",
       " 14,\n",
       " 14,\n",
       " 14,\n",
       " 14,\n",
       " 14,\n",
       " 14,\n",
       " 14,\n",
       " 14,\n",
       " 14,\n",
       " 14,\n",
       " 14,\n",
       " 14,\n",
       " 14,\n",
       " 14,\n",
       " 14,\n",
       " 14,\n",
       " 14,\n",
       " 14,\n",
       " 14,\n",
       " 13,\n",
       " 13,\n",
       " 13,\n",
       " 13,\n",
       " 13,\n",
       " 13,\n",
       " 13,\n",
       " 13,\n",
       " 13,\n",
       " 13,\n",
       " 13,\n",
       " 13,\n",
       " 13,\n",
       " 13,\n",
       " 13,\n",
       " 13,\n",
       " 13,\n",
       " 13,\n",
       " 13,\n",
       " 13,\n",
       " 12]"
      ]
     },
     "execution_count": 8,
     "metadata": {},
     "output_type": "execute_result"
    }
   ],
   "source": [
    "corte = []\n",
    "for i in range(100):\n",
    "    corte.append(sum(data_train[\"Nationality\"].value_counts() > i))\n",
    "corte"
   ]
  },
  {
   "cell_type": "code",
   "execution_count": 9,
   "metadata": {},
   "outputs": [],
   "source": [
    "import matplotlib.pyplot as plt"
   ]
  },
  {
   "cell_type": "code",
   "execution_count": 10,
   "metadata": {},
   "outputs": [
    {
     "data": {
      "text/plain": [
       "[<matplotlib.lines.Line2D at 0x1c2cd096160>]"
      ]
     },
     "execution_count": 10,
     "metadata": {},
     "output_type": "execute_result"
    },
    {
     "data": {
      "image/png": "[encoded data removed]",
      "text/plain": [
       "<Figure size 640x480 with 1 Axes>"
      ]
     },
     "metadata": {},
     "output_type": "display_data"
    }
   ],
   "source": [
    "plt.plot(corte)"
   ]
  },
  {
   "cell_type": "code",
   "execution_count": 11,
   "metadata": {},
   "outputs": [],
   "source": [
    "data_train.drop([\"Name\", \"Club_Joining\", \"Contract_Expiry\", \"Birth_Date\", \"Club\", \"Country_Club_id\", \"National_Kit\", \"National_Position\", \"Club_Kit\"], inplace=True, axis=1)"
   ]
  },
  {
   "cell_type": "code",
   "execution_count": 12,
   "metadata": {},
   "outputs": [
    {
     "data": {
      "text/plain": [
       "array(['High ', 'Medium ', 'Low '], dtype=object)"
      ]
     },
     "execution_count": 12,
     "metadata": {},
     "output_type": "execute_result"
    }
   ],
   "source": [
    "pd.unique(data_train.Work_Rate_Attacking)"
   ]
  },
  {
   "cell_type": "code",
   "execution_count": 13,
   "metadata": {},
   "outputs": [],
   "source": [
    "data_train[\"Work_Rate_Attacking\"].replace({'High ': 1, 'Medium ': 0.5, 'Low ': 0}, inplace=True)"
   ]
  },
  {
   "cell_type": "code",
   "execution_count": 14,
   "metadata": {},
   "outputs": [
    {
     "data": {
      "text/plain": [
       "array([' Low', ' Medium', ' High'], dtype=object)"
      ]
     },
     "execution_count": 14,
     "metadata": {},
     "output_type": "execute_result"
    }
   ],
   "source": [
    "pd.unique(data_train.Work_Rate_Defensive)"
   ]
  },
  {
   "cell_type": "code",
   "execution_count": 15,
   "metadata": {},
   "outputs": [],
   "source": [
    "data_train[\"Work_Rate_Defensive\"].replace({' High': 1, ' Medium': 0.5, ' Low': 0}, inplace=True)"
   ]
  },
  {
   "cell_type": "code",
   "execution_count": 16,
   "metadata": {},
   "outputs": [
    {
     "data": {
      "text/html": [
       "<div>\n",
       "<style scoped>\n",
       "    .dataframe tbody tr th:only-of-type {\n",
       "        vertical-align: middle;\n",
       "    }\n",
       "\n",
       "    .dataframe tbody tr th {\n",
       "        vertical-align: top;\n",
       "    }\n",
       "\n",
       "    .dataframe thead th {\n",
       "        text-align: right;\n",
       "    }\n",
       "</style>\n",
       "<table border=\"1\" class=\"dataframe\">\n",
       "  <thead>\n",
       "    <tr style=\"text-align: right;\">\n",
       "      <th></th>\n",
       "      <th>Nationality</th>\n",
       "      <th>Country_Club</th>\n",
       "      <th>Club_Position</th>\n",
       "      <th>Rating</th>\n",
       "      <th>Height</th>\n",
       "      <th>Weight</th>\n",
       "      <th>Preffered_Foot</th>\n",
       "      <th>Age</th>\n",
       "      <th>Work_Rate_Attacking</th>\n",
       "      <th>Work_Rate_Defensive</th>\n",
       "      <th>...</th>\n",
       "      <th>Long_Shots</th>\n",
       "      <th>Curve</th>\n",
       "      <th>Freekick_Accuracy</th>\n",
       "      <th>Penalties</th>\n",
       "      <th>Volleys</th>\n",
       "      <th>GK_Positioning</th>\n",
       "      <th>GK_Diving</th>\n",
       "      <th>GK_Kicking</th>\n",
       "      <th>GK_Handling</th>\n",
       "      <th>GK_Reflexes</th>\n",
       "    </tr>\n",
       "  </thead>\n",
       "  <tbody>\n",
       "    <tr>\n",
       "      <th>0</th>\n",
       "      <td>Portugal</td>\n",
       "      <td>Spain</td>\n",
       "      <td>LW</td>\n",
       "      <td>94</td>\n",
       "      <td>185</td>\n",
       "      <td>80</td>\n",
       "      <td>Right</td>\n",
       "      <td>32</td>\n",
       "      <td>1.0</td>\n",
       "      <td>0.0</td>\n",
       "      <td>...</td>\n",
       "      <td>90</td>\n",
       "      <td>81</td>\n",
       "      <td>76</td>\n",
       "      <td>85</td>\n",
       "      <td>88</td>\n",
       "      <td>14</td>\n",
       "      <td>7</td>\n",
       "      <td>15</td>\n",
       "      <td>11</td>\n",
       "      <td>11</td>\n",
       "    </tr>\n",
       "    <tr>\n",
       "      <th>1</th>\n",
       "      <td>Argentina</td>\n",
       "      <td>Spain</td>\n",
       "      <td>RW</td>\n",
       "      <td>93</td>\n",
       "      <td>170</td>\n",
       "      <td>72</td>\n",
       "      <td>Left</td>\n",
       "      <td>29</td>\n",
       "      <td>0.5</td>\n",
       "      <td>0.5</td>\n",
       "      <td>...</td>\n",
       "      <td>88</td>\n",
       "      <td>89</td>\n",
       "      <td>90</td>\n",
       "      <td>74</td>\n",
       "      <td>85</td>\n",
       "      <td>14</td>\n",
       "      <td>6</td>\n",
       "      <td>15</td>\n",
       "      <td>11</td>\n",
       "      <td>8</td>\n",
       "    </tr>\n",
       "    <tr>\n",
       "      <th>2</th>\n",
       "      <td>Brazil</td>\n",
       "      <td>Spain</td>\n",
       "      <td>LW</td>\n",
       "      <td>92</td>\n",
       "      <td>174</td>\n",
       "      <td>68</td>\n",
       "      <td>Right</td>\n",
       "      <td>25</td>\n",
       "      <td>1.0</td>\n",
       "      <td>0.5</td>\n",
       "      <td>...</td>\n",
       "      <td>77</td>\n",
       "      <td>79</td>\n",
       "      <td>84</td>\n",
       "      <td>81</td>\n",
       "      <td>83</td>\n",
       "      <td>15</td>\n",
       "      <td>9</td>\n",
       "      <td>15</td>\n",
       "      <td>9</td>\n",
       "      <td>11</td>\n",
       "    </tr>\n",
       "    <tr>\n",
       "      <th>3</th>\n",
       "      <td>Uruguay</td>\n",
       "      <td>Spain</td>\n",
       "      <td>ST</td>\n",
       "      <td>92</td>\n",
       "      <td>182</td>\n",
       "      <td>85</td>\n",
       "      <td>Right</td>\n",
       "      <td>30</td>\n",
       "      <td>1.0</td>\n",
       "      <td>0.5</td>\n",
       "      <td>...</td>\n",
       "      <td>86</td>\n",
       "      <td>86</td>\n",
       "      <td>84</td>\n",
       "      <td>85</td>\n",
       "      <td>88</td>\n",
       "      <td>33</td>\n",
       "      <td>27</td>\n",
       "      <td>31</td>\n",
       "      <td>25</td>\n",
       "      <td>37</td>\n",
       "    </tr>\n",
       "    <tr>\n",
       "      <th>4</th>\n",
       "      <td>Germany</td>\n",
       "      <td>Germany</td>\n",
       "      <td>GK</td>\n",
       "      <td>92</td>\n",
       "      <td>193</td>\n",
       "      <td>92</td>\n",
       "      <td>Right</td>\n",
       "      <td>31</td>\n",
       "      <td>0.5</td>\n",
       "      <td>0.5</td>\n",
       "      <td>...</td>\n",
       "      <td>16</td>\n",
       "      <td>14</td>\n",
       "      <td>11</td>\n",
       "      <td>47</td>\n",
       "      <td>11</td>\n",
       "      <td>91</td>\n",
       "      <td>89</td>\n",
       "      <td>95</td>\n",
       "      <td>90</td>\n",
       "      <td>89</td>\n",
       "    </tr>\n",
       "  </tbody>\n",
       "</table>\n",
       "<p>5 rows × 46 columns</p>\n",
       "</div>"
      ],
      "text/plain": [
       "  Nationality Country_Club Club_Position  Rating  Height  Weight  \\\n",
       "0    Portugal        Spain            LW      94     185      80   \n",
       "1   Argentina        Spain            RW      93     170      72   \n",
       "2      Brazil        Spain            LW      92     174      68   \n",
       "3     Uruguay        Spain            ST      92     182      85   \n",
       "4     Germany      Germany            GK      92     193      92   \n",
       "\n",
       "  Preffered_Foot  Age  Work_Rate_Attacking  Work_Rate_Defensive  ...  \\\n",
       "0          Right   32                  1.0                  0.0  ...   \n",
       "1           Left   29                  0.5                  0.5  ...   \n",
       "2          Right   25                  1.0                  0.5  ...   \n",
       "3          Right   30                  1.0                  0.5  ...   \n",
       "4          Right   31                  0.5                  0.5  ...   \n",
       "\n",
       "   Long_Shots  Curve  Freekick_Accuracy  Penalties  Volleys  GK_Positioning  \\\n",
       "0          90     81                 76         85       88              14   \n",
       "1          88     89                 90         74       85              14   \n",
       "2          77     79                 84         81       83              15   \n",
       "3          86     86                 84         85       88              33   \n",
       "4          16     14                 11         47       11              91   \n",
       "\n",
       "   GK_Diving  GK_Kicking  GK_Handling  GK_Reflexes  \n",
       "0          7          15           11           11  \n",
       "1          6          15           11            8  \n",
       "2          9          15            9           11  \n",
       "3         27          31           25           37  \n",
       "4         89          95           90           89  \n",
       "\n",
       "[5 rows x 46 columns]"
      ]
     },
     "execution_count": 16,
     "metadata": {},
     "output_type": "execute_result"
    }
   ],
   "source": [
    "data_train.head()"
   ]
  },
  {
   "cell_type": "code",
   "execution_count": 17,
   "metadata": {},
   "outputs": [],
   "source": [
    "Y1 = data_train[\"Club_Position\"]\n",
    "Y2 = data_train[\"Country_Club\"]"
   ]
  },
  {
   "cell_type": "code",
   "execution_count": 18,
   "metadata": {},
   "outputs": [
    {
     "data": {
      "text/plain": [
       "0        LW\n",
       "1        RW\n",
       "2        LW\n",
       "3        ST\n",
       "4        GK\n",
       "       ... \n",
       "4527    Res\n",
       "4528    Res\n",
       "4529    Sub\n",
       "4530    Sub\n",
       "4531    Sub\n",
       "Name: Club_Position, Length: 4532, dtype: object"
      ]
     },
     "execution_count": 18,
     "metadata": {},
     "output_type": "execute_result"
    }
   ],
   "source": [
    "Y1"
   ]
  },
  {
   "cell_type": "code",
   "execution_count": 19,
   "metadata": {},
   "outputs": [],
   "source": [
    "data_train.drop([\"Club_Position\", \"Country_Club\"], inplace=True, axis=1)"
   ]
  },
  {
   "cell_type": "code",
   "execution_count": 20,
   "metadata": {},
   "outputs": [],
   "source": [
    "from sklearn.preprocessing import LabelBinarizer"
   ]
  },
  {
   "cell_type": "code",
   "execution_count": 21,
   "metadata": {},
   "outputs": [],
   "source": [
    "Y1_enc = LabelBinarizer()\n",
    "Y1 = Y1_enc.fit_transform(Y1)\n",
    "Y2_enc = LabelBinarizer()\n",
    "Y2 = Y2_enc.fit_transform(Y2)"
   ]
  },
  {
   "cell_type": "code",
   "execution_count": 22,
   "metadata": {},
   "outputs": [],
   "source": [
    "categoricas = data_train.select_dtypes(include=['object'])"
   ]
  },
  {
   "cell_type": "code",
   "execution_count": 23,
   "metadata": {},
   "outputs": [
    {
     "data": {
      "text/html": [
       "<div>\n",
       "<style scoped>\n",
       "    .dataframe tbody tr th:only-of-type {\n",
       "        vertical-align: middle;\n",
       "    }\n",
       "\n",
       "    .dataframe tbody tr th {\n",
       "        vertical-align: top;\n",
       "    }\n",
       "\n",
       "    .dataframe thead th {\n",
       "        text-align: right;\n",
       "    }\n",
       "</style>\n",
       "<table border=\"1\" class=\"dataframe\">\n",
       "  <thead>\n",
       "    <tr style=\"text-align: right;\">\n",
       "      <th></th>\n",
       "      <th>Nationality</th>\n",
       "      <th>Preffered_Foot</th>\n",
       "    </tr>\n",
       "  </thead>\n",
       "  <tbody>\n",
       "    <tr>\n",
       "      <th>0</th>\n",
       "      <td>Portugal</td>\n",
       "      <td>Right</td>\n",
       "    </tr>\n",
       "    <tr>\n",
       "      <th>1</th>\n",
       "      <td>Argentina</td>\n",
       "      <td>Left</td>\n",
       "    </tr>\n",
       "    <tr>\n",
       "      <th>2</th>\n",
       "      <td>Brazil</td>\n",
       "      <td>Right</td>\n",
       "    </tr>\n",
       "    <tr>\n",
       "      <th>3</th>\n",
       "      <td>Uruguay</td>\n",
       "      <td>Right</td>\n",
       "    </tr>\n",
       "    <tr>\n",
       "      <th>4</th>\n",
       "      <td>Germany</td>\n",
       "      <td>Right</td>\n",
       "    </tr>\n",
       "    <tr>\n",
       "      <th>...</th>\n",
       "      <td>...</td>\n",
       "      <td>...</td>\n",
       "    </tr>\n",
       "    <tr>\n",
       "      <th>4527</th>\n",
       "      <td>England</td>\n",
       "      <td>Right</td>\n",
       "    </tr>\n",
       "    <tr>\n",
       "      <th>4528</th>\n",
       "      <td>Scotland</td>\n",
       "      <td>Right</td>\n",
       "    </tr>\n",
       "    <tr>\n",
       "      <th>4529</th>\n",
       "      <td>Scotland</td>\n",
       "      <td>Right</td>\n",
       "    </tr>\n",
       "    <tr>\n",
       "      <th>4530</th>\n",
       "      <td>Scotland</td>\n",
       "      <td>Right</td>\n",
       "    </tr>\n",
       "    <tr>\n",
       "      <th>4531</th>\n",
       "      <td>Scotland</td>\n",
       "      <td>Right</td>\n",
       "    </tr>\n",
       "  </tbody>\n",
       "</table>\n",
       "<p>4532 rows × 2 columns</p>\n",
       "</div>"
      ],
      "text/plain": [
       "     Nationality Preffered_Foot\n",
       "0       Portugal          Right\n",
       "1      Argentina           Left\n",
       "2         Brazil          Right\n",
       "3        Uruguay          Right\n",
       "4        Germany          Right\n",
       "...          ...            ...\n",
       "4527     England          Right\n",
       "4528    Scotland          Right\n",
       "4529    Scotland          Right\n",
       "4530    Scotland          Right\n",
       "4531    Scotland          Right\n",
       "\n",
       "[4532 rows x 2 columns]"
      ]
     },
     "execution_count": 23,
     "metadata": {},
     "output_type": "execute_result"
    }
   ],
   "source": [
    "categoricas"
   ]
  },
  {
   "cell_type": "code",
   "execution_count": 24,
   "metadata": {},
   "outputs": [],
   "source": [
    "data_train.drop([i for i in categoricas.columns], inplace=True, axis=1)"
   ]
  },
  {
   "cell_type": "code",
   "execution_count": 25,
   "metadata": {},
   "outputs": [],
   "source": [
    "from sklearn.preprocessing import OneHotEncoder\n",
    "X_encoder = OneHotEncoder(handle_unknown='ignore', sparse_output=False, min_frequency=45)\n",
    "categoricas = X_encoder.fit_transform(categoricas)"
   ]
  },
  {
   "cell_type": "code",
   "execution_count": 26,
   "metadata": {},
   "outputs": [],
   "source": [
    "X = np.hstack((categoricas, data_train))"
   ]
  },
  {
   "cell_type": "code",
   "execution_count": 27,
   "metadata": {},
   "outputs": [],
   "source": [
    "from sklearn.model_selection import train_test_split"
   ]
  },
  {
   "cell_type": "code",
   "execution_count": 28,
   "metadata": {},
   "outputs": [],
   "source": [
    "X_train, X_test, y1_train, y1_test, y2_train, y2_test = train_test_split(X,Y1, Y2, test_size=0.2, random_state=2022)"
   ]
  },
  {
   "cell_type": "code",
   "execution_count": 29,
   "metadata": {},
   "outputs": [],
   "source": [
    "from sklearn.neighbors import KNeighborsClassifier\n",
    "from sklearn.tree import DecisionTreeClassifier"
   ]
  },
  {
   "cell_type": "code",
   "execution_count": 30,
   "metadata": {},
   "outputs": [
    {
     "data": {
      "text/plain": [
       "0.3098125689084895"
      ]
     },
     "execution_count": 30,
     "metadata": {},
     "output_type": "execute_result"
    }
   ],
   "source": [
    "knn = KNeighborsClassifier(3)\n",
    "knn.fit(X_train, y1_train)\n",
    "knn.score(X_test,y1_test)"
   ]
  },
  {
   "cell_type": "code",
   "execution_count": 31,
   "metadata": {},
   "outputs": [
    {
     "data": {
      "text/plain": [
       "[<matplotlib.lines.Line2D at 0x1c2d1638160>]"
      ]
     },
     "execution_count": 31,
     "metadata": {},
     "output_type": "execute_result"
    },
    {
     "data": {
      "image/png": "[encoded data removed]",
      "text/plain": [
       "<Figure size 640x480 with 1 Axes>"
      ]
     },
     "metadata": {},
     "output_type": "display_data"
    }
   ],
   "source": [
    "neig = []\n",
    "\n",
    "for i in range(20):\n",
    "    knn2 = KNeighborsClassifier(i+1)\n",
    "    knn2.fit(X_train, y1_train)\n",
    "    neig.append(knn2.score(X_test,y1_test))\n",
    "\n",
    "plt.plot(neig)"
   ]
  },
  {
   "cell_type": "code",
   "execution_count": 32,
   "metadata": {},
   "outputs": [
    {
     "data": {
      "text/plain": [
       "0.3638368246968026"
      ]
     },
     "execution_count": 32,
     "metadata": {},
     "output_type": "execute_result"
    }
   ],
   "source": [
    "arvore = DecisionTreeClassifier()\n",
    "arvore.fit(X_train, y1_train)\n",
    "arvore.score(X_test,y1_test)"
   ]
  },
  {
   "cell_type": "code",
   "execution_count": 33,
   "metadata": {},
   "outputs": [
    {
     "data": {
      "text/plain": [
       "1.0"
      ]
     },
     "execution_count": 33,
     "metadata": {},
     "output_type": "execute_result"
    }
   ],
   "source": [
    "arvore.score(X_train,y1_train)"
   ]
  },
  {
   "cell_type": "code",
   "execution_count": 34,
   "metadata": {},
   "outputs": [
    {
     "data": {
      "text/plain": [
       "29"
      ]
     },
     "execution_count": 34,
     "metadata": {},
     "output_type": "execute_result"
    }
   ],
   "source": [
    "arvore.tree_.max_depth"
   ]
  },
  {
   "cell_type": "code",
   "execution_count": 35,
   "metadata": {},
   "outputs": [
    {
     "data": {
      "text/plain": [
       "[<matplotlib.lines.Line2D at 0x1c2d16c74c0>]"
      ]
     },
     "execution_count": 35,
     "metadata": {},
     "output_type": "execute_result"
    },
    {
     "data": {
      "image/png": "[encoded data removed]",
      "text/plain": [
       "<Figure size 640x480 with 1 Axes>"
      ]
     },
     "metadata": {},
     "output_type": "display_data"
    }
   ],
   "source": [
    "scores_split = []\n",
    "for i in range(50):\n",
    "    arvore2 = DecisionTreeClassifier(min_samples_split = i+2)\n",
    "    arvore2.fit(X_train, y1_train)\n",
    "    scores_split.append(arvore2.score(X_test,y1_test))\n",
    "plt.plot(scores_split)"
   ]
  },
  {
   "cell_type": "code",
   "execution_count": 36,
   "metadata": {},
   "outputs": [
    {
     "data": {
      "text/plain": [
       "28"
      ]
     },
     "execution_count": 36,
     "metadata": {},
     "output_type": "execute_result"
    }
   ],
   "source": [
    "arvore2.tree_.max_depth"
   ]
  },
  {
   "cell_type": "code",
   "execution_count": 37,
   "metadata": {},
   "outputs": [
    {
     "data": {
      "text/plain": [
       "[<matplotlib.lines.Line2D at 0x1c2d29d6550>]"
      ]
     },
     "execution_count": 37,
     "metadata": {},
     "output_type": "execute_result"
    },
    {
     "data": {
      "image/png": "[encoded data removed]",
      "text/plain": [
       "<Figure size 640x480 with 1 Axes>"
      ]
     },
     "metadata": {},
     "output_type": "display_data"
    }
   ],
   "source": [
    "scores_depth = []\n",
    "for i in range(29, 5, -1):\n",
    "    arvore2 = DecisionTreeClassifier(max_depth = i)\n",
    "    arvore2.fit(X_train, y1_train)\n",
    "    scores_depth.append(arvore2.score(X_test,y1_test))\n",
    "plt.plot(scores_depth)"
   ]
  },
  {
   "cell_type": "code",
   "execution_count": 38,
   "metadata": {},
   "outputs": [],
   "source": [
    "from sklearn.ensemble import RandomForestClassifier"
   ]
  },
  {
   "cell_type": "code",
   "execution_count": 39,
   "metadata": {},
   "outputs": [
    {
     "data": {
      "text/plain": [
       "0.2227122381477398"
      ]
     },
     "execution_count": 39,
     "metadata": {},
     "output_type": "execute_result"
    }
   ],
   "source": [
    "rf = RandomForestClassifier(n_estimators=64, max_features=4)\n",
    "rf.fit(X_train, y1_train)\n",
    "rf.score(X_test, y1_test)"
   ]
  },
  {
   "cell_type": "code",
   "execution_count": 40,
   "metadata": {},
   "outputs": [
    {
     "data": {
      "text/plain": [
       "[<matplotlib.lines.Line2D at 0x1c2da193610>]"
      ]
     },
     "execution_count": 40,
     "metadata": {},
     "output_type": "execute_result"
    },
    {
     "data": {
      "image/png": "[encoded data removed]",
      "text/plain": [
       "<Figure size 640x480 with 1 Axes>"
      ]
     },
     "metadata": {},
     "output_type": "display_data"
    }
   ],
   "source": [
    "nfeatures = []\n",
    "for i in range(1, 25, 2):\n",
    "    rf2 = RandomForestClassifier(n_estimators=64, max_features=i, n_jobs=10)\n",
    "    rf2.fit(X_train, y1_train)\n",
    "    nfeatures.append(rf2.score(X_test,y1_test))\n",
    "plt.plot(nfeatures)"
   ]
  },
  {
   "cell_type": "code",
   "execution_count": 41,
   "metadata": {},
   "outputs": [],
   "source": [
    "from sklearn.ensemble import AdaBoostClassifier"
   ]
  },
  {
   "cell_type": "code",
   "execution_count": 42,
   "metadata": {},
   "outputs": [
    {
     "data": {
      "text/plain": [
       "0.46747519294377066"
      ]
     },
     "execution_count": 42,
     "metadata": {},
     "output_type": "execute_result"
    }
   ],
   "source": [
    "ada = AdaBoostClassifier(DecisionTreeClassifier(max_depth=1),n_estimators=10)\n",
    "ada.fit(X_train, Y1_enc.inverse_transform(y1_train))\n",
    "ada.score(X_test, Y1_enc.inverse_transform(y1_test))"
   ]
  },
  {
   "cell_type": "code",
   "execution_count": 43,
   "metadata": {},
   "outputs": [
    {
     "data": {
      "text/plain": [
       "0.5005512679162073"
      ]
     },
     "execution_count": 43,
     "metadata": {},
     "output_type": "execute_result"
    }
   ],
   "source": [
    "from sklearn.linear_model import LogisticRegression\n",
    "\n",
    "log_reg = LogisticRegression(penalty='l2', max_iter=1000, n_jobs=10, solver= 'newton-cholesky')\n",
    "log_reg.fit(X_train, Y1_enc.inverse_transform(y1_train))\n",
    "log_reg.score(X_test, Y1_enc.inverse_transform(y1_test))\n"
   ]
  },
  {
   "cell_type": "code",
   "execution_count": 44,
   "metadata": {},
   "outputs": [],
   "source": [
    "import tensorflow as tf"
   ]
  },
  {
   "cell_type": "code",
   "execution_count": 45,
   "metadata": {},
   "outputs": [],
   "source": [
    "input_size = X_train.shape[1]\n",
    "output_size = y1_train.shape[1]"
   ]
  },
  {
   "cell_type": "code",
   "execution_count": 81,
   "metadata": {},
   "outputs": [],
   "source": [
    "inputs = tf.keras.Input(shape=(input_size,))\n",
    "a1 = tf.keras.layers.Dense(256, activation='relu')(inputs)\n",
    "a2 = tf.keras.layers.Dense(512, activation='relu')(a1)\n",
    "a3 = tf.keras.layers.Dense(512, activation='relu', kernel_regularizer='l2')(a2)\n",
    "a4 = tf.keras.layers.Dense(512, activation='relu', kernel_regularizer='l2')(a3)\n",
    "a5 = tf.keras.layers.Dense(256, activation='relu', kernel_regularizer='l2')(a4)\n",
    "dropout = tf.keras.layers.Dropout(rate=0.20)(a5)\n",
    "outputs = tf.keras.layers.Dense(output_size, activation='softmax')(dropout)\n",
    "\n",
    "model = tf.keras.Model(inputs=inputs, outputs=outputs)"
   ]
  },
  {
   "cell_type": "code",
   "execution_count": 82,
   "metadata": {},
   "outputs": [
    {
     "data": {
      "image/png": "[encoded data removed]",
      "text/plain": [
       "<IPython.core.display.Image object>"
      ]
     },
     "execution_count": 82,
     "metadata": {},
     "output_type": "execute_result"
    }
   ],
   "source": [
    "tf.keras.utils.plot_model(model, show_shapes=True, dpi=80)"
   ]
  },
  {
   "cell_type": "code",
   "execution_count": 83,
   "metadata": {},
   "outputs": [],
   "source": [
    "model.compile(optimizer=tf.keras.optimizers.Adam(learning_rate=5e-4),\n",
    "              loss = tf.keras.losses.CategoricalCrossentropy(),\n",
    "              metrics=[tf.keras.metrics.CategoricalAccuracy()])"
   ]
  },
  {
   "cell_type": "code",
   "execution_count": 84,
   "metadata": {},
   "outputs": [],
   "source": [
    "filepath = 'best_model.hdf5'\n",
    "from keras.callbacks import ModelCheckpoint\n",
    "checkpoint = ModelCheckpoint(filepath=filepath, \n",
    "                             monitor='val_categorical_accuracy',\n",
    "                             verbose=1, \n",
    "                             save_best_only=True,\n",
    "                             mode='max')"
   ]
  },
  {
   "cell_type": "code",
   "execution_count": 85,
   "metadata": {},
   "outputs": [
    {
     "name": "stdout",
     "output_type": "stream",
     "text": [
      "\n",
      "Epoch 1: val_categorical_accuracy improved from -inf to 0.46527, saving model to best_model.hdf5\n",
      "\n",
      "Epoch 2: val_categorical_accuracy did not improve from 0.46527\n",
      "\n",
      "Epoch 3: val_categorical_accuracy improved from 0.46527 to 0.48071, saving model to best_model.hdf5\n",
      "\n",
      "Epoch 4: val_categorical_accuracy did not improve from 0.48071\n",
      "\n",
      "Epoch 5: val_categorical_accuracy did not improve from 0.48071\n",
      "\n",
      "Epoch 6: val_categorical_accuracy did not improve from 0.48071\n",
      "\n",
      "Epoch 7: val_categorical_accuracy improved from 0.48071 to 0.48732, saving model to best_model.hdf5\n",
      "\n",
      "Epoch 8: val_categorical_accuracy improved from 0.48732 to 0.49724, saving model to best_model.hdf5\n",
      "\n",
      "Epoch 9: val_categorical_accuracy did not improve from 0.49724\n",
      "\n",
      "Epoch 10: val_categorical_accuracy did not improve from 0.49724\n",
      "\n",
      "Epoch 11: val_categorical_accuracy did not improve from 0.49724\n",
      "\n",
      "Epoch 12: val_categorical_accuracy did not improve from 0.49724\n",
      "\n",
      "Epoch 13: val_categorical_accuracy did not improve from 0.49724\n",
      "\n",
      "Epoch 14: val_categorical_accuracy did not improve from 0.49724\n",
      "\n",
      "Epoch 15: val_categorical_accuracy did not improve from 0.49724\n",
      "\n",
      "Epoch 16: val_categorical_accuracy improved from 0.49724 to 0.49945, saving model to best_model.hdf5\n",
      "\n",
      "Epoch 17: val_categorical_accuracy did not improve from 0.49945\n",
      "\n",
      "Epoch 18: val_categorical_accuracy did not improve from 0.49945\n",
      "\n",
      "Epoch 19: val_categorical_accuracy did not improve from 0.49945\n",
      "\n",
      "Epoch 20: val_categorical_accuracy did not improve from 0.49945\n",
      "\n",
      "Epoch 21: val_categorical_accuracy did not improve from 0.49945\n",
      "\n",
      "Epoch 22: val_categorical_accuracy did not improve from 0.49945\n",
      "\n",
      "Epoch 23: val_categorical_accuracy did not improve from 0.49945\n",
      "\n",
      "Epoch 24: val_categorical_accuracy did not improve from 0.49945\n",
      "\n",
      "Epoch 25: val_categorical_accuracy did not improve from 0.49945\n",
      "\n",
      "Epoch 26: val_categorical_accuracy did not improve from 0.49945\n",
      "\n",
      "Epoch 27: val_categorical_accuracy did not improve from 0.49945\n",
      "\n",
      "Epoch 28: val_categorical_accuracy did not improve from 0.49945\n",
      "\n",
      "Epoch 29: val_categorical_accuracy did not improve from 0.49945\n",
      "\n",
      "Epoch 30: val_categorical_accuracy did not improve from 0.49945\n",
      "\n",
      "Epoch 31: val_categorical_accuracy did not improve from 0.49945\n",
      "\n",
      "Epoch 32: val_categorical_accuracy did not improve from 0.49945\n",
      "\n",
      "Epoch 33: val_categorical_accuracy improved from 0.49945 to 0.50717, saving model to best_model.hdf5\n",
      "\n",
      "Epoch 34: val_categorical_accuracy did not improve from 0.50717\n",
      "\n",
      "Epoch 35: val_categorical_accuracy did not improve from 0.50717\n",
      "\n",
      "Epoch 36: val_categorical_accuracy did not improve from 0.50717\n",
      "\n",
      "Epoch 37: val_categorical_accuracy did not improve from 0.50717\n",
      "\n",
      "Epoch 38: val_categorical_accuracy did not improve from 0.50717\n",
      "\n",
      "Epoch 39: val_categorical_accuracy did not improve from 0.50717\n",
      "\n",
      "Epoch 40: val_categorical_accuracy did not improve from 0.50717\n",
      "\n",
      "Epoch 41: val_categorical_accuracy did not improve from 0.50717\n",
      "\n",
      "Epoch 42: val_categorical_accuracy did not improve from 0.50717\n",
      "\n",
      "Epoch 43: val_categorical_accuracy did not improve from 0.50717\n",
      "\n",
      "Epoch 44: val_categorical_accuracy improved from 0.50717 to 0.51268, saving model to best_model.hdf5\n",
      "\n",
      "Epoch 45: val_categorical_accuracy did not improve from 0.51268\n",
      "\n",
      "Epoch 46: val_categorical_accuracy did not improve from 0.51268\n",
      "\n",
      "Epoch 47: val_categorical_accuracy did not improve from 0.51268\n",
      "\n",
      "Epoch 48: val_categorical_accuracy did not improve from 0.51268\n",
      "\n",
      "Epoch 49: val_categorical_accuracy did not improve from 0.51268\n",
      "\n",
      "Epoch 50: val_categorical_accuracy did not improve from 0.51268\n",
      "\n",
      "Epoch 51: val_categorical_accuracy did not improve from 0.51268\n",
      "\n",
      "Epoch 52: val_categorical_accuracy did not improve from 0.51268\n",
      "\n",
      "Epoch 53: val_categorical_accuracy improved from 0.51268 to 0.51929, saving model to best_model.hdf5\n",
      "\n",
      "Epoch 54: val_categorical_accuracy did not improve from 0.51929\n",
      "\n",
      "Epoch 55: val_categorical_accuracy did not improve from 0.51929\n",
      "\n",
      "Epoch 56: val_categorical_accuracy did not improve from 0.51929\n",
      "\n",
      "Epoch 57: val_categorical_accuracy did not improve from 0.51929\n",
      "\n",
      "Epoch 58: val_categorical_accuracy did not improve from 0.51929\n",
      "\n",
      "Epoch 59: val_categorical_accuracy did not improve from 0.51929\n",
      "\n",
      "Epoch 60: val_categorical_accuracy did not improve from 0.51929\n",
      "\n",
      "Epoch 61: val_categorical_accuracy did not improve from 0.51929\n",
      "\n",
      "Epoch 62: val_categorical_accuracy did not improve from 0.51929\n",
      "\n",
      "Epoch 63: val_categorical_accuracy did not improve from 0.51929\n",
      "\n",
      "Epoch 64: val_categorical_accuracy did not improve from 0.51929\n",
      "\n",
      "Epoch 65: val_categorical_accuracy did not improve from 0.51929\n",
      "\n",
      "Epoch 66: val_categorical_accuracy did not improve from 0.51929\n",
      "\n",
      "Epoch 67: val_categorical_accuracy did not improve from 0.51929\n",
      "\n",
      "Epoch 68: val_categorical_accuracy did not improve from 0.51929\n",
      "\n",
      "Epoch 69: val_categorical_accuracy did not improve from 0.51929\n",
      "\n",
      "Epoch 70: val_categorical_accuracy did not improve from 0.51929\n",
      "\n",
      "Epoch 71: val_categorical_accuracy did not improve from 0.51929\n",
      "\n",
      "Epoch 72: val_categorical_accuracy did not improve from 0.51929\n",
      "\n",
      "Epoch 73: val_categorical_accuracy did not improve from 0.51929\n",
      "\n",
      "Epoch 74: val_categorical_accuracy did not improve from 0.51929\n",
      "\n",
      "Epoch 75: val_categorical_accuracy did not improve from 0.51929\n",
      "\n",
      "Epoch 76: val_categorical_accuracy did not improve from 0.51929\n",
      "\n",
      "Epoch 77: val_categorical_accuracy did not improve from 0.51929\n",
      "\n",
      "Epoch 78: val_categorical_accuracy did not improve from 0.51929\n",
      "\n",
      "Epoch 79: val_categorical_accuracy did not improve from 0.51929\n",
      "\n",
      "Epoch 80: val_categorical_accuracy did not improve from 0.51929\n",
      "\n",
      "Epoch 81: val_categorical_accuracy did not improve from 0.51929\n",
      "\n",
      "Epoch 82: val_categorical_accuracy did not improve from 0.51929\n",
      "\n",
      "Epoch 83: val_categorical_accuracy did not improve from 0.51929\n",
      "\n",
      "Epoch 84: val_categorical_accuracy did not improve from 0.51929\n",
      "\n",
      "Epoch 85: val_categorical_accuracy did not improve from 0.51929\n",
      "\n",
      "Epoch 86: val_categorical_accuracy did not improve from 0.51929\n",
      "\n",
      "Epoch 87: val_categorical_accuracy did not improve from 0.51929\n",
      "\n",
      "Epoch 88: val_categorical_accuracy did not improve from 0.51929\n",
      "\n",
      "Epoch 89: val_categorical_accuracy did not improve from 0.51929\n",
      "\n",
      "Epoch 90: val_categorical_accuracy did not improve from 0.51929\n",
      "\n",
      "Epoch 91: val_categorical_accuracy did not improve from 0.51929\n",
      "\n",
      "Epoch 92: val_categorical_accuracy did not improve from 0.51929\n",
      "\n",
      "Epoch 93: val_categorical_accuracy did not improve from 0.51929\n",
      "\n",
      "Epoch 94: val_categorical_accuracy did not improve from 0.51929\n",
      "\n",
      "Epoch 95: val_categorical_accuracy did not improve from 0.51929\n",
      "\n",
      "Epoch 96: val_categorical_accuracy did not improve from 0.51929\n",
      "\n",
      "Epoch 97: val_categorical_accuracy did not improve from 0.51929\n",
      "\n",
      "Epoch 98: val_categorical_accuracy did not improve from 0.51929\n",
      "\n",
      "Epoch 99: val_categorical_accuracy did not improve from 0.51929\n",
      "\n",
      "Epoch 100: val_categorical_accuracy did not improve from 0.51929\n",
      "\n",
      "Epoch 101: val_categorical_accuracy did not improve from 0.51929\n",
      "\n",
      "Epoch 102: val_categorical_accuracy did not improve from 0.51929\n",
      "\n",
      "Epoch 103: val_categorical_accuracy did not improve from 0.51929\n",
      "\n",
      "Epoch 104: val_categorical_accuracy did not improve from 0.51929\n",
      "\n",
      "Epoch 105: val_categorical_accuracy did not improve from 0.51929\n",
      "\n",
      "Epoch 106: val_categorical_accuracy did not improve from 0.51929\n",
      "\n",
      "Epoch 107: val_categorical_accuracy did not improve from 0.51929\n",
      "\n",
      "Epoch 108: val_categorical_accuracy did not improve from 0.51929\n",
      "\n",
      "Epoch 109: val_categorical_accuracy did not improve from 0.51929\n",
      "\n",
      "Epoch 110: val_categorical_accuracy did not improve from 0.51929\n",
      "\n",
      "Epoch 111: val_categorical_accuracy did not improve from 0.51929\n",
      "\n",
      "Epoch 112: val_categorical_accuracy did not improve from 0.51929\n",
      "\n",
      "Epoch 113: val_categorical_accuracy did not improve from 0.51929\n",
      "\n",
      "Epoch 114: val_categorical_accuracy did not improve from 0.51929\n",
      "\n",
      "Epoch 115: val_categorical_accuracy did not improve from 0.51929\n",
      "\n",
      "Epoch 116: val_categorical_accuracy did not improve from 0.51929\n",
      "\n",
      "Epoch 117: val_categorical_accuracy did not improve from 0.51929\n",
      "\n",
      "Epoch 118: val_categorical_accuracy did not improve from 0.51929\n",
      "\n",
      "Epoch 119: val_categorical_accuracy did not improve from 0.51929\n",
      "\n",
      "Epoch 120: val_categorical_accuracy did not improve from 0.51929\n",
      "\n",
      "Epoch 121: val_categorical_accuracy did not improve from 0.51929\n",
      "\n",
      "Epoch 122: val_categorical_accuracy did not improve from 0.51929\n",
      "\n",
      "Epoch 123: val_categorical_accuracy did not improve from 0.51929\n",
      "\n",
      "Epoch 124: val_categorical_accuracy did not improve from 0.51929\n",
      "\n",
      "Epoch 125: val_categorical_accuracy did not improve from 0.51929\n",
      "\n",
      "Epoch 126: val_categorical_accuracy did not improve from 0.51929\n",
      "\n",
      "Epoch 127: val_categorical_accuracy did not improve from 0.51929\n",
      "\n",
      "Epoch 128: val_categorical_accuracy did not improve from 0.51929\n",
      "\n",
      "Epoch 129: val_categorical_accuracy did not improve from 0.51929\n",
      "\n",
      "Epoch 130: val_categorical_accuracy did not improve from 0.51929\n",
      "\n",
      "Epoch 131: val_categorical_accuracy did not improve from 0.51929\n",
      "\n",
      "Epoch 132: val_categorical_accuracy did not improve from 0.51929\n",
      "\n",
      "Epoch 133: val_categorical_accuracy did not improve from 0.51929\n",
      "\n",
      "Epoch 134: val_categorical_accuracy did not improve from 0.51929\n",
      "\n",
      "Epoch 135: val_categorical_accuracy did not improve from 0.51929\n",
      "\n",
      "Epoch 136: val_categorical_accuracy did not improve from 0.51929\n",
      "\n",
      "Epoch 137: val_categorical_accuracy did not improve from 0.51929\n",
      "\n",
      "Epoch 138: val_categorical_accuracy did not improve from 0.51929\n",
      "\n",
      "Epoch 139: val_categorical_accuracy did not improve from 0.51929\n",
      "\n",
      "Epoch 140: val_categorical_accuracy did not improve from 0.51929\n",
      "\n",
      "Epoch 141: val_categorical_accuracy did not improve from 0.51929\n",
      "\n",
      "Epoch 142: val_categorical_accuracy did not improve from 0.51929\n",
      "\n",
      "Epoch 143: val_categorical_accuracy did not improve from 0.51929\n",
      "\n",
      "Epoch 144: val_categorical_accuracy did not improve from 0.51929\n",
      "\n",
      "Epoch 145: val_categorical_accuracy did not improve from 0.51929\n",
      "\n",
      "Epoch 146: val_categorical_accuracy did not improve from 0.51929\n",
      "\n",
      "Epoch 147: val_categorical_accuracy did not improve from 0.51929\n",
      "\n",
      "Epoch 148: val_categorical_accuracy did not improve from 0.51929\n",
      "\n",
      "Epoch 149: val_categorical_accuracy did not improve from 0.51929\n",
      "\n",
      "Epoch 150: val_categorical_accuracy did not improve from 0.51929\n"
     ]
    }
   ],
   "source": [
    "history = model.fit(\n",
    "    x=X_train,\n",
    "    y=y1_train,\n",
    "    batch_size=64,\n",
    "    epochs=150,\n",
    "    verbose=0,\n",
    "    validation_data=(X_test, y1_test),\n",
    "    shuffle=True,\n",
    "    callbacks=[checkpoint]\n",
    ")"
   ]
  },
  {
   "cell_type": "code",
   "execution_count": 86,
   "metadata": {},
   "outputs": [
    {
     "name": "stdout",
     "output_type": "stream",
     "text": [
      "dict_keys(['loss', 'categorical_accuracy', 'val_loss', 'val_categorical_accuracy'])\n"
     ]
    }
   ],
   "source": [
    "print(history.history.keys())"
   ]
  },
  {
   "cell_type": "code",
   "execution_count": 87,
   "metadata": {},
   "outputs": [
    {
     "data": {
      "image/png": "[encoded data removed]",
      "text/plain": [
       "<Figure size 640x480 with 1 Axes>"
      ]
     },
     "metadata": {},
     "output_type": "display_data"
    }
   ],
   "source": [
    "plt.plot(history.history['categorical_accuracy'])\n",
    "plt.plot(history.history['val_categorical_accuracy'])\n",
    "plt.title('model accuracy')\n",
    "plt.ylabel('accuracy')\n",
    "plt.xlabel('epoch')\n",
    "plt.legend(['train', 'test'], loc='upper left')\n",
    "plt.show()"
   ]
  },
  {
   "cell_type": "code",
   "execution_count": 88,
   "metadata": {},
   "outputs": [
    {
     "data": {
      "image/png": "[encoded data removed]",
      "text/plain": [
       "<Figure size 640x480 with 1 Axes>"
      ]
     },
     "metadata": {},
     "output_type": "display_data"
    }
   ],
   "source": [
    "plt.plot(history.history['loss'])\n",
    "plt.plot(history.history['val_loss'])\n",
    "plt.title('model loss')\n",
    "plt.ylabel('loss')\n",
    "plt.xlabel('epoch')\n",
    "plt.legend(['train', 'test'], loc='upper right')\n",
    "plt.show()"
   ]
  },
  {
   "cell_type": "code",
   "execution_count": 89,
   "metadata": {},
   "outputs": [],
   "source": [
    "model = tf.keras.models.load_model(filepath)"
   ]
  },
  {
   "cell_type": "code",
   "execution_count": 90,
   "metadata": {},
   "outputs": [
    {
     "name": "stdout",
     "output_type": "stream",
     "text": [
      "29/29 [==============================] - 0s 5ms/step - loss: 1.5961 - categorical_accuracy: 0.5193\n"
     ]
    },
    {
     "data": {
      "text/plain": [
       "[1.596101999282837, 0.5192943811416626]"
      ]
     },
     "execution_count": 90,
     "metadata": {},
     "output_type": "execute_result"
    }
   ],
   "source": [
    "model.evaluate(X_test, y1_test)"
   ]
  },
  {
   "cell_type": "code",
   "execution_count": 91,
   "metadata": {},
   "outputs": [],
   "source": [
    "data_test = pd.read_csv(r\"C:\\Users\\liber\\Desktop\\Stats\\4o Semestre\\Aprendizado de Maquina\\test_projetofinal.csv\")"
   ]
  },
  {
   "cell_type": "code",
   "execution_count": 92,
   "metadata": {},
   "outputs": [
    {
     "data": {
      "text/plain": [
       "Index(['Nationality', 'Contract_Expiry', 'Rating', 'Height', 'Weight',\n",
       "       'Preffered_Foot', 'Birth_Date', 'Age', 'Work_Rate_Attacking',\n",
       "       'Work_Rate_Defensive', 'Weak_foot', 'Skill_Moves', 'Ball_Control',\n",
       "       'Dribbling', 'Marking', 'Sliding_Tackle', 'Standing_Tackle',\n",
       "       'Aggression', 'Reactions', 'Attacking_Position', 'Interceptions',\n",
       "       'Vision', 'Composure', 'Crossing', 'Short_Pass', 'Long_Pass',\n",
       "       'Acceleration', 'Speed', 'Stamina', 'Strength', 'Balance', 'Agility',\n",
       "       'Jumping', 'Heading', 'Shot_Power', 'Finishing', 'Long_Shots', 'Curve',\n",
       "       'Freekick_Accuracy', 'Penalties', 'Volleys', 'GK_Positioning',\n",
       "       'GK_Diving', 'GK_Kicking', 'GK_Handling', 'GK_Reflexes'],\n",
       "      dtype='object')"
      ]
     },
     "execution_count": 92,
     "metadata": {},
     "output_type": "execute_result"
    }
   ],
   "source": [
    "data_test.columns"
   ]
  },
  {
   "cell_type": "code",
   "execution_count": 93,
   "metadata": {},
   "outputs": [],
   "source": [
    "data_test.drop([\"Contract_Expiry\", \"Birth_Date\"], inplace=True, axis=1)\n",
    "data_test[\"Work_Rate_Attacking\"].replace({'High ': 1, 'Medium ': 0.5, 'Low ': 0}, inplace=True)\n",
    "data_test[\"Work_Rate_Defensive\"].replace({' High': 1, ' Medium': 0.5, ' Low': 0}, inplace=True)"
   ]
  },
  {
   "cell_type": "code",
   "execution_count": 94,
   "metadata": {},
   "outputs": [
    {
     "data": {
      "text/html": [
       "<div>\n",
       "<style scoped>\n",
       "    .dataframe tbody tr th:only-of-type {\n",
       "        vertical-align: middle;\n",
       "    }\n",
       "\n",
       "    .dataframe tbody tr th {\n",
       "        vertical-align: top;\n",
       "    }\n",
       "\n",
       "    .dataframe thead th {\n",
       "        text-align: right;\n",
       "    }\n",
       "</style>\n",
       "<table border=\"1\" class=\"dataframe\">\n",
       "  <thead>\n",
       "    <tr style=\"text-align: right;\">\n",
       "      <th></th>\n",
       "      <th>Nationality</th>\n",
       "      <th>Preffered_Foot</th>\n",
       "    </tr>\n",
       "  </thead>\n",
       "  <tbody>\n",
       "    <tr>\n",
       "      <th>0</th>\n",
       "      <td>Scotland</td>\n",
       "      <td>Left</td>\n",
       "    </tr>\n",
       "    <tr>\n",
       "      <th>1</th>\n",
       "      <td>Curacao</td>\n",
       "      <td>Right</td>\n",
       "    </tr>\n",
       "    <tr>\n",
       "      <th>2</th>\n",
       "      <td>Scotland</td>\n",
       "      <td>Right</td>\n",
       "    </tr>\n",
       "    <tr>\n",
       "      <th>3</th>\n",
       "      <td>Spain</td>\n",
       "      <td>Right</td>\n",
       "    </tr>\n",
       "    <tr>\n",
       "      <th>4</th>\n",
       "      <td>Germany</td>\n",
       "      <td>Right</td>\n",
       "    </tr>\n",
       "    <tr>\n",
       "      <th>...</th>\n",
       "      <td>...</td>\n",
       "      <td>...</td>\n",
       "    </tr>\n",
       "    <tr>\n",
       "      <th>495</th>\n",
       "      <td>Germany</td>\n",
       "      <td>Right</td>\n",
       "    </tr>\n",
       "    <tr>\n",
       "      <th>496</th>\n",
       "      <td>Tunisia</td>\n",
       "      <td>Left</td>\n",
       "    </tr>\n",
       "    <tr>\n",
       "      <th>497</th>\n",
       "      <td>Scotland</td>\n",
       "      <td>Left</td>\n",
       "    </tr>\n",
       "    <tr>\n",
       "      <th>498</th>\n",
       "      <td>France</td>\n",
       "      <td>Right</td>\n",
       "    </tr>\n",
       "    <tr>\n",
       "      <th>499</th>\n",
       "      <td>Japan</td>\n",
       "      <td>Right</td>\n",
       "    </tr>\n",
       "  </tbody>\n",
       "</table>\n",
       "<p>500 rows × 2 columns</p>\n",
       "</div>"
      ],
      "text/plain": [
       "    Nationality Preffered_Foot\n",
       "0      Scotland           Left\n",
       "1       Curacao          Right\n",
       "2      Scotland          Right\n",
       "3         Spain          Right\n",
       "4       Germany          Right\n",
       "..          ...            ...\n",
       "495     Germany          Right\n",
       "496     Tunisia           Left\n",
       "497    Scotland           Left\n",
       "498      France          Right\n",
       "499       Japan          Right\n",
       "\n",
       "[500 rows x 2 columns]"
      ]
     },
     "execution_count": 94,
     "metadata": {},
     "output_type": "execute_result"
    }
   ],
   "source": [
    "data_test.select_dtypes(include=['object'])"
   ]
  },
  {
   "cell_type": "code",
   "execution_count": 95,
   "metadata": {},
   "outputs": [],
   "source": [
    "categoricas_test = data_test.select_dtypes(include=['object'])\n",
    "data_test.drop([i for i in categoricas_test.columns], inplace=True, axis=1)\n",
    "categoricas_test = X_encoder.transform(categoricas_test)\n",
    "X_test = np.hstack((categoricas_test, data_test))\n",
    "X_test = np.asarray(X_test)"
   ]
  },
  {
   "cell_type": "code",
   "execution_count": 96,
   "metadata": {},
   "outputs": [],
   "source": [
    "Y_test = model.predict(X_test) "
   ]
  },
  {
   "cell_type": "code",
   "execution_count": 99,
   "metadata": {},
   "outputs": [],
   "source": [
    "indexes = np.argmax(Y_test, axis=1)\n",
    "resp_enc = np.zeros(Y_test.shape)\n",
    "for i, j in enumerate(indexes):\n",
    "    resp_enc[i, j] = 1"
   ]
  },
  {
   "cell_type": "code",
   "execution_count": 106,
   "metadata": {},
   "outputs": [],
   "source": [
    "decodificado = Y1_enc.inverse_transform(resp_enc)"
   ]
  },
  {
   "cell_type": "code",
   "execution_count": 107,
   "metadata": {},
   "outputs": [],
   "source": [
    "Results = pd.DataFrame()\n",
    "Results[\"Club_Position\"] = decodificado"
   ]
  },
  {
   "cell_type": "code",
   "execution_count": 108,
   "metadata": {},
   "outputs": [
    {
     "data": {
      "text/plain": [
       "Club_Position\n",
       "Sub              365\n",
       "Res               84\n",
       "RB                21\n",
       "GK                15\n",
       "RCB               10\n",
       "ST                 4\n",
       "LB                 1\n",
       "dtype: int64"
      ]
     },
     "execution_count": 108,
     "metadata": {},
     "output_type": "execute_result"
    }
   ],
   "source": [
    "Results.value_counts()"
   ]
  },
  {
   "cell_type": "code",
   "execution_count": 109,
   "metadata": {},
   "outputs": [
    {
     "data": {
      "text/html": [
       "<div>\n",
       "<style scoped>\n",
       "    .dataframe tbody tr th:only-of-type {\n",
       "        vertical-align: middle;\n",
       "    }\n",
       "\n",
       "    .dataframe tbody tr th {\n",
       "        vertical-align: top;\n",
       "    }\n",
       "\n",
       "    .dataframe thead th {\n",
       "        text-align: right;\n",
       "    }\n",
       "</style>\n",
       "<table border=\"1\" class=\"dataframe\">\n",
       "  <thead>\n",
       "    <tr style=\"text-align: right;\">\n",
       "      <th></th>\n",
       "      <th>Club_Position</th>\n",
       "    </tr>\n",
       "  </thead>\n",
       "  <tbody>\n",
       "    <tr>\n",
       "      <th>0</th>\n",
       "      <td>Res</td>\n",
       "    </tr>\n",
       "    <tr>\n",
       "      <th>1</th>\n",
       "      <td>Sub</td>\n",
       "    </tr>\n",
       "    <tr>\n",
       "      <th>2</th>\n",
       "      <td>Res</td>\n",
       "    </tr>\n",
       "    <tr>\n",
       "      <th>3</th>\n",
       "      <td>Sub</td>\n",
       "    </tr>\n",
       "    <tr>\n",
       "      <th>4</th>\n",
       "      <td>Sub</td>\n",
       "    </tr>\n",
       "    <tr>\n",
       "      <th>...</th>\n",
       "      <td>...</td>\n",
       "    </tr>\n",
       "    <tr>\n",
       "      <th>495</th>\n",
       "      <td>Res</td>\n",
       "    </tr>\n",
       "    <tr>\n",
       "      <th>496</th>\n",
       "      <td>Sub</td>\n",
       "    </tr>\n",
       "    <tr>\n",
       "      <th>497</th>\n",
       "      <td>Res</td>\n",
       "    </tr>\n",
       "    <tr>\n",
       "      <th>498</th>\n",
       "      <td>RCB</td>\n",
       "    </tr>\n",
       "    <tr>\n",
       "      <th>499</th>\n",
       "      <td>Sub</td>\n",
       "    </tr>\n",
       "  </tbody>\n",
       "</table>\n",
       "<p>500 rows × 1 columns</p>\n",
       "</div>"
      ],
      "text/plain": [
       "    Club_Position\n",
       "0             Res\n",
       "1             Sub\n",
       "2             Res\n",
       "3             Sub\n",
       "4             Sub\n",
       "..            ...\n",
       "495           Res\n",
       "496           Sub\n",
       "497           Res\n",
       "498           RCB\n",
       "499           Sub\n",
       "\n",
       "[500 rows x 1 columns]"
      ]
     },
     "execution_count": 109,
     "metadata": {},
     "output_type": "execute_result"
    }
   ],
   "source": [
    "Results"
   ]
  },
  {
   "cell_type": "code",
   "execution_count": null,
   "metadata": {},
   "outputs": [],
   "source": [
    "Results.to_csv(r\"C:\\Users\\liber\\Desktop\\Stats\\4o Semestre\\Aprendizado de Maquina\\projetofinal_respostas.csv\")"
   ]
  }
 ],
 "metadata": {
  "kernelspec": {
   "display_name": "Python 3.8.13 ('TensorFlow')",
   "language": "python",
   "name": "python3"
  },
  "language_info": {
   "codemirror_mode": {
    "name": "ipython",
    "version": 3
   },
   "file_extension": ".py",
   "mimetype": "text/x-python",
   "name": "python",
   "nbconvert_exporter": "python",
   "pygments_lexer": "ipython3",
   "version": "3.8.13 (default, Mar 28 2022, 06:59:08) [MSC v.1916 64 bit (AMD64)]"
  },
  "orig_nbformat": 4,
  "vscode": {
   "interpreter": {
    "hash": "66a0f14e8d04748a4e0b58e1ead7be07fda46af493c5efe5fbe8842c45ca86d9"
   }
  }
 },
 "nbformat": 4,
 "nbformat_minor": 2
}
