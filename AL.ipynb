{
 "cells": [
  {
   "cell_type": "code",
   "execution_count": 1,
   "metadata": {},
   "outputs": [
    {
     "data": {
      "text/plain": [
       "10×10 Matrix{Int64}:\n",
       " 0  1  2  1  2  3  3  3  1  0\n",
       " 1  1  2  2  2  2  3  3  1  1\n",
       " 1  2  2  1  3  1  3  1  1  1\n",
       " 0  1  0  0  1  1  0  0  1  1\n",
       " 0  0  0  0  1  2  3  1  2  1\n",
       " 0  0  0  0  1  1  1  2  1  1\n",
       " 0  0  0  0  2  2  2  7  1  1\n",
       " 0  0  0  0  3  4  3  4  1  4\n",
       " 0  0  0  0  3  1  4  1  5  6\n",
       " 0  0  0  0  6  3  4  1  2  1"
      ]
     },
     "metadata": {},
     "output_type": "display_data"
    }
   ],
   "source": [
    "Q = [0 1 2 1 2 3 3 3 1 0 ; 1 1 2 2 2 2 3 3 1 1 ; 1 2 2 1 3 1 3 1 1 1 ; 0 1 0 0 1 1 0 0 1 1; 0 0 0 0 1 2 3 1 2 1; 0 0 0 0 1 1 1 2 1 1; 0 0 0 0 2 2 2 7 1 1; 0 0 0 0 3 4 3 4 1 4; 0 0 0 0 3 1 4 1 5 6; 0 0 0 0 6 3 4 1 2 1]"
   ]
  },
  {
   "cell_type": "code",
   "execution_count": 3,
   "metadata": {},
   "outputs": [
    {
     "data": {
      "text/plain": [
       "-1012.0"
      ]
     },
     "metadata": {},
     "output_type": "display_data"
    }
   ],
   "source": [
    "using LinearAlgebra\n",
    "det(Q)"
   ]
  },
  {
   "cell_type": "code",
   "execution_count": 4,
   "metadata": {},
   "outputs": [
    {
     "data": {
      "text/plain": [
       "4×4 Matrix{Int64}:\n",
       " 0  1  2  1\n",
       " 1  1  2  2\n",
       " 1  2  2  1\n",
       " 0  1  0  0"
      ]
     },
     "metadata": {},
     "output_type": "display_data"
    }
   ],
   "source": [
    "A = [0 1 2 1; 1 1 2 2; 1 2 2 1; 0 1 0 0]"
   ]
  },
  {
   "cell_type": "code",
   "execution_count": 5,
   "metadata": {},
   "outputs": [
    {
     "data": {
      "text/plain": [
       "2.0"
      ]
     },
     "metadata": {},
     "output_type": "display_data"
    }
   ],
   "source": [
    "det(A)"
   ]
  },
  {
   "cell_type": "code",
   "execution_count": 6,
   "metadata": {},
   "outputs": [
    {
     "data": {
      "text/plain": [
       "8//7"
      ]
     },
     "metadata": {},
     "output_type": "display_data"
    }
   ],
   "source": [
    "-1 -3//7*-5"
   ]
  },
  {
   "cell_type": "code",
   "execution_count": 9,
   "metadata": {},
   "outputs": [
    {
     "data": {
      "text/plain": [
       "4//1"
      ]
     },
     "metadata": {},
     "output_type": "display_data"
    }
   ],
   "source": [
    "-3 + 49//8*8//7"
   ]
  },
  {
   "cell_type": "code",
   "execution_count": 34,
   "metadata": {},
   "outputs": [
    {
     "data": {
      "text/plain": [
       "6×6 Matrix{Int64}:\n",
       " 1  2  3  1  2  1\n",
       " 1  1  1  2  1  1\n",
       " 2  2  2  7  1  1\n",
       " 3  4  3  4  1  4\n",
       " 3  1  4  1  5  6\n",
       " 6  3  4  1  2  1"
      ]
     },
     "metadata": {},
     "output_type": "display_data"
    }
   ],
   "source": [
    "D = [1 2 3 1 2 1; 1 1 1 2 1 1; 2 2 2 7 1 1; 3 4 3 4 1 4; 3 1 4 1 5 6; 6 3 4 1 2 1]"
   ]
  },
  {
   "cell_type": "code",
   "execution_count": 35,
   "metadata": {},
   "outputs": [
    {
     "data": {
      "text/plain": [
       "-506.0"
      ]
     },
     "metadata": {},
     "output_type": "display_data"
    }
   ],
   "source": [
    "det(D)"
   ]
  },
  {
   "cell_type": "code",
   "execution_count": 12,
   "metadata": {},
   "outputs": [
    {
     "data": {
      "text/plain": [
       "LU{Float64, Matrix{Float64}}\n",
       "L factor:\n",
       "6×6 Matrix{Float64}:\n",
       " 1.0        0.0  0.0         0.0        0.0       0.0\n",
       " 0.5        1.0  0.0         0.0        0.0       0.0\n",
       " 0.5       -0.2  1.0         0.0        0.0       0.0\n",
       " 0.333333   0.4  0.121212    1.0        0.0       0.0\n",
       " 0.166667   0.6  0.787879   -0.431953   1.0       0.0\n",
       " 0.166667   0.2  0.0606061   0.207101  -0.293893  1.0\n",
       "U factor:\n",
       "6×6 Matrix{Float64}:\n",
       " 6.0  3.0  4.0  1.0       2.0        1.0\n",
       " 0.0  2.5  1.0  3.5       0.0        3.5\n",
       " 0.0  0.0  2.2  1.2       4.0        6.2\n",
       " 0.0  0.0  0.0  5.12121  -0.151515  -1.48485\n",
       " 0.0  0.0  0.0  0.0      -1.5503    -6.7929\n",
       " 0.0  0.0  0.0  0.0       0.0       -1.9313"
      ]
     },
     "metadata": {},
     "output_type": "display_data"
    }
   ],
   "source": [
    "factorize(D)"
   ]
  },
  {
   "cell_type": "code",
   "execution_count": 52,
   "metadata": {},
   "outputs": [
    {
     "data": {
      "text/plain": [
       "1×6 Matrix{Float64}:\n",
       " 0.0  0.0  0.0  0.0  -36.9999  -25.0"
      ]
     },
     "metadata": {},
     "output_type": "display_data"
    }
   ],
   "source": [
    "[0.0  0.0  0.0  0.0  -12.3333  -8.33333] .* 3"
   ]
  },
  {
   "cell_type": "code",
   "execution_count": 56,
   "metadata": {},
   "outputs": [
    {
     "data": {
      "text/plain": [
       "-12.950000000000001"
      ]
     },
     "metadata": {},
     "output_type": "display_data"
    }
   ],
   "source": [
    "- 37/20 * 7"
   ]
  },
  {
   "cell_type": "code",
   "execution_count": 55,
   "metadata": {},
   "outputs": [
    {
     "data": {
      "text/plain": [
       "1×2 Matrix{Float64}:\n",
       " 0.0  -37.95"
      ]
     },
     "metadata": {},
     "output_type": "display_data"
    }
   ],
   "source": [
    "[-37 -25] - 37/20 * [-20 7]"
   ]
  },
  {
   "cell_type": "code",
   "execution_count": 70,
   "metadata": {},
   "outputs": [
    {
     "data": {
      "text/plain": [
       "6×6 Matrix{Float64}:\n",
       " 1.0   2.0   3.0   1.0   2.0       1.0\n",
       " 0.0  -1.0  -2.0   1.0  -1.0       0.0\n",
       " 0.0   0.0  -2.0  -1.0  -3.0       1.0\n",
       " 0.0   0.0   0.0   3.0  -1.0      -1.0\n",
       " 0.0   0.0   0.0   0.0  -6.66667   2.33333\n",
       " 0.0   0.0   0.0   0.0   0.0      12.65"
      ]
     },
     "metadata": {},
     "output_type": "display_data"
    }
   ],
   "source": [
    "D2 = [1 2 3 1 2 1; 0 -1 -2 1 -1 0; 0 0 -2 -1 -3 1; 0 0 0 3 -1 -1; 0 0 0 0 -20/3 7/3; 0 0 0 0 0 253/20]"
   ]
  },
  {
   "cell_type": "code",
   "execution_count": 71,
   "metadata": {},
   "outputs": [
    {
     "data": {
      "text/plain": [
       "-506.0"
      ]
     },
     "metadata": {},
     "output_type": "display_data"
    }
   ],
   "source": [
    "det(D2)"
   ]
  },
  {
   "cell_type": "code",
   "execution_count": 62,
   "metadata": {},
   "outputs": [
    {
     "data": {
      "text/plain": [
       "1×6 Matrix{Float64}:\n",
       " 0.0  0.0  0.0  0.0  -6.66667  2.33333"
      ]
     },
     "metadata": {},
     "output_type": "display_data"
    }
   ],
   "source": [
    "k = [0 0 0 -9.5 -3.5 5.5] + 9.5/3 * [0 0 0 3 -1 -1]"
   ]
  },
  {
   "cell_type": "code",
   "execution_count": 69,
   "metadata": {},
   "outputs": [
    {
     "data": {
      "text/plain": [
       "-253//20"
      ]
     },
     "metadata": {},
     "output_type": "display_data"
    }
   ],
   "source": [
    "-25//3 - 37//20 * (7//3)"
   ]
  },
  {
   "cell_type": "code",
   "execution_count": 21,
   "metadata": {},
   "outputs": [
    {
     "data": {
      "text/plain": [
       "eliminacao_gauss (generic function with 1 method)"
      ]
     },
     "metadata": {},
     "output_type": "display_data"
    }
   ],
   "source": [
    "function eliminacao_gauss(A::Matrix{Float64}, b::Vector{Float64})\n",
    "\n",
    "    M = hcat(A, b)\n",
    "    \n",
    "    for i in 1:length(M[:, 1])\n",
    "        #pivotamento(i, i, M)\n",
    "        pivot_line = M[i, :]\n",
    "        for j in (i+1):(length(M[1, :])-1)\n",
    "            m = M[j, i]/pivot_line[i]\n",
    "            M[j, :] -= m * pivot_line\n",
    "        end\n",
    "    end\n",
    "\n",
    "    return M[:, 1:(end-1)], M[:, end]\n",
    "    \n",
    "end"
   ]
  },
  {
   "cell_type": "code",
   "execution_count": 25,
   "metadata": {},
   "outputs": [
    {
     "data": {
      "text/plain": [
       "([1.0 2.0 … 2.0 1.0; 0.0 -1.0 … -1.0 0.0; … ; NaN NaN … NaN NaN; NaN NaN … NaN NaN], [0.0, 0.0, 0.0, NaN, NaN, NaN])"
      ]
     },
     "metadata": {},
     "output_type": "display_data"
    }
   ],
   "source": [
    "X = eliminacao_gauss(convert.(Float64, D2), zeros(6))"
   ]
  },
  {
   "cell_type": "code",
   "execution_count": 26,
   "metadata": {},
   "outputs": [
    {
     "data": {
      "text/plain": [
       "6×6 Matrix{Float64}:\n",
       "   1.0    2.0    3.0    1.0    2.0    1.0\n",
       "   0.0   -1.0   -2.0    1.0   -1.0    0.0\n",
       "   0.0    0.0    0.0    3.0   -1.0    1.0\n",
       " NaN    NaN    NaN     Inf   -Inf    Inf\n",
       " NaN    NaN    NaN    NaN    NaN    NaN\n",
       " NaN    NaN    NaN    NaN    NaN    NaN"
      ]
     },
     "metadata": {},
     "output_type": "display_data"
    }
   ],
   "source": [
    "X[1]"
   ]
  },
  {
   "cell_type": "code",
   "execution_count": 72,
   "metadata": {},
   "outputs": [
    {
     "data": {
      "text/plain": [
       "-506.0"
      ]
     },
     "metadata": {},
     "output_type": "display_data"
    }
   ],
   "source": [
    "-1*-1*-2*3*-20/3*-253/20"
   ]
  },
  {
   "cell_type": "code",
   "execution_count": null,
   "metadata": {},
   "outputs": [],
   "source": []
  }
 ],
 "metadata": {
  "kernelspec": {
   "display_name": "Julia 1.7.1",
   "language": "julia",
   "name": "julia-1.7"
  },
  "language_info": {
   "file_extension": ".jl",
   "mimetype": "application/julia",
   "name": "julia",
   "version": "1.7.1"
  },
  "orig_nbformat": 4
 },
 "nbformat": 4,
 "nbformat_minor": 2
}
