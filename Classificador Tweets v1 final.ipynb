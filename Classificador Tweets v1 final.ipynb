{
 "cells": [
  {
   "cell_type": "code",
   "execution_count": 1,
   "metadata": {},
   "outputs": [],
   "source": [
    "#pip install -q -U \"tensorflow-text==2.8.*\""
   ]
  },
  {
   "cell_type": "code",
   "execution_count": 2,
   "metadata": {},
   "outputs": [],
   "source": [
    "#pip install -q tf-models-official==2.7.0"
   ]
  },
  {
   "cell_type": "code",
   "execution_count": 3,
   "metadata": {},
   "outputs": [],
   "source": [
    "#!pip install keras tf-models-official pydot graphviz"
   ]
  },
  {
   "cell_type": "code",
   "execution_count": 4,
   "metadata": {},
   "outputs": [],
   "source": [
    "#pip install pydot"
   ]
  },
  {
   "cell_type": "code",
   "execution_count": 5,
   "metadata": {},
   "outputs": [],
   "source": [
    "import os\n",
    "\n",
    "import numpy as np\n",
    "import pandas as pd\n",
    "\n",
    "import tensorflow as tf\n",
    "import tensorflow_hub as hub\n",
    "\n",
    "from keras.utils import np_utils\n",
    "\n",
    "import official.nlp.bert.bert_models\n",
    "import official.nlp.bert.configs\n",
    "import official.nlp.bert.run_classifier\n",
    "import official.nlp.bert.tokenization as tokenization\n",
    "\n",
    "from official.modeling import tf_utils\n",
    "from official import nlp\n",
    "from official.nlp import bert\n",
    "\n",
    "from sklearn.model_selection import train_test_split\n",
    "\n",
    "import matplotlib.pyplot as plt"
   ]
  },
  {
   "cell_type": "code",
   "execution_count": 6,
   "metadata": {},
   "outputs": [
    {
     "name": "stdout",
     "output_type": "stream",
     "text": [
      "INFO:tensorflow:Mixed precision compatibility check (mixed_float16): OK\n",
      "Your GPU will likely run quickly with dtype policy mixed_float16 as it has compute capability of at least 7.0. Your GPU: NVIDIA GeForce RTX 3080, compute capability 8.6\n"
     ]
    }
   ],
   "source": [
    "tf.keras.backend.set_floatx('float16')\n",
    "from tensorflow.keras import mixed_precision\n",
    "policy = mixed_precision.Policy('mixed_float16')\n",
    "mixed_precision.set_global_policy(policy)"
   ]
  },
  {
   "cell_type": "code",
   "execution_count": 7,
   "metadata": {},
   "outputs": [],
   "source": [
    "physical_devices = tf.config.list_physical_devices('GPU')\n",
    "tf.config.experimental.set_memory_growth(physical_devices[0], True)"
   ]
  },
  {
   "cell_type": "code",
   "execution_count": 8,
   "metadata": {},
   "outputs": [
    {
     "name": "stdout",
     "output_type": "stream",
     "text": [
      "[PhysicalDevice(name='/physical_device:GPU:0', device_type='GPU')]\n"
     ]
    }
   ],
   "source": [
    "print(tf.config.list_physical_devices('GPU'))"
   ]
  },
  {
   "cell_type": "code",
   "execution_count": 9,
   "metadata": {},
   "outputs": [
    {
     "data": {
      "text/html": [
       "<div>\n",
       "<style scoped>\n",
       "    .dataframe tbody tr th:only-of-type {\n",
       "        vertical-align: middle;\n",
       "    }\n",
       "\n",
       "    .dataframe tbody tr th {\n",
       "        vertical-align: top;\n",
       "    }\n",
       "\n",
       "    .dataframe thead th {\n",
       "        text-align: right;\n",
       "    }\n",
       "</style>\n",
       "<table border=\"1\" class=\"dataframe\">\n",
       "  <thead>\n",
       "    <tr style=\"text-align: right;\">\n",
       "      <th></th>\n",
       "      <th>UserName</th>\n",
       "      <th>Location</th>\n",
       "      <th>TweetAt</th>\n",
       "      <th>OriginalTweet</th>\n",
       "      <th>Sentiment</th>\n",
       "    </tr>\n",
       "  </thead>\n",
       "  <tbody>\n",
       "    <tr>\n",
       "      <th>0</th>\n",
       "      <td>3799</td>\n",
       "      <td>London</td>\n",
       "      <td>16-03-2020</td>\n",
       "      <td>@MeNyrbie @Phil_Gahan @Chrisitv https://t.co/i...</td>\n",
       "      <td>Neutral</td>\n",
       "    </tr>\n",
       "    <tr>\n",
       "      <th>1</th>\n",
       "      <td>3800</td>\n",
       "      <td>UK</td>\n",
       "      <td>16-03-2020</td>\n",
       "      <td>advice Talk to your neighbours family to excha...</td>\n",
       "      <td>Positive</td>\n",
       "    </tr>\n",
       "    <tr>\n",
       "      <th>2</th>\n",
       "      <td>3801</td>\n",
       "      <td>Vagabonds</td>\n",
       "      <td>16-03-2020</td>\n",
       "      <td>Coronavirus Australia: Woolworths to give elde...</td>\n",
       "      <td>Positive</td>\n",
       "    </tr>\n",
       "    <tr>\n",
       "      <th>3</th>\n",
       "      <td>3802</td>\n",
       "      <td>NaN</td>\n",
       "      <td>16-03-2020</td>\n",
       "      <td>My food stock is not the only one which is emp...</td>\n",
       "      <td>Positive</td>\n",
       "    </tr>\n",
       "    <tr>\n",
       "      <th>4</th>\n",
       "      <td>3803</td>\n",
       "      <td>NaN</td>\n",
       "      <td>16-03-2020</td>\n",
       "      <td>Me, ready to go at supermarket during the #COV...</td>\n",
       "      <td>Extremely Negative</td>\n",
       "    </tr>\n",
       "    <tr>\n",
       "      <th>...</th>\n",
       "      <td>...</td>\n",
       "      <td>...</td>\n",
       "      <td>...</td>\n",
       "      <td>...</td>\n",
       "      <td>...</td>\n",
       "    </tr>\n",
       "    <tr>\n",
       "      <th>41152</th>\n",
       "      <td>44951</td>\n",
       "      <td>Wellington City, New Zealand</td>\n",
       "      <td>14-04-2020</td>\n",
       "      <td>Airline pilots offering to stock supermarket s...</td>\n",
       "      <td>Neutral</td>\n",
       "    </tr>\n",
       "    <tr>\n",
       "      <th>41153</th>\n",
       "      <td>44952</td>\n",
       "      <td>NaN</td>\n",
       "      <td>14-04-2020</td>\n",
       "      <td>Response to complaint not provided citing COVI...</td>\n",
       "      <td>Extremely Negative</td>\n",
       "    </tr>\n",
       "    <tr>\n",
       "      <th>41154</th>\n",
       "      <td>44953</td>\n",
       "      <td>NaN</td>\n",
       "      <td>14-04-2020</td>\n",
       "      <td>You know itÃÂs getting tough when @KameronWi...</td>\n",
       "      <td>Positive</td>\n",
       "    </tr>\n",
       "    <tr>\n",
       "      <th>41155</th>\n",
       "      <td>44954</td>\n",
       "      <td>NaN</td>\n",
       "      <td>14-04-2020</td>\n",
       "      <td>Is it wrong that the smell of hand sanitizer i...</td>\n",
       "      <td>Neutral</td>\n",
       "    </tr>\n",
       "    <tr>\n",
       "      <th>41156</th>\n",
       "      <td>44955</td>\n",
       "      <td>i love you so much || he/him</td>\n",
       "      <td>14-04-2020</td>\n",
       "      <td>@TartiiCat Well new/used Rift S are going for ...</td>\n",
       "      <td>Negative</td>\n",
       "    </tr>\n",
       "  </tbody>\n",
       "</table>\n",
       "<p>41157 rows × 5 columns</p>\n",
       "</div>"
      ],
      "text/plain": [
       "       UserName                      Location     TweetAt  \\\n",
       "0          3799                        London  16-03-2020   \n",
       "1          3800                            UK  16-03-2020   \n",
       "2          3801                     Vagabonds  16-03-2020   \n",
       "3          3802                           NaN  16-03-2020   \n",
       "4          3803                           NaN  16-03-2020   \n",
       "...         ...                           ...         ...   \n",
       "41152     44951  Wellington City, New Zealand  14-04-2020   \n",
       "41153     44952                           NaN  14-04-2020   \n",
       "41154     44953                           NaN  14-04-2020   \n",
       "41155     44954                           NaN  14-04-2020   \n",
       "41156     44955  i love you so much || he/him  14-04-2020   \n",
       "\n",
       "                                           OriginalTweet           Sentiment  \n",
       "0      @MeNyrbie @Phil_Gahan @Chrisitv https://t.co/i...             Neutral  \n",
       "1      advice Talk to your neighbours family to excha...            Positive  \n",
       "2      Coronavirus Australia: Woolworths to give elde...            Positive  \n",
       "3      My food stock is not the only one which is emp...            Positive  \n",
       "4      Me, ready to go at supermarket during the #COV...  Extremely Negative  \n",
       "...                                                  ...                 ...  \n",
       "41152  Airline pilots offering to stock supermarket s...             Neutral  \n",
       "41153  Response to complaint not provided citing COVI...  Extremely Negative  \n",
       "41154  You know itÃÂs getting tough when @KameronWi...            Positive  \n",
       "41155  Is it wrong that the smell of hand sanitizer i...             Neutral  \n",
       "41156  @TartiiCat Well new/used Rift S are going for ...            Negative  \n",
       "\n",
       "[41157 rows x 5 columns]"
      ]
     },
     "execution_count": 9,
     "metadata": {},
     "output_type": "execute_result"
    }
   ],
   "source": [
    "data_train = pd.read_csv('C:/Users/liber/Desktop/Stats/4o Semestre/Aprendizado de Maquina/Aprendizado-de-M-quina-UFMG/Treino-Tweet.csv', encoding='latin-1')\n",
    "data_train"
   ]
  },
  {
   "cell_type": "code",
   "execution_count": 10,
   "metadata": {},
   "outputs": [
    {
     "data": {
      "text/plain": [
       "12221"
      ]
     },
     "execution_count": 10,
     "metadata": {},
     "output_type": "execute_result"
    }
   ],
   "source": [
    "len(data_train.Location.unique())"
   ]
  },
  {
   "cell_type": "code",
   "execution_count": 11,
   "metadata": {},
   "outputs": [],
   "source": [
    "data_train = data_train.drop(['Location', 'UserName'], axis= 1)"
   ]
  },
  {
   "cell_type": "code",
   "execution_count": 12,
   "metadata": {},
   "outputs": [
    {
     "data": {
      "text/html": [
       "<div>\n",
       "<style scoped>\n",
       "    .dataframe tbody tr th:only-of-type {\n",
       "        vertical-align: middle;\n",
       "    }\n",
       "\n",
       "    .dataframe tbody tr th {\n",
       "        vertical-align: top;\n",
       "    }\n",
       "\n",
       "    .dataframe thead th {\n",
       "        text-align: right;\n",
       "    }\n",
       "</style>\n",
       "<table border=\"1\" class=\"dataframe\">\n",
       "  <thead>\n",
       "    <tr style=\"text-align: right;\">\n",
       "      <th></th>\n",
       "      <th>TweetAt</th>\n",
       "      <th>OriginalTweet</th>\n",
       "      <th>Sentiment</th>\n",
       "    </tr>\n",
       "  </thead>\n",
       "  <tbody>\n",
       "    <tr>\n",
       "      <th>0</th>\n",
       "      <td>16-03-2020</td>\n",
       "      <td>@MeNyrbie @Phil_Gahan @Chrisitv https://t.co/i...</td>\n",
       "      <td>Neutral</td>\n",
       "    </tr>\n",
       "    <tr>\n",
       "      <th>1</th>\n",
       "      <td>16-03-2020</td>\n",
       "      <td>advice Talk to your neighbours family to excha...</td>\n",
       "      <td>Positive</td>\n",
       "    </tr>\n",
       "    <tr>\n",
       "      <th>2</th>\n",
       "      <td>16-03-2020</td>\n",
       "      <td>Coronavirus Australia: Woolworths to give elde...</td>\n",
       "      <td>Positive</td>\n",
       "    </tr>\n",
       "    <tr>\n",
       "      <th>3</th>\n",
       "      <td>16-03-2020</td>\n",
       "      <td>My food stock is not the only one which is emp...</td>\n",
       "      <td>Positive</td>\n",
       "    </tr>\n",
       "    <tr>\n",
       "      <th>4</th>\n",
       "      <td>16-03-2020</td>\n",
       "      <td>Me, ready to go at supermarket during the #COV...</td>\n",
       "      <td>Negative</td>\n",
       "    </tr>\n",
       "    <tr>\n",
       "      <th>...</th>\n",
       "      <td>...</td>\n",
       "      <td>...</td>\n",
       "      <td>...</td>\n",
       "    </tr>\n",
       "    <tr>\n",
       "      <th>41152</th>\n",
       "      <td>14-04-2020</td>\n",
       "      <td>Airline pilots offering to stock supermarket s...</td>\n",
       "      <td>Neutral</td>\n",
       "    </tr>\n",
       "    <tr>\n",
       "      <th>41153</th>\n",
       "      <td>14-04-2020</td>\n",
       "      <td>Response to complaint not provided citing COVI...</td>\n",
       "      <td>Negative</td>\n",
       "    </tr>\n",
       "    <tr>\n",
       "      <th>41154</th>\n",
       "      <td>14-04-2020</td>\n",
       "      <td>You know itÃÂs getting tough when @KameronWi...</td>\n",
       "      <td>Positive</td>\n",
       "    </tr>\n",
       "    <tr>\n",
       "      <th>41155</th>\n",
       "      <td>14-04-2020</td>\n",
       "      <td>Is it wrong that the smell of hand sanitizer i...</td>\n",
       "      <td>Neutral</td>\n",
       "    </tr>\n",
       "    <tr>\n",
       "      <th>41156</th>\n",
       "      <td>14-04-2020</td>\n",
       "      <td>@TartiiCat Well new/used Rift S are going for ...</td>\n",
       "      <td>Negative</td>\n",
       "    </tr>\n",
       "  </tbody>\n",
       "</table>\n",
       "<p>41157 rows × 3 columns</p>\n",
       "</div>"
      ],
      "text/plain": [
       "          TweetAt                                      OriginalTweet Sentiment\n",
       "0      16-03-2020  @MeNyrbie @Phil_Gahan @Chrisitv https://t.co/i...   Neutral\n",
       "1      16-03-2020  advice Talk to your neighbours family to excha...  Positive\n",
       "2      16-03-2020  Coronavirus Australia: Woolworths to give elde...  Positive\n",
       "3      16-03-2020  My food stock is not the only one which is emp...  Positive\n",
       "4      16-03-2020  Me, ready to go at supermarket during the #COV...  Negative\n",
       "...           ...                                                ...       ...\n",
       "41152  14-04-2020  Airline pilots offering to stock supermarket s...   Neutral\n",
       "41153  14-04-2020  Response to complaint not provided citing COVI...  Negative\n",
       "41154  14-04-2020  You know itÃÂs getting tough when @KameronWi...  Positive\n",
       "41155  14-04-2020  Is it wrong that the smell of hand sanitizer i...   Neutral\n",
       "41156  14-04-2020  @TartiiCat Well new/used Rift S are going for ...  Negative\n",
       "\n",
       "[41157 rows x 3 columns]"
      ]
     },
     "execution_count": 12,
     "metadata": {},
     "output_type": "execute_result"
    }
   ],
   "source": [
    "data_train[\"Sentiment\"].replace({\"Extremely Negative\":\"Negative\", \"Extremely Positive\":\"Positive\"}, inplace=True)\n",
    "data_train"
   ]
  },
  {
   "cell_type": "code",
   "execution_count": 13,
   "metadata": {},
   "outputs": [
    {
     "data": {
      "text/html": [
       "<div>\n",
       "<style scoped>\n",
       "    .dataframe tbody tr th:only-of-type {\n",
       "        vertical-align: middle;\n",
       "    }\n",
       "\n",
       "    .dataframe tbody tr th {\n",
       "        vertical-align: top;\n",
       "    }\n",
       "\n",
       "    .dataframe thead th {\n",
       "        text-align: right;\n",
       "    }\n",
       "</style>\n",
       "<table border=\"1\" class=\"dataframe\">\n",
       "  <thead>\n",
       "    <tr style=\"text-align: right;\">\n",
       "      <th></th>\n",
       "      <th>TweetAt</th>\n",
       "      <th>OriginalTweet</th>\n",
       "      <th>Sentiment_Negative</th>\n",
       "      <th>Sentiment_Neutral</th>\n",
       "      <th>Sentiment_Positive</th>\n",
       "    </tr>\n",
       "  </thead>\n",
       "  <tbody>\n",
       "    <tr>\n",
       "      <th>0</th>\n",
       "      <td>16-03-2020</td>\n",
       "      <td>@MeNyrbie @Phil_Gahan @Chrisitv https://t.co/i...</td>\n",
       "      <td>0</td>\n",
       "      <td>1</td>\n",
       "      <td>0</td>\n",
       "    </tr>\n",
       "    <tr>\n",
       "      <th>1</th>\n",
       "      <td>16-03-2020</td>\n",
       "      <td>advice Talk to your neighbours family to excha...</td>\n",
       "      <td>0</td>\n",
       "      <td>0</td>\n",
       "      <td>1</td>\n",
       "    </tr>\n",
       "    <tr>\n",
       "      <th>2</th>\n",
       "      <td>16-03-2020</td>\n",
       "      <td>Coronavirus Australia: Woolworths to give elde...</td>\n",
       "      <td>0</td>\n",
       "      <td>0</td>\n",
       "      <td>1</td>\n",
       "    </tr>\n",
       "    <tr>\n",
       "      <th>3</th>\n",
       "      <td>16-03-2020</td>\n",
       "      <td>My food stock is not the only one which is emp...</td>\n",
       "      <td>0</td>\n",
       "      <td>0</td>\n",
       "      <td>1</td>\n",
       "    </tr>\n",
       "    <tr>\n",
       "      <th>4</th>\n",
       "      <td>16-03-2020</td>\n",
       "      <td>Me, ready to go at supermarket during the #COV...</td>\n",
       "      <td>1</td>\n",
       "      <td>0</td>\n",
       "      <td>0</td>\n",
       "    </tr>\n",
       "    <tr>\n",
       "      <th>...</th>\n",
       "      <td>...</td>\n",
       "      <td>...</td>\n",
       "      <td>...</td>\n",
       "      <td>...</td>\n",
       "      <td>...</td>\n",
       "    </tr>\n",
       "    <tr>\n",
       "      <th>41152</th>\n",
       "      <td>14-04-2020</td>\n",
       "      <td>Airline pilots offering to stock supermarket s...</td>\n",
       "      <td>0</td>\n",
       "      <td>1</td>\n",
       "      <td>0</td>\n",
       "    </tr>\n",
       "    <tr>\n",
       "      <th>41153</th>\n",
       "      <td>14-04-2020</td>\n",
       "      <td>Response to complaint not provided citing COVI...</td>\n",
       "      <td>1</td>\n",
       "      <td>0</td>\n",
       "      <td>0</td>\n",
       "    </tr>\n",
       "    <tr>\n",
       "      <th>41154</th>\n",
       "      <td>14-04-2020</td>\n",
       "      <td>You know itÃÂs getting tough when @KameronWi...</td>\n",
       "      <td>0</td>\n",
       "      <td>0</td>\n",
       "      <td>1</td>\n",
       "    </tr>\n",
       "    <tr>\n",
       "      <th>41155</th>\n",
       "      <td>14-04-2020</td>\n",
       "      <td>Is it wrong that the smell of hand sanitizer i...</td>\n",
       "      <td>0</td>\n",
       "      <td>1</td>\n",
       "      <td>0</td>\n",
       "    </tr>\n",
       "    <tr>\n",
       "      <th>41156</th>\n",
       "      <td>14-04-2020</td>\n",
       "      <td>@TartiiCat Well new/used Rift S are going for ...</td>\n",
       "      <td>1</td>\n",
       "      <td>0</td>\n",
       "      <td>0</td>\n",
       "    </tr>\n",
       "  </tbody>\n",
       "</table>\n",
       "<p>41157 rows × 5 columns</p>\n",
       "</div>"
      ],
      "text/plain": [
       "          TweetAt                                      OriginalTweet  \\\n",
       "0      16-03-2020  @MeNyrbie @Phil_Gahan @Chrisitv https://t.co/i...   \n",
       "1      16-03-2020  advice Talk to your neighbours family to excha...   \n",
       "2      16-03-2020  Coronavirus Australia: Woolworths to give elde...   \n",
       "3      16-03-2020  My food stock is not the only one which is emp...   \n",
       "4      16-03-2020  Me, ready to go at supermarket during the #COV...   \n",
       "...           ...                                                ...   \n",
       "41152  14-04-2020  Airline pilots offering to stock supermarket s...   \n",
       "41153  14-04-2020  Response to complaint not provided citing COVI...   \n",
       "41154  14-04-2020  You know itÃÂs getting tough when @KameronWi...   \n",
       "41155  14-04-2020  Is it wrong that the smell of hand sanitizer i...   \n",
       "41156  14-04-2020  @TartiiCat Well new/used Rift S are going for ...   \n",
       "\n",
       "       Sentiment_Negative  Sentiment_Neutral  Sentiment_Positive  \n",
       "0                       0                  1                   0  \n",
       "1                       0                  0                   1  \n",
       "2                       0                  0                   1  \n",
       "3                       0                  0                   1  \n",
       "4                       1                  0                   0  \n",
       "...                   ...                ...                 ...  \n",
       "41152                   0                  1                   0  \n",
       "41153                   1                  0                   0  \n",
       "41154                   0                  0                   1  \n",
       "41155                   0                  1                   0  \n",
       "41156                   1                  0                   0  \n",
       "\n",
       "[41157 rows x 5 columns]"
      ]
     },
     "execution_count": 13,
     "metadata": {},
     "output_type": "execute_result"
    }
   ],
   "source": [
    "from numpy import int8\n",
    "data_train = pd.get_dummies(data_train, columns= [\"Sentiment\"], drop_first= False, dtype=int8)\n",
    "data_train"
   ]
  },
  {
   "cell_type": "code",
   "execution_count": 14,
   "metadata": {},
   "outputs": [],
   "source": [
    "data_train['Label'] = data_train[['Sentiment_Negative', 'Sentiment_Neutral', 'Sentiment_Positive']].values.tolist()"
   ]
  },
  {
   "cell_type": "code",
   "execution_count": 15,
   "metadata": {},
   "outputs": [
    {
     "data": {
      "text/html": [
       "<div>\n",
       "<style scoped>\n",
       "    .dataframe tbody tr th:only-of-type {\n",
       "        vertical-align: middle;\n",
       "    }\n",
       "\n",
       "    .dataframe tbody tr th {\n",
       "        vertical-align: top;\n",
       "    }\n",
       "\n",
       "    .dataframe thead th {\n",
       "        text-align: right;\n",
       "    }\n",
       "</style>\n",
       "<table border=\"1\" class=\"dataframe\">\n",
       "  <thead>\n",
       "    <tr style=\"text-align: right;\">\n",
       "      <th></th>\n",
       "      <th>TweetAt</th>\n",
       "      <th>OriginalTweet</th>\n",
       "      <th>Label</th>\n",
       "    </tr>\n",
       "  </thead>\n",
       "  <tbody>\n",
       "    <tr>\n",
       "      <th>0</th>\n",
       "      <td>16-03-2020</td>\n",
       "      <td>@MeNyrbie @Phil_Gahan @Chrisitv https://t.co/i...</td>\n",
       "      <td>[0, 1, 0]</td>\n",
       "    </tr>\n",
       "    <tr>\n",
       "      <th>1</th>\n",
       "      <td>16-03-2020</td>\n",
       "      <td>advice Talk to your neighbours family to excha...</td>\n",
       "      <td>[0, 0, 1]</td>\n",
       "    </tr>\n",
       "    <tr>\n",
       "      <th>2</th>\n",
       "      <td>16-03-2020</td>\n",
       "      <td>Coronavirus Australia: Woolworths to give elde...</td>\n",
       "      <td>[0, 0, 1]</td>\n",
       "    </tr>\n",
       "    <tr>\n",
       "      <th>3</th>\n",
       "      <td>16-03-2020</td>\n",
       "      <td>My food stock is not the only one which is emp...</td>\n",
       "      <td>[0, 0, 1]</td>\n",
       "    </tr>\n",
       "    <tr>\n",
       "      <th>4</th>\n",
       "      <td>16-03-2020</td>\n",
       "      <td>Me, ready to go at supermarket during the #COV...</td>\n",
       "      <td>[1, 0, 0]</td>\n",
       "    </tr>\n",
       "    <tr>\n",
       "      <th>...</th>\n",
       "      <td>...</td>\n",
       "      <td>...</td>\n",
       "      <td>...</td>\n",
       "    </tr>\n",
       "    <tr>\n",
       "      <th>41152</th>\n",
       "      <td>14-04-2020</td>\n",
       "      <td>Airline pilots offering to stock supermarket s...</td>\n",
       "      <td>[0, 1, 0]</td>\n",
       "    </tr>\n",
       "    <tr>\n",
       "      <th>41153</th>\n",
       "      <td>14-04-2020</td>\n",
       "      <td>Response to complaint not provided citing COVI...</td>\n",
       "      <td>[1, 0, 0]</td>\n",
       "    </tr>\n",
       "    <tr>\n",
       "      <th>41154</th>\n",
       "      <td>14-04-2020</td>\n",
       "      <td>You know itÃÂs getting tough when @KameronWi...</td>\n",
       "      <td>[0, 0, 1]</td>\n",
       "    </tr>\n",
       "    <tr>\n",
       "      <th>41155</th>\n",
       "      <td>14-04-2020</td>\n",
       "      <td>Is it wrong that the smell of hand sanitizer i...</td>\n",
       "      <td>[0, 1, 0]</td>\n",
       "    </tr>\n",
       "    <tr>\n",
       "      <th>41156</th>\n",
       "      <td>14-04-2020</td>\n",
       "      <td>@TartiiCat Well new/used Rift S are going for ...</td>\n",
       "      <td>[1, 0, 0]</td>\n",
       "    </tr>\n",
       "  </tbody>\n",
       "</table>\n",
       "<p>41157 rows × 3 columns</p>\n",
       "</div>"
      ],
      "text/plain": [
       "          TweetAt                                      OriginalTweet  \\\n",
       "0      16-03-2020  @MeNyrbie @Phil_Gahan @Chrisitv https://t.co/i...   \n",
       "1      16-03-2020  advice Talk to your neighbours family to excha...   \n",
       "2      16-03-2020  Coronavirus Australia: Woolworths to give elde...   \n",
       "3      16-03-2020  My food stock is not the only one which is emp...   \n",
       "4      16-03-2020  Me, ready to go at supermarket during the #COV...   \n",
       "...           ...                                                ...   \n",
       "41152  14-04-2020  Airline pilots offering to stock supermarket s...   \n",
       "41153  14-04-2020  Response to complaint not provided citing COVI...   \n",
       "41154  14-04-2020  You know itÃÂs getting tough when @KameronWi...   \n",
       "41155  14-04-2020  Is it wrong that the smell of hand sanitizer i...   \n",
       "41156  14-04-2020  @TartiiCat Well new/used Rift S are going for ...   \n",
       "\n",
       "           Label  \n",
       "0      [0, 1, 0]  \n",
       "1      [0, 0, 1]  \n",
       "2      [0, 0, 1]  \n",
       "3      [0, 0, 1]  \n",
       "4      [1, 0, 0]  \n",
       "...          ...  \n",
       "41152  [0, 1, 0]  \n",
       "41153  [1, 0, 0]  \n",
       "41154  [0, 0, 1]  \n",
       "41155  [0, 1, 0]  \n",
       "41156  [1, 0, 0]  \n",
       "\n",
       "[41157 rows x 3 columns]"
      ]
     },
     "execution_count": 15,
     "metadata": {},
     "output_type": "execute_result"
    }
   ],
   "source": [
    "data_train = data_train.drop(['Sentiment_Negative', 'Sentiment_Neutral', 'Sentiment_Positive'], axis= 1)\n",
    "data_train"
   ]
  },
  {
   "cell_type": "code",
   "execution_count": 16,
   "metadata": {},
   "outputs": [],
   "source": [
    "bert_layer = hub.KerasLayer(\"https://tfhub.dev/tensorflow/bert_multi_cased_L-12_H-768_A-12/2\",\n",
    "                            trainable=True)"
   ]
  },
  {
   "cell_type": "code",
   "execution_count": 17,
   "metadata": {},
   "outputs": [],
   "source": [
    "vocab_file = bert_layer.resolved_object.vocab_file.asset_path.numpy()\n",
    "do_lower_case = bert_layer.resolved_object.do_lower_case.numpy()\n",
    "tokenizer = tokenization.FullTokenizer(vocab_file, do_lower_case)"
   ]
  },
  {
   "cell_type": "code",
   "execution_count": 18,
   "metadata": {},
   "outputs": [
    {
     "data": {
      "text/plain": [
       "[101, 102]"
      ]
     },
     "execution_count": 18,
     "metadata": {},
     "output_type": "execute_result"
    }
   ],
   "source": [
    "tokenizer.convert_tokens_to_ids(['[CLS]', '[SEP]'])"
   ]
  },
  {
   "cell_type": "code",
   "execution_count": 19,
   "metadata": {},
   "outputs": [],
   "source": [
    "train, validation = train_test_split(data_train, test_size=0.15)\n",
    "Tweets = train.OriginalTweet"
   ]
  },
  {
   "cell_type": "code",
   "execution_count": 20,
   "metadata": {},
   "outputs": [],
   "source": [
    "def encode_names(n):\n",
    "   tokens = list(tokenizer.tokenize(n))\n",
    "   tokens.append('[SEP]')  # seperation token. Would bemuch more useful if you had a multiple text input.\n",
    "   return tokenizer.convert_tokens_to_ids(tokens)\n",
    "\n",
    "tweets_encoded = tf.ragged.constant([\n",
    "    encode_names(n) for n in Tweets])"
   ]
  },
  {
   "cell_type": "code",
   "execution_count": 21,
   "metadata": {},
   "outputs": [
    {
     "name": "stdout",
     "output_type": "stream",
     "text": [
      "Tokenized Tweets shape [34983, None]\n"
     ]
    }
   ],
   "source": [
    "print('Tokenized Tweets shape', tweets_encoded.shape.as_list())"
   ]
  },
  {
   "cell_type": "code",
   "execution_count": 22,
   "metadata": {},
   "outputs": [
    {
     "data": {
      "text/plain": [
       "<tf.Tensor: shape=(49,), dtype=int32, numpy=\n",
       "array([ 14962,  13172,    108,  63131,  10123,  95596,  10149,  13028,\n",
       "        17367,  10114,  55681,  10105,    108,  24960, 108986,  10350,\n",
       "          136,  10747,  13575,  24952,  13028,    169,  87656,  57085,\n",
       "        14120,    131,    120,    120,    188,    119,  11170,    120,\n",
       "          176,  10350,  11517,  65111,  11703,  11373,  19282,  63051,\n",
       "          108,  11170,  32194,  54055,    108,  31206,  37715,  10251,\n",
       "          102])>"
      ]
     },
     "execution_count": 22,
     "metadata": {},
     "output_type": "execute_result"
    }
   ],
   "source": [
    "tweets_encoded[0]"
   ]
  },
  {
   "cell_type": "code",
   "execution_count": 23,
   "metadata": {},
   "outputs": [
    {
     "name": "stdout",
     "output_type": "stream",
     "text": [
      "@ [137]\n",
      "Me [11589]\n",
      "##N [11537]\n",
      "##yr [20728]\n",
      "##bie [18545]\n",
      "@ [137]\n",
      "Phil [18144]\n",
      "_ [168]\n",
      "Ga [69699]\n",
      "##han [11781]\n",
      "@ [137]\n",
      "Chris [13151]\n",
      "##it [10486]\n",
      "##v [10477]\n",
      "https [14120]\n",
      ": [131]\n",
      "/ [120]\n",
      "/ [120]\n",
      "t [188]\n",
      ". [119]\n",
      "co [11170]\n",
      "/ [120]\n",
      "i [177]\n",
      "##F [11565]\n",
      "##z [10305]\n",
      "##9 [11373]\n",
      "##FA [38351]\n",
      "##n [10115]\n",
      "##2 [10729]\n",
      "##Pa [89525]\n",
      "and [10111]\n",
      "https [14120]\n",
      ": [131]\n",
      "/ [120]\n",
      "/ [120]\n",
      "t [188]\n",
      ". [119]\n",
      "co [11170]\n",
      "/ [120]\n",
      "x [192]\n",
      "##X [12674]\n",
      "##6 [11211]\n",
      "##gh [15774]\n",
      "##G [11447]\n",
      "##F [11565]\n",
      "##z [10305]\n",
      "##CC [65622]\n",
      "and [10111]\n",
      "https [14120]\n",
      ": [131]\n",
      "/ [120]\n",
      "/ [120]\n",
      "t [188]\n",
      ". [119]\n",
      "co [11170]\n",
      "/ [120]\n",
      "I [146]\n",
      "##2 [10729]\n",
      "##N [11537]\n",
      "##lz [48275]\n",
      "##d [10162]\n",
      "##x [10686]\n",
      "##N [11537]\n",
      "##o [10133]\n",
      "##8 [11396]\n"
     ]
    }
   ],
   "source": [
    "tokenizedTweet = tokenizer.tokenize(Tweets[0])\n",
    "for i in tokenizedTweet:\n",
    "  print(i, tokenizer.convert_tokens_to_ids([i]))"
   ]
  },
  {
   "cell_type": "code",
   "execution_count": 24,
   "metadata": {},
   "outputs": [
    {
     "data": {
      "image/png": "[encoded data removed]",
      "text/plain": [
       "<Figure size 640x480 with 1 Axes>"
      ]
     },
     "metadata": {},
     "output_type": "display_data"
    }
   ],
   "source": [
    "cls = [tokenizer.convert_tokens_to_ids(['[CLS]'])]*tweets_encoded.shape[0]\n",
    "input_word_ids = tf.concat([cls, tweets_encoded], axis=-1)\n",
    "_ = plt.pcolormesh(input_word_ids[0:10].to_tensor())"
   ]
  },
  {
   "cell_type": "code",
   "execution_count": 25,
   "metadata": {},
   "outputs": [
    {
     "data": {
      "text/plain": [
       "<matplotlib.collections.QuadMesh at 0x2317d5f5190>"
      ]
     },
     "execution_count": 25,
     "metadata": {},
     "output_type": "execute_result"
    },
    {
     "data": {
      "image/png": "[encoded data removed]",
      "text/plain": [
       "<Figure size 640x480 with 1 Axes>"
      ]
     },
     "metadata": {},
     "output_type": "display_data"
    }
   ],
   "source": [
    "input_mask = tf.ones_like(input_word_ids).to_tensor()\n",
    "plt.pcolormesh(input_mask)"
   ]
  },
  {
   "cell_type": "code",
   "execution_count": 26,
   "metadata": {},
   "outputs": [
    {
     "data": {
      "text/plain": [
       "<matplotlib.collections.QuadMesh at 0x23180608340>"
      ]
     },
     "execution_count": 26,
     "metadata": {},
     "output_type": "execute_result"
    },
    {
     "data": {
      "image/png": "[encoded data removed]",
      "text/plain": [
       "<Figure size 640x480 with 1 Axes>"
      ]
     },
     "metadata": {},
     "output_type": "display_data"
    }
   ],
   "source": [
    "type_cls = tf.zeros_like(cls)\n",
    "type_tweet = tf.ones_like(tweets_encoded)\n",
    "input_type_ids = tf.concat([type_cls, type_tweet], axis=-1).to_tensor()\n",
    "\n",
    "plt.pcolormesh(input_type_ids)"
   ]
  },
  {
   "cell_type": "code",
   "execution_count": 27,
   "metadata": {},
   "outputs": [],
   "source": [
    "#lens = [len(i) for i in input_word_ids]\n",
    "#max_seq_length = max(lens)\n",
    "#print('Max length is:', max_seq_length)"
   ]
  },
  {
   "cell_type": "code",
   "execution_count": 28,
   "metadata": {},
   "outputs": [
    {
     "name": "stdout",
     "output_type": "stream",
     "text": [
      "Max length is: 275\n"
     ]
    }
   ],
   "source": [
    "max_seq_length = 275\n",
    "print('Max length is:', max_seq_length)"
   ]
  },
  {
   "cell_type": "code",
   "execution_count": 29,
   "metadata": {},
   "outputs": [],
   "source": [
    "def encode_names(n, tokenizer):\n",
    "   tokens = list(tokenizer.tokenize(n))\n",
    "   tokens.append('[SEP]')\n",
    "   return tokenizer.convert_tokens_to_ids(tokens)\n",
    "\n",
    "def bert_encode(string_list, tokenizer, max_seq_length):\n",
    "  num_examples = len(string_list)\n",
    "  \n",
    "  string_tokens = tf.ragged.constant([\n",
    "      encode_names(n, tokenizer) for n in np.array(string_list)])\n",
    "\n",
    "  cls = [tokenizer.convert_tokens_to_ids(['[CLS]'])]*string_tokens.shape[0]\n",
    "  input_word_ids = tf.concat([cls, string_tokens], axis=-1)\n",
    "\n",
    "  input_mask = tf.ones_like(input_word_ids).to_tensor(shape=(None, max_seq_length))\n",
    "\n",
    "  type_cls = tf.zeros_like(cls)\n",
    "  type_tokens = tf.ones_like(string_tokens)\n",
    "  input_type_ids = tf.concat(\n",
    "      [type_cls, type_tokens], axis=-1).to_tensor(shape=(None, max_seq_length))\n",
    "\n",
    "  inputs = {\n",
    "      'input_word_ids': input_word_ids.to_tensor(shape=(None, max_seq_length)),\n",
    "      'input_mask': input_mask,\n",
    "      'input_type_ids': input_type_ids}\n",
    "\n",
    "  return inputs"
   ]
  },
  {
   "cell_type": "code",
   "execution_count": 30,
   "metadata": {},
   "outputs": [],
   "source": [
    "X_train = bert_encode(Tweets, tokenizer, max_seq_length)\n",
    "X_val = bert_encode(validation.OriginalTweet, tokenizer, max_seq_length)"
   ]
  },
  {
   "cell_type": "code",
   "execution_count": 31,
   "metadata": {},
   "outputs": [],
   "source": [
    "num_class = 3  # Based on available class selection\n",
    "max_seq_length = max_seq_length  # we calculated this a couple cells ago\n",
    "\n",
    "input_word_ids = tf.keras.layers.Input(shape=(max_seq_length,), dtype=tf.int32,\n",
    "                                       name=\"input_word_ids\")\n",
    "input_mask = tf.keras.layers.Input(shape=(max_seq_length,), dtype=tf.int32,\n",
    "                                   name=\"input_mask\")\n",
    "segment_ids = tf.keras.layers.Input(shape=(max_seq_length,), dtype=tf.int32,\n",
    "                                    name=\"segment_ids\")\n",
    "\n",
    "pooled_output, sequence_output = bert_layer([input_word_ids, input_mask, segment_ids])                                  \n",
    "\n",
    "output = tf.keras.layers.Dropout(rate=0.1)(pooled_output)\n",
    "\n",
    "output = tf.keras.layers.Dense(num_class, activation='softmax', name='output', dtype='float32')(output)\n",
    "\n",
    "model = tf.keras.Model(\n",
    "    inputs={\n",
    "        'input_word_ids': input_word_ids,\n",
    "        'input_mask': input_mask,\n",
    "        'input_type_ids': segment_ids\n",
    "        },\n",
    "        outputs=output)"
   ]
  },
  {
   "cell_type": "code",
   "execution_count": 32,
   "metadata": {},
   "outputs": [
    {
     "data": {
      "image/png": "[encoded data removed]",
      "text/plain": [
       "<IPython.core.display.Image object>"
      ]
     },
     "execution_count": 32,
     "metadata": {},
     "output_type": "execute_result"
    }
   ],
   "source": [
    "tf.keras.utils.plot_model(model, show_shapes=True, dpi=120)"
   ]
  },
  {
   "cell_type": "code",
   "execution_count": 33,
   "metadata": {},
   "outputs": [],
   "source": [
    "Labels_train = np.array([np.array(i) for i in train.Label])\n",
    "Labels_val = np.array([np.array(i) for i in validation.Label])"
   ]
  },
  {
   "cell_type": "code",
   "execution_count": 34,
   "metadata": {},
   "outputs": [],
   "source": [
    "epochs = 4\n",
    "batch_size = 10  # Maximo possivel com 11Gb de VRAM\n",
    "eval_batch_size = batch_size\n",
    "\n",
    "train_data_size = len(Labels_train)\n",
    "steps_per_epoch = int(train_data_size / batch_size) \n",
    "num_train_steps = steps_per_epoch * epochs\n",
    "warmup_steps = int(epochs * train_data_size * 0.1 / batch_size)\n",
    "\n",
    "optimizer = nlp.optimization.create_optimizer(\n",
    "    2e-5, num_train_steps=num_train_steps, num_warmup_steps=warmup_steps) #NAO MUDAR"
   ]
  },
  {
   "cell_type": "code",
   "execution_count": 35,
   "metadata": {},
   "outputs": [],
   "source": [
    "#pip install tensorflow_addons"
   ]
  },
  {
   "cell_type": "code",
   "execution_count": 36,
   "metadata": {},
   "outputs": [],
   "source": [
    "import tensorflow_addons as tfa\n",
    "model.compile(optimizer=optimizer,\n",
    "              loss = tf.keras.losses.CategoricalCrossentropy(),\n",
    "              metrics=[tf.keras.metrics.CategoricalAccuracy(), tfa.metrics.F1Score(num_classes=3), tfa.metrics.MultiLabelConfusionMatrix(num_classes=3)])"
   ]
  },
  {
   "cell_type": "code",
   "execution_count": 37,
   "metadata": {},
   "outputs": [
    {
     "name": "stdout",
     "output_type": "stream",
     "text": [
      "Model: \"model\"\n",
      "__________________________________________________________________________________________________\n",
      " Layer (type)                   Output Shape         Param #     Connected to                     \n",
      "==================================================================================================\n",
      " input_word_ids (InputLayer)    [(None, 275)]        0           []                               \n",
      "                                                                                                  \n",
      " input_mask (InputLayer)        [(None, 275)]        0           []                               \n",
      "                                                                                                  \n",
      " segment_ids (InputLayer)       [(None, 275)]        0           []                               \n",
      "                                                                                                  \n",
      " keras_layer (KerasLayer)       [(None, 768),        177853441   ['input_word_ids[0][0]',         \n",
      "                                 (None, 275, 768)]                'input_mask[0][0]',             \n",
      "                                                                  'segment_ids[0][0]']            \n",
      "                                                                                                  \n",
      " dropout (Dropout)              (None, 768)          0           ['keras_layer[0][0]']            \n",
      "                                                                                                  \n",
      " output (Dense)                 (None, 3)            2307        ['dropout[0][0]']                \n",
      "                                                                                                  \n",
      "==================================================================================================\n",
      "Total params: 177,855,748\n",
      "Trainable params: 177,855,747\n",
      "Non-trainable params: 1\n",
      "__________________________________________________________________________________________________\n"
     ]
    }
   ],
   "source": [
    "model.summary()"
   ]
  },
  {
   "cell_type": "code",
   "execution_count": 39,
   "metadata": {},
   "outputs": [
    {
     "name": "stdout",
     "output_type": "stream",
     "text": [
      "Epoch 1/4\n"
     ]
    },
    {
     "name": "stderr",
     "output_type": "stream",
     "text": [
      "C:\\Users\\liber\\AppData\\Roaming\\Python\\Python38\\site-packages\\tensorflow\\python\\framework\\indexed_slices.py:444: UserWarning: Converting sparse IndexedSlices(IndexedSlices(indices=Tensor(\"AdamWeightDecay/gradients/StatefulPartitionedCall:1\", shape=(None,), dtype=int32), values=Tensor(\"mul_2:0\", dtype=float32), dense_shape=Tensor(\"AdamWeightDecay/gradients/StatefulPartitionedCall:2\", shape=(None,), dtype=int32))) to a dense Tensor of unknown shape. This may consume a large amount of memory.\n",
      "  warnings.warn(\n"
     ]
    },
    {
     "name": "stdout",
     "output_type": "stream",
     "text": [
      "3499/3499 [==============================] - 750s 211ms/step - loss: 0.5892 - categorical_accuracy: 0.7596 - f1_score: 0.7443 - Multilabel_confusion_matrix: 8745.7500 - val_loss: 0.4414 - val_categorical_accuracy: 0.8456 - val_f1_score: 0.8375 - val_Multilabel_confusion_matrix: 1543.5000\n",
      "Epoch 2/4\n",
      "3499/3499 [==============================] - 749s 214ms/step - loss: 0.3074 - categorical_accuracy: 0.8944 - f1_score: 0.8879 - Multilabel_confusion_matrix: 8745.7500 - val_loss: 0.2876 - val_categorical_accuracy: 0.8973 - val_f1_score: 0.8891 - val_Multilabel_confusion_matrix: 1543.5000\n",
      "Epoch 3/4\n",
      "3499/3499 [==============================] - 749s 214ms/step - loss: 0.1922 - categorical_accuracy: 0.9353 - f1_score: 0.9292 - Multilabel_confusion_matrix: 8745.7500 - val_loss: 0.2780 - val_categorical_accuracy: 0.9070 - val_f1_score: 0.8985 - val_Multilabel_confusion_matrix: 1543.5000\n",
      "Epoch 4/4\n",
      "3499/3499 [==============================] - 765s 219ms/step - loss: 0.1179 - categorical_accuracy: 0.9602 - f1_score: 0.9539 - Multilabel_confusion_matrix: 8745.7500 - val_loss: 0.3132 - val_categorical_accuracy: 0.9101 - val_f1_score: 0.9009 - val_Multilabel_confusion_matrix: 1543.5000\n"
     ]
    }
   ],
   "source": [
    "history = model.fit(\n",
    "    x=X_train,\n",
    "    y=Labels_train,\n",
    "    batch_size = batch_size,\n",
    "    epochs=epochs,\n",
    "    verbose=1,\n",
    "    callbacks=None,\n",
    "    validation_data= (X_val, Labels_val),\n",
    "    shuffle=True,\n",
    "    class_weight=None,\n",
    "    sample_weight=None\n",
    ")"
   ]
  },
  {
   "cell_type": "code",
   "execution_count": null,
   "metadata": {},
   "outputs": [],
   "source": [
    "#!mkdir 'C:\\Users\\liber\\Desktop\\Stats\\4o Semestre\\Aprendizado de Maquina\\twitter_BERTv1.5'\n",
    "#model.save('C:/Users/liber/Desktop/Stats/4o Semestre/Aprendizado de Maquina/twitter_BERTv1.5/model.h5')"
   ]
  },
  {
   "cell_type": "code",
   "execution_count": 40,
   "metadata": {},
   "outputs": [
    {
     "data": {
      "text/html": [
       "<div>\n",
       "<style scoped>\n",
       "    .dataframe tbody tr th:only-of-type {\n",
       "        vertical-align: middle;\n",
       "    }\n",
       "\n",
       "    .dataframe tbody tr th {\n",
       "        vertical-align: top;\n",
       "    }\n",
       "\n",
       "    .dataframe thead th {\n",
       "        text-align: right;\n",
       "    }\n",
       "</style>\n",
       "<table border=\"1\" class=\"dataframe\">\n",
       "  <thead>\n",
       "    <tr style=\"text-align: right;\">\n",
       "      <th></th>\n",
       "      <th>UserName</th>\n",
       "      <th>Location</th>\n",
       "      <th>TweetAt</th>\n",
       "      <th>OriginalTweet</th>\n",
       "    </tr>\n",
       "  </thead>\n",
       "  <tbody>\n",
       "    <tr>\n",
       "      <th>0</th>\n",
       "      <td>1</td>\n",
       "      <td>NYC</td>\n",
       "      <td>02-03-2020</td>\n",
       "      <td>TRENDING: New Yorkers encounter empty supermar...</td>\n",
       "    </tr>\n",
       "    <tr>\n",
       "      <th>1</th>\n",
       "      <td>2</td>\n",
       "      <td>Seattle, WA</td>\n",
       "      <td>02-03-2020</td>\n",
       "      <td>When I couldn't find hand sanitizer at Fred Me...</td>\n",
       "    </tr>\n",
       "    <tr>\n",
       "      <th>2</th>\n",
       "      <td>3</td>\n",
       "      <td>NaN</td>\n",
       "      <td>02-03-2020</td>\n",
       "      <td>Find out how you can protect yourself and love...</td>\n",
       "    </tr>\n",
       "    <tr>\n",
       "      <th>3</th>\n",
       "      <td>4</td>\n",
       "      <td>Chicagoland</td>\n",
       "      <td>02-03-2020</td>\n",
       "      <td>#Panic buying hits #NewYork City as anxious sh...</td>\n",
       "    </tr>\n",
       "    <tr>\n",
       "      <th>4</th>\n",
       "      <td>5</td>\n",
       "      <td>Melbourne, Victoria</td>\n",
       "      <td>03-03-2020</td>\n",
       "      <td>#toiletpaper #dunnypaper #coronavirus #coronav...</td>\n",
       "    </tr>\n",
       "    <tr>\n",
       "      <th>...</th>\n",
       "      <td>...</td>\n",
       "      <td>...</td>\n",
       "      <td>...</td>\n",
       "      <td>...</td>\n",
       "    </tr>\n",
       "    <tr>\n",
       "      <th>3793</th>\n",
       "      <td>3794</td>\n",
       "      <td>Israel ??</td>\n",
       "      <td>16-03-2020</td>\n",
       "      <td>Meanwhile In A Supermarket in Israel -- People...</td>\n",
       "    </tr>\n",
       "    <tr>\n",
       "      <th>3794</th>\n",
       "      <td>3795</td>\n",
       "      <td>Farmington, NM</td>\n",
       "      <td>16-03-2020</td>\n",
       "      <td>Did you panic buy a lot of non-perishable item...</td>\n",
       "    </tr>\n",
       "    <tr>\n",
       "      <th>3795</th>\n",
       "      <td>3796</td>\n",
       "      <td>Haverford, PA</td>\n",
       "      <td>16-03-2020</td>\n",
       "      <td>Asst Prof of Economics @cconces was on @NBCPhi...</td>\n",
       "    </tr>\n",
       "    <tr>\n",
       "      <th>3796</th>\n",
       "      <td>3797</td>\n",
       "      <td>NaN</td>\n",
       "      <td>16-03-2020</td>\n",
       "      <td>Gov need to do somethings instead of biar je r...</td>\n",
       "    </tr>\n",
       "    <tr>\n",
       "      <th>3797</th>\n",
       "      <td>3798</td>\n",
       "      <td>Arlington, Virginia</td>\n",
       "      <td>16-03-2020</td>\n",
       "      <td>I and @ForestandPaper members are committed to...</td>\n",
       "    </tr>\n",
       "  </tbody>\n",
       "</table>\n",
       "<p>3798 rows × 4 columns</p>\n",
       "</div>"
      ],
      "text/plain": [
       "      UserName             Location     TweetAt  \\\n",
       "0            1                  NYC  02-03-2020   \n",
       "1            2          Seattle, WA  02-03-2020   \n",
       "2            3                  NaN  02-03-2020   \n",
       "3            4          Chicagoland  02-03-2020   \n",
       "4            5  Melbourne, Victoria  03-03-2020   \n",
       "...        ...                  ...         ...   \n",
       "3793      3794            Israel ??  16-03-2020   \n",
       "3794      3795       Farmington, NM  16-03-2020   \n",
       "3795      3796        Haverford, PA  16-03-2020   \n",
       "3796      3797                  NaN  16-03-2020   \n",
       "3797      3798  Arlington, Virginia  16-03-2020   \n",
       "\n",
       "                                          OriginalTweet  \n",
       "0     TRENDING: New Yorkers encounter empty supermar...  \n",
       "1     When I couldn't find hand sanitizer at Fred Me...  \n",
       "2     Find out how you can protect yourself and love...  \n",
       "3     #Panic buying hits #NewYork City as anxious sh...  \n",
       "4     #toiletpaper #dunnypaper #coronavirus #coronav...  \n",
       "...                                                 ...  \n",
       "3793  Meanwhile In A Supermarket in Israel -- People...  \n",
       "3794  Did you panic buy a lot of non-perishable item...  \n",
       "3795  Asst Prof of Economics @cconces was on @NBCPhi...  \n",
       "3796  Gov need to do somethings instead of biar je r...  \n",
       "3797  I and @ForestandPaper members are committed to...  \n",
       "\n",
       "[3798 rows x 4 columns]"
      ]
     },
     "execution_count": 40,
     "metadata": {},
     "output_type": "execute_result"
    }
   ],
   "source": [
    "data_test = pd.read_csv('C:/Users/liber/Desktop/Stats/4o Semestre/Aprendizado de Maquina/Aprendizado-de-M-quina-UFMG/Teste-Tweet.csv', encoding='utf-8')\n",
    "\n",
    "from numpy import int8\n",
    "Tweets_test = data_test.OriginalTweet\n",
    "X_test = bert_encode(Tweets_test, tokenizer, max_seq_length)\n",
    "data_test"
   ]
  },
  {
   "cell_type": "code",
   "execution_count": 41,
   "metadata": {},
   "outputs": [
    {
     "name": "stdout",
     "output_type": "stream",
     "text": [
      "119/119 [==============================] - 22s 184ms/step\n"
     ]
    },
    {
     "data": {
      "text/plain": [
       "array([[9.99722898e-01, 9.35107746e-05, 1.83543583e-04],\n",
       "       [5.13511011e-04, 6.51454786e-04, 9.98835027e-01],\n",
       "       [1.18295924e-04, 5.63607100e-05, 9.99825418e-01],\n",
       "       ...,\n",
       "       [2.97009554e-02, 2.55748659e-01, 7.14550376e-01],\n",
       "       [9.98744011e-01, 5.54831582e-04, 7.01125420e-04],\n",
       "       [1.73738896e-04, 5.12562729e-05, 9.99774992e-01]], dtype=float32)"
      ]
     },
     "execution_count": 41,
     "metadata": {},
     "output_type": "execute_result"
    }
   ],
   "source": [
    "Predictions = model.predict(X_test, verbose=1)\n",
    "Predictions"
   ]
  },
  {
   "cell_type": "code",
   "execution_count": 42,
   "metadata": {},
   "outputs": [],
   "source": [
    "Resultados = []\n",
    "for i in Predictions:\n",
    "    if np.argmax(i) == 0:\n",
    "        Resultados.append(\"Negative\")\n",
    "    elif np.argmax(i) == 1:\n",
    "        Resultados.append(\"Neutral\")\n",
    "    elif np.argmax(i) == 2:\n",
    "        Resultados.append(\"Positive\")\n",
    "    else: \n",
    "        print(i)"
   ]
  },
  {
   "cell_type": "code",
   "execution_count": 43,
   "metadata": {},
   "outputs": [
    {
     "data": {
      "text/html": [
       "<div>\n",
       "<style scoped>\n",
       "    .dataframe tbody tr th:only-of-type {\n",
       "        vertical-align: middle;\n",
       "    }\n",
       "\n",
       "    .dataframe tbody tr th {\n",
       "        vertical-align: top;\n",
       "    }\n",
       "\n",
       "    .dataframe thead th {\n",
       "        text-align: right;\n",
       "    }\n",
       "</style>\n",
       "<table border=\"1\" class=\"dataframe\">\n",
       "  <thead>\n",
       "    <tr style=\"text-align: right;\">\n",
       "      <th></th>\n",
       "      <th>UserName</th>\n",
       "      <th>Location</th>\n",
       "      <th>TweetAt</th>\n",
       "      <th>OriginalTweet</th>\n",
       "      <th>Sentiment</th>\n",
       "    </tr>\n",
       "  </thead>\n",
       "  <tbody>\n",
       "    <tr>\n",
       "      <th>0</th>\n",
       "      <td>1</td>\n",
       "      <td>NYC</td>\n",
       "      <td>02-03-2020</td>\n",
       "      <td>TRENDING: New Yorkers encounter empty supermar...</td>\n",
       "      <td>Negative</td>\n",
       "    </tr>\n",
       "    <tr>\n",
       "      <th>1</th>\n",
       "      <td>2</td>\n",
       "      <td>Seattle, WA</td>\n",
       "      <td>02-03-2020</td>\n",
       "      <td>When I couldn't find hand sanitizer at Fred Me...</td>\n",
       "      <td>Positive</td>\n",
       "    </tr>\n",
       "    <tr>\n",
       "      <th>2</th>\n",
       "      <td>3</td>\n",
       "      <td>NaN</td>\n",
       "      <td>02-03-2020</td>\n",
       "      <td>Find out how you can protect yourself and love...</td>\n",
       "      <td>Positive</td>\n",
       "    </tr>\n",
       "    <tr>\n",
       "      <th>3</th>\n",
       "      <td>4</td>\n",
       "      <td>Chicagoland</td>\n",
       "      <td>02-03-2020</td>\n",
       "      <td>#Panic buying hits #NewYork City as anxious sh...</td>\n",
       "      <td>Negative</td>\n",
       "    </tr>\n",
       "    <tr>\n",
       "      <th>4</th>\n",
       "      <td>5</td>\n",
       "      <td>Melbourne, Victoria</td>\n",
       "      <td>03-03-2020</td>\n",
       "      <td>#toiletpaper #dunnypaper #coronavirus #coronav...</td>\n",
       "      <td>Neutral</td>\n",
       "    </tr>\n",
       "    <tr>\n",
       "      <th>...</th>\n",
       "      <td>...</td>\n",
       "      <td>...</td>\n",
       "      <td>...</td>\n",
       "      <td>...</td>\n",
       "      <td>...</td>\n",
       "    </tr>\n",
       "    <tr>\n",
       "      <th>3793</th>\n",
       "      <td>3794</td>\n",
       "      <td>Israel ??</td>\n",
       "      <td>16-03-2020</td>\n",
       "      <td>Meanwhile In A Supermarket in Israel -- People...</td>\n",
       "      <td>Positive</td>\n",
       "    </tr>\n",
       "    <tr>\n",
       "      <th>3794</th>\n",
       "      <td>3795</td>\n",
       "      <td>Farmington, NM</td>\n",
       "      <td>16-03-2020</td>\n",
       "      <td>Did you panic buy a lot of non-perishable item...</td>\n",
       "      <td>Negative</td>\n",
       "    </tr>\n",
       "    <tr>\n",
       "      <th>3795</th>\n",
       "      <td>3796</td>\n",
       "      <td>Haverford, PA</td>\n",
       "      <td>16-03-2020</td>\n",
       "      <td>Asst Prof of Economics @cconces was on @NBCPhi...</td>\n",
       "      <td>Positive</td>\n",
       "    </tr>\n",
       "    <tr>\n",
       "      <th>3796</th>\n",
       "      <td>3797</td>\n",
       "      <td>NaN</td>\n",
       "      <td>16-03-2020</td>\n",
       "      <td>Gov need to do somethings instead of biar je r...</td>\n",
       "      <td>Negative</td>\n",
       "    </tr>\n",
       "    <tr>\n",
       "      <th>3797</th>\n",
       "      <td>3798</td>\n",
       "      <td>Arlington, Virginia</td>\n",
       "      <td>16-03-2020</td>\n",
       "      <td>I and @ForestandPaper members are committed to...</td>\n",
       "      <td>Positive</td>\n",
       "    </tr>\n",
       "  </tbody>\n",
       "</table>\n",
       "<p>3798 rows × 5 columns</p>\n",
       "</div>"
      ],
      "text/plain": [
       "      UserName             Location     TweetAt  \\\n",
       "0            1                  NYC  02-03-2020   \n",
       "1            2          Seattle, WA  02-03-2020   \n",
       "2            3                  NaN  02-03-2020   \n",
       "3            4          Chicagoland  02-03-2020   \n",
       "4            5  Melbourne, Victoria  03-03-2020   \n",
       "...        ...                  ...         ...   \n",
       "3793      3794            Israel ??  16-03-2020   \n",
       "3794      3795       Farmington, NM  16-03-2020   \n",
       "3795      3796        Haverford, PA  16-03-2020   \n",
       "3796      3797                  NaN  16-03-2020   \n",
       "3797      3798  Arlington, Virginia  16-03-2020   \n",
       "\n",
       "                                          OriginalTweet Sentiment  \n",
       "0     TRENDING: New Yorkers encounter empty supermar...  Negative  \n",
       "1     When I couldn't find hand sanitizer at Fred Me...  Positive  \n",
       "2     Find out how you can protect yourself and love...  Positive  \n",
       "3     #Panic buying hits #NewYork City as anxious sh...  Negative  \n",
       "4     #toiletpaper #dunnypaper #coronavirus #coronav...   Neutral  \n",
       "...                                                 ...       ...  \n",
       "3793  Meanwhile In A Supermarket in Israel -- People...  Positive  \n",
       "3794  Did you panic buy a lot of non-perishable item...  Negative  \n",
       "3795  Asst Prof of Economics @cconces was on @NBCPhi...  Positive  \n",
       "3796  Gov need to do somethings instead of biar je r...  Negative  \n",
       "3797  I and @ForestandPaper members are committed to...  Positive  \n",
       "\n",
       "[3798 rows x 5 columns]"
      ]
     },
     "execution_count": 43,
     "metadata": {},
     "output_type": "execute_result"
    }
   ],
   "source": [
    "data_test[\"Sentiment\"] = Resultados\n",
    "data_test"
   ]
  },
  {
   "cell_type": "code",
   "execution_count": 44,
   "metadata": {},
   "outputs": [],
   "source": [
    "data_test.to_csv(r'C:\\Users\\liber\\Desktop\\Stats\\4o Semestre\\Aprendizado de Maquina\\Aprendizado-de-M-quina-UFMG\\TweetRespostas_FINALv1.csv')"
   ]
  }
 ],
 "metadata": {
  "kernelspec": {
   "display_name": "Python 3.8.13 ('TensorFlow')",
   "language": "python",
   "name": "python3"
  },
  "language_info": {
   "codemirror_mode": {
    "name": "ipython",
    "version": 3
   },
   "file_extension": ".py",
   "mimetype": "text/x-python",
   "name": "python",
   "nbconvert_exporter": "python",
   "pygments_lexer": "ipython3",
   "version": "3.8.13 (default, Mar 28 2022, 06:59:08) [MSC v.1916 64 bit (AMD64)]"
  },
  "orig_nbformat": 4,
  "vscode": {
   "interpreter": {
    "hash": "66a0f14e8d04748a4e0b58e1ead7be07fda46af493c5efe5fbe8842c45ca86d9"
   }
  }
 },
 "nbformat": 4,
 "nbformat_minor": 2
}
