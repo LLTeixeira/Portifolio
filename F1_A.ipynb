{
 "cells": [
  {
   "cell_type": "code",
   "execution_count": null,
   "metadata": {},
   "outputs": [],
   "source": [
    "#using Pkg\n",
    "#Pkg.installed()"
   ]
  },
  {
   "cell_type": "code",
   "execution_count": null,
   "metadata": {},
   "outputs": [],
   "source": [
    "using CSV\n",
    "using DataFrames"
   ]
  },
  {
   "cell_type": "code",
   "execution_count": null,
   "metadata": {},
   "outputs": [],
   "source": [
    "lap_times_raw = DataFrame(CSV.File(\"C:/Users/Leonardo/Documents/Estatistica/Scripts/Portifolio/Portifolio/F1_dataset/lap_times.csv\"));"
   ]
  },
  {
   "cell_type": "code",
   "execution_count": null,
   "metadata": {},
   "outputs": [],
   "source": [
    "races = DataFrame(CSV.File(\"C:/Users/Leonardo/Documents/Estatistica/Scripts/Portifolio/Portifolio/F1_dataset/races.csv\"));\n",
    "races = races[2014 .<= races.year .< 2022, :]\n",
    "races = races[:, [:raceId, :year, :circuitId, :date]]"
   ]
  },
  {
   "cell_type": "code",
   "execution_count": null,
   "metadata": {},
   "outputs": [],
   "source": [
    "dados = innerjoin(lap_times_raw, races, on = :raceId)\n",
    "lap_times_raw = 0"
   ]
  },
  {
   "cell_type": "code",
   "execution_count": null,
   "metadata": {},
   "outputs": [],
   "source": [
    "dados = dados[dados.circuitId .==1,:]"
   ]
  },
  {
   "cell_type": "code",
   "execution_count": null,
   "metadata": {},
   "outputs": [],
   "source": [
    "using Statistics\n",
    "quantile(dados[dados.driverId .== 3, :].milliseconds, [0.05, 0.9, 0.95, 0.975, 0.99])"
   ]
  },
  {
   "cell_type": "code",
   "execution_count": null,
   "metadata": {},
   "outputs": [],
   "source": [
    "dados_ham = dados[dados.milliseconds .< 100000, :]\n",
    "dados_ham = dados_ham[dados_ham.driverId .== 1, :]"
   ]
  },
  {
   "cell_type": "code",
   "execution_count": null,
   "metadata": {},
   "outputs": [],
   "source": [
    "scatter(dados[dados.circuitId .== 1, :].lap, dados[dados.circuitId .== 1, :].milliseconds)"
   ]
  },
  {
   "cell_type": "code",
   "execution_count": null,
   "metadata": {},
   "outputs": [],
   "source": [
    "quantile(dados.milliseconds, [0.05, 0.9, 0.95, 0.975, 0.99])"
   ]
  },
  {
   "cell_type": "code",
   "execution_count": null,
   "metadata": {},
   "outputs": [],
   "source": [
    "hamilton = filter(row -> row.driverId == 1 , lap_times_raw);"
   ]
  },
  {
   "cell_type": "code",
   "execution_count": null,
   "metadata": {},
   "outputs": [],
   "source": [
    "hamilton_race_1 = filter(row -> row.raceId == 841, hamilton);"
   ]
  },
  {
   "cell_type": "code",
   "execution_count": null,
   "metadata": {},
   "outputs": [],
   "source": [
    "using Plots \n",
    "gr()"
   ]
  },
  {
   "cell_type": "code",
   "execution_count": null,
   "metadata": {},
   "outputs": [],
   "source": [
    "histogram(hamilton_race_1.milliseconds, bins = 100);"
   ]
  },
  {
   "cell_type": "code",
   "execution_count": null,
   "metadata": {},
   "outputs": [],
   "source": [
    "hamilton_race_2 = filter(row -> row.raceId == 1015, hamilton);"
   ]
  },
  {
   "cell_type": "code",
   "execution_count": null,
   "metadata": {},
   "outputs": [],
   "source": [
    "#scatter(lap_times_raw.milliseconds, lap_times_raw.lap)"
   ]
  },
  {
   "cell_type": "code",
   "execution_count": null,
   "metadata": {},
   "outputs": [],
   "source": [
    "race1015 = filter(row -> row.raceId == 1015 , lap_times_raw);"
   ]
  },
  {
   "cell_type": "code",
   "execution_count": null,
   "metadata": {},
   "outputs": [],
   "source": [
    "using Statistics"
   ]
  },
  {
   "cell_type": "code",
   "execution_count": null,
   "metadata": {},
   "outputs": [],
   "source": [
    "function mean_groups(grouped_data)    \n",
    "    mean_times = Dict()\n",
    "    for (j, i) in enumerate(keys(grouped_data))\n",
    "        mean_ = mean(get(gd, i, nothing).milliseconds)\n",
    "        driver = get(gd, i, nothing).driverId[1]\n",
    "        mean_times[driver] = mean_  \n",
    "    end\n",
    "    return mean_times\n",
    "end"
   ]
  },
  {
   "cell_type": "code",
   "execution_count": null,
   "metadata": {},
   "outputs": [],
   "source": [
    "means = mean_groups(gd)"
   ]
  },
  {
   "cell_type": "code",
   "execution_count": null,
   "metadata": {},
   "outputs": [],
   "source": [
    "delete!(means, 844)"
   ]
  },
  {
   "cell_type": "code",
   "execution_count": null,
   "metadata": {},
   "outputs": [],
   "source": [
    "histogram(means, bin = 9)"
   ]
  },
  {
   "cell_type": "code",
   "execution_count": null,
   "metadata": {},
   "outputs": [],
   "source": [
    "drivers_raw = DataFrame(CSV.File(\"C:/Users/liber/Documents/GitHub/Portifolio/F1_dataset/drivers.csv\"));"
   ]
  },
  {
   "cell_type": "code",
   "execution_count": null,
   "metadata": {},
   "outputs": [],
   "source": [
    "function drivers_dict(data)\n",
    "    drivers = Dict()\n",
    "    for i in 1:nrow(drivers_raw)\n",
    "        ID = drivers_raw.driverId[i]\n",
    "        driver = drivers_raw.surname[i]\n",
    "        drivers[ID] = driver\n",
    "    end\n",
    "    return drivers\n",
    "end"
   ]
  },
  {
   "cell_type": "code",
   "execution_count": null,
   "metadata": {},
   "outputs": [],
   "source": [
    "nrow(drivers_raw)"
   ]
  },
  {
   "cell_type": "code",
   "execution_count": null,
   "metadata": {},
   "outputs": [],
   "source": [
    "drivers = drivers_dict(drivers_raw)"
   ]
  },
  {
   "cell_type": "code",
   "execution_count": null,
   "metadata": {},
   "outputs": [],
   "source": [
    "drivers[1]"
   ]
  },
  {
   "cell_type": "code",
   "execution_count": null,
   "metadata": {},
   "outputs": [],
   "source": [
    "names(lap_times_raw)"
   ]
  },
  {
   "cell_type": "code",
   "execution_count": null,
   "metadata": {},
   "outputs": [],
   "source": [
    "races = DataFrame(CSV.File(\"C:/Users/liber/Documents/GitHub/Portifolio/F1_dataset/races.csv\"));"
   ]
  },
  {
   "cell_type": "code",
   "execution_count": null,
   "metadata": {},
   "outputs": [],
   "source": [
    "first(races, 6)"
   ]
  },
  {
   "cell_type": "code",
   "execution_count": null,
   "metadata": {},
   "outputs": [],
   "source": [
    "function races_dict(data)\n",
    "    races_dictionary = Dict()\n",
    "    for i in 1:nrow(data)\n",
    "        ID = data.raceId[i]\n",
    "        year = data.year[i]\n",
    "        circuit = data.name[i]\n",
    "        races_dictionary[ID] = (year, circuit)\n",
    "    end\n",
    "    return races_dictionary\n",
    "end"
   ]
  },
  {
   "cell_type": "code",
   "execution_count": null,
   "metadata": {},
   "outputs": [],
   "source": [
    "race_dict = races_dict(races)"
   ]
  },
  {
   "cell_type": "code",
   "execution_count": null,
   "metadata": {},
   "outputs": [],
   "source": [
    "D = Dict('a'=>5, 'b'=>6)"
   ]
  },
  {
   "cell_type": "code",
   "execution_count": null,
   "metadata": {},
   "outputs": [],
   "source": [
    "depois_de_2013 = [i for (i, j) in race_dict if j[1]>2013]\n",
    "# filter(x -> x[1]> 2013, race_dict)"
   ]
  }
 ],
 "metadata": {
  "kernelspec": {
   "display_name": "Julia 1.7.2",
   "language": "julia",
   "name": "julia-1.7"
  },
  "language_info": {
   "file_extension": ".jl",
   "mimetype": "application/julia",
   "name": "julia",
   "version": "1.7.2"
  },
  "orig_nbformat": 4
 },
 "nbformat": 4,
 "nbformat_minor": 2
}
