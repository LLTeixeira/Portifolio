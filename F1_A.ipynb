{
 "cells": [
  {
   "cell_type": "code",
   "execution_count": null,
   "metadata": {},
   "outputs": [],
   "source": [
    "#using Pkg\n",
    "#Pkg.installed()"
   ]
  },
  {
   "cell_type": "code",
   "execution_count": 1,
   "metadata": {},
   "outputs": [],
   "source": [
    "using CSV\n",
    "using DataFrames"
   ]
  },
  {
   "cell_type": "code",
   "execution_count": 2,
   "metadata": {},
   "outputs": [],
   "source": [
    "lap_times_raw = DataFrame(CSV.File(\"C:/Users/liber/Documents/GitHub/Portifolio/F1_dataset/lap_times.csv\"));"
   ]
  },
  {
   "cell_type": "code",
   "execution_count": 14,
   "metadata": {},
   "outputs": [
    {
     "data": {
      "text/html": [
       "<div class=\"data-frame\"><p>138 rows × 2 columns</p><table class=\"data-frame\"><thead><tr><th></th><th>statusId</th><th>status</th></tr><tr><th></th><th title=\"Int64\">Int64</th><th title=\"String\">String</th></tr></thead><tbody><tr><th>1</th><td>1</td><td>Finished</td></tr><tr><th>2</th><td>2</td><td>Disqualified</td></tr><tr><th>3</th><td>3</td><td>Accident</td></tr><tr><th>4</th><td>4</td><td>Collision</td></tr><tr><th>5</th><td>5</td><td>Engine</td></tr><tr><th>6</th><td>6</td><td>Gearbox</td></tr><tr><th>7</th><td>7</td><td>Transmission</td></tr><tr><th>8</th><td>8</td><td>Clutch</td></tr><tr><th>9</th><td>9</td><td>Hydraulics</td></tr><tr><th>10</th><td>10</td><td>Electrical</td></tr><tr><th>11</th><td>11</td><td>+1 Lap</td></tr><tr><th>12</th><td>12</td><td>+2 Laps</td></tr><tr><th>13</th><td>13</td><td>+3 Laps</td></tr><tr><th>14</th><td>14</td><td>+4 Laps</td></tr><tr><th>15</th><td>15</td><td>+5 Laps</td></tr><tr><th>16</th><td>16</td><td>+6 Laps</td></tr><tr><th>17</th><td>17</td><td>+7 Laps</td></tr><tr><th>18</th><td>18</td><td>+8 Laps</td></tr><tr><th>19</th><td>19</td><td>+9 Laps</td></tr><tr><th>20</th><td>20</td><td>Spun off</td></tr><tr><th>21</th><td>21</td><td>Radiator</td></tr><tr><th>22</th><td>22</td><td>Suspension</td></tr><tr><th>23</th><td>23</td><td>Brakes</td></tr><tr><th>24</th><td>24</td><td>Differential</td></tr><tr><th>&vellip;</th><td>&vellip;</td><td>&vellip;</td></tr></tbody></table></div>"
      ],
      "text/latex": [
       "\\begin{tabular}{r|cc}\n",
       "\t& statusId & status\\\\\n",
       "\t\\hline\n",
       "\t& Int64 & String\\\\\n",
       "\t\\hline\n",
       "\t1 & 1 & Finished \\\\\n",
       "\t2 & 2 & Disqualified \\\\\n",
       "\t3 & 3 & Accident \\\\\n",
       "\t4 & 4 & Collision \\\\\n",
       "\t5 & 5 & Engine \\\\\n",
       "\t6 & 6 & Gearbox \\\\\n",
       "\t7 & 7 & Transmission \\\\\n",
       "\t8 & 8 & Clutch \\\\\n",
       "\t9 & 9 & Hydraulics \\\\\n",
       "\t10 & 10 & Electrical \\\\\n",
       "\t11 & 11 & +1 Lap \\\\\n",
       "\t12 & 12 & +2 Laps \\\\\n",
       "\t13 & 13 & +3 Laps \\\\\n",
       "\t14 & 14 & +4 Laps \\\\\n",
       "\t15 & 15 & +5 Laps \\\\\n",
       "\t16 & 16 & +6 Laps \\\\\n",
       "\t17 & 17 & +7 Laps \\\\\n",
       "\t18 & 18 & +8 Laps \\\\\n",
       "\t19 & 19 & +9 Laps \\\\\n",
       "\t20 & 20 & Spun off \\\\\n",
       "\t21 & 21 & Radiator \\\\\n",
       "\t22 & 22 & Suspension \\\\\n",
       "\t23 & 23 & Brakes \\\\\n",
       "\t24 & 24 & Differential \\\\\n",
       "\t$\\dots$ & $\\dots$ & $\\dots$ \\\\\n",
       "\\end{tabular}\n"
      ],
      "text/plain": [
       "\u001b[1m138×2 DataFrame\u001b[0m\n",
       "\u001b[1m Row \u001b[0m│\u001b[1m statusId \u001b[0m\u001b[1m status           \u001b[0m\n",
       "\u001b[1m     \u001b[0m│\u001b[90m Int64    \u001b[0m\u001b[90m String           \u001b[0m\n",
       "─────┼────────────────────────────\n",
       "   1 │        1  Finished\n",
       "   2 │        2  Disqualified\n",
       "   3 │        3  Accident\n",
       "   4 │        4  Collision\n",
       "   5 │        5  Engine\n",
       "   6 │        6  Gearbox\n",
       "   7 │        7  Transmission\n",
       "   8 │        8  Clutch\n",
       "  ⋮  │    ⋮             ⋮\n",
       " 132 │      134  +38 Laps\n",
       " 133 │      135  Brake duct\n",
       " 134 │      136  Seat\n",
       " 135 │      137  Damage\n",
       " 136 │      138  Debris\n",
       " 137 │      139  Illness\n",
       " 138 │      140  Undertray\n",
       "\u001b[36m                  123 rows omitted\u001b[0m"
      ]
     },
     "metadata": {},
     "output_type": "display_data"
    }
   ],
   "source": [
    "races = DataFrame(CSV.File(\"C:/Users/liber/Documents/GitHub/Portifolio/F1_dataset/races.csv\"));\n",
    "status = DataFrame(CSV.File(\"C:/Users/liber/Documents/GitHub/Portifolio/F1_dataset/status.csv\"))"
   ]
  },
  {
   "cell_type": "code",
   "execution_count": 4,
   "metadata": {},
   "outputs": [
    {
     "data": {
      "text/html": [
       "<div class=\"data-frame\"><p>297 rows × 5 columns</p><table class=\"data-frame\"><thead><tr><th></th><th>Race</th><th>Cause</th><th>Deployed</th><th>Retreated</th><th>FullLaps</th></tr><tr><th></th><th title=\"String\">String</th><th title=\"String\">String</th><th title=\"Int64\">Int64</th><th title=\"Union{Missing, Float64}\">Float64?</th><th title=\"Int64\">Int64</th></tr></thead><tbody><tr><th>1</th><td>1973 Canadian Grand Prix</td><td>Accident</td><td>33</td><td>39.0</td><td>5</td></tr><tr><th>2</th><td>1993 Brazilian Grand Prix</td><td>Accident/Rain</td><td>29</td><td>38.0</td><td>8</td></tr><tr><th>3</th><td>1993 British Grand Prix</td><td>Stranded car</td><td>38</td><td>40.0</td><td>1</td></tr><tr><th>4</th><td>1994 San Marino Grand Prix</td><td>Accident</td><td>1</td><td>6.0</td><td>4</td></tr><tr><th>5</th><td>1995 Belgian Grand Prix</td><td>Rain</td><td>28</td><td>33.0</td><td>4</td></tr><tr><th>6</th><td>1996 Argentine Grand Prix</td><td>Accident</td><td>28</td><td>33.0</td><td>4</td></tr><tr><th>7</th><td>1996 Belgian Grand Prix</td><td>Accident</td><td>13</td><td>18.0</td><td>4</td></tr><tr><th>8</th><td>1997 Argentine Grand Prix</td><td>Accident</td><td>1</td><td>6.0</td><td>4</td></tr><tr><th>9</th><td>1997 Belgian Grand Prix</td><td>Rain</td><td>1</td><td>4.0</td><td>3</td></tr><tr><th>10</th><td>1998 Canadian Grand Prix</td><td>Accident</td><td>1</td><td>6.0</td><td>4</td></tr><tr><th>11</th><td>1998 Canadian Grand Prix</td><td>Debris</td><td>15</td><td>18.0</td><td>2</td></tr><tr><th>12</th><td>1998 Canadian Grand Prix</td><td>Accident</td><td>20</td><td>22.0</td><td>1</td></tr><tr><th>13</th><td>1998 British Grand Prix</td><td>Rain</td><td>42</td><td>49.0</td><td>6</td></tr><tr><th>14</th><td>1998 Austrian Grand Prix</td><td>Two accidents</td><td>1</td><td>4.0</td><td>2</td></tr><tr><th>15</th><td>1998 Belgian Grand Prix</td><td>Accident</td><td>28</td><td>33.0</td><td>4</td></tr><tr><th>16</th><td>1999 Australian Grand Prix</td><td>Accident</td><td>15</td><td>17.0</td><td>1</td></tr><tr><th>17</th><td>1999 Australian Grand Prix</td><td>Accident</td><td>20</td><td>25.0</td><td>4</td></tr><tr><th>18</th><td>1999 Canadian Grand Prix</td><td>Accident</td><td>1</td><td>3.0</td><td>1</td></tr><tr><th>19</th><td>1999 Canadian Grand Prix</td><td>Accident</td><td>3</td><td>8.0</td><td>4</td></tr><tr><th>20</th><td>1999 Canadian Grand Prix</td><td>Accident</td><td>35</td><td>41.0</td><td>5</td></tr><tr><th>21</th><td>1999 Canadian Grand Prix</td><td>Accident</td><td>66</td><td><em>missing</em></td><td>3</td></tr><tr><th>22</th><td>1999 French Grand Prix</td><td>Stranded car/Rain</td><td>25</td><td>36.0</td><td>10</td></tr><tr><th>23</th><td>1999 European Grand Prix</td><td>Accident</td><td>1</td><td>6.0</td><td>4</td></tr><tr><th>24</th><td>2000 Australian Grand Prix</td><td>Accident</td><td>7</td><td>11.0</td><td>3</td></tr><tr><th>&vellip;</th><td>&vellip;</td><td>&vellip;</td><td>&vellip;</td><td>&vellip;</td><td>&vellip;</td></tr></tbody></table></div>"
      ],
      "text/latex": [
       "\\begin{tabular}{r|ccccc}\n",
       "\t& Race & Cause & Deployed & Retreated & FullLaps\\\\\n",
       "\t\\hline\n",
       "\t& String & String & Int64 & Float64? & Int64\\\\\n",
       "\t\\hline\n",
       "\t1 & 1973 Canadian Grand Prix & Accident & 33 & 39.0 & 5 \\\\\n",
       "\t2 & 1993 Brazilian Grand Prix & Accident/Rain & 29 & 38.0 & 8 \\\\\n",
       "\t3 & 1993 British Grand Prix & Stranded car & 38 & 40.0 & 1 \\\\\n",
       "\t4 & 1994 San Marino Grand Prix & Accident & 1 & 6.0 & 4 \\\\\n",
       "\t5 & 1995 Belgian Grand Prix & Rain & 28 & 33.0 & 4 \\\\\n",
       "\t6 & 1996 Argentine Grand Prix & Accident & 28 & 33.0 & 4 \\\\\n",
       "\t7 & 1996 Belgian Grand Prix & Accident & 13 & 18.0 & 4 \\\\\n",
       "\t8 & 1997 Argentine Grand Prix & Accident & 1 & 6.0 & 4 \\\\\n",
       "\t9 & 1997 Belgian Grand Prix & Rain & 1 & 4.0 & 3 \\\\\n",
       "\t10 & 1998 Canadian Grand Prix & Accident & 1 & 6.0 & 4 \\\\\n",
       "\t11 & 1998 Canadian Grand Prix & Debris & 15 & 18.0 & 2 \\\\\n",
       "\t12 & 1998 Canadian Grand Prix & Accident & 20 & 22.0 & 1 \\\\\n",
       "\t13 & 1998 British Grand Prix & Rain & 42 & 49.0 & 6 \\\\\n",
       "\t14 & 1998 Austrian Grand Prix & Two accidents & 1 & 4.0 & 2 \\\\\n",
       "\t15 & 1998 Belgian Grand Prix & Accident & 28 & 33.0 & 4 \\\\\n",
       "\t16 & 1999 Australian Grand Prix & Accident & 15 & 17.0 & 1 \\\\\n",
       "\t17 & 1999 Australian Grand Prix & Accident & 20 & 25.0 & 4 \\\\\n",
       "\t18 & 1999 Canadian Grand Prix & Accident & 1 & 3.0 & 1 \\\\\n",
       "\t19 & 1999 Canadian Grand Prix & Accident & 3 & 8.0 & 4 \\\\\n",
       "\t20 & 1999 Canadian Grand Prix & Accident & 35 & 41.0 & 5 \\\\\n",
       "\t21 & 1999 Canadian Grand Prix & Accident & 66 & \\emph{missing} & 3 \\\\\n",
       "\t22 & 1999 French Grand Prix & Stranded car/Rain & 25 & 36.0 & 10 \\\\\n",
       "\t23 & 1999 European Grand Prix & Accident & 1 & 6.0 & 4 \\\\\n",
       "\t24 & 2000 Australian Grand Prix & Accident & 7 & 11.0 & 3 \\\\\n",
       "\t$\\dots$ & $\\dots$ & $\\dots$ & $\\dots$ & $\\dots$ & $\\dots$ \\\\\n",
       "\\end{tabular}\n"
      ],
      "text/plain": [
       "\u001b[1m297×5 DataFrame\u001b[0m\n",
       "\u001b[1m Row \u001b[0m│\u001b[1m Race                           \u001b[0m\u001b[1m Cause         \u001b[0m\u001b[1m Deployed \u001b[0m\u001b[1m Retreated \u001b[0m\u001b[1m Ful\u001b[0m ⋯\n",
       "\u001b[1m     \u001b[0m│\u001b[90m String                         \u001b[0m\u001b[90m String        \u001b[0m\u001b[90m Int64    \u001b[0m\u001b[90m Float64?  \u001b[0m\u001b[90m Int\u001b[0m ⋯\n",
       "─────┼──────────────────────────────────────────────────────────────────────────\n",
       "   1 │ 1973 Canadian Grand Prix        Accident             33       39.0      ⋯\n",
       "   2 │ 1993 Brazilian Grand Prix       Accident/Rain        29       38.0\n",
       "   3 │ 1993 British Grand Prix         Stranded car         38       40.0\n",
       "   4 │ 1994 San Marino Grand Prix      Accident              1        6.0\n",
       "   5 │ 1995 Belgian Grand Prix         Rain                 28       33.0      ⋯\n",
       "   6 │ 1996 Argentine Grand Prix       Accident             28       33.0\n",
       "   7 │ 1996 Belgian Grand Prix         Accident             13       18.0\n",
       "   8 │ 1997 Argentine Grand Prix       Accident              1        6.0\n",
       "  ⋮  │               ⋮                       ⋮           ⋮          ⋮          ⋱\n",
       " 291 │ 2022 Australian Grand Prix      Stranded car         24       27.0      ⋯\n",
       " 292 │ 2022 Emilia Romagna Grand Prix  Stranded car          1        5.0\n",
       " 293 │ 2022 Miami Grand Prix           Stranded car         40       47.0\n",
       " 294 │ 2022 Monaco Grand Prix          Rain                  1        3.0\n",
       " 295 │ 2022 Monaco Grand Prix          Stranded car         27       33.0      ⋯\n",
       " 296 │ 2022 Canadian Grand Prix        Stranded car         49       55.0\n",
       " 297 │ 2022 British Grand Prix         Stranded car         39       43.0\n",
       "\u001b[36m                                                   1 column and 282 rows omitted\u001b[0m"
      ]
     },
     "metadata": {},
     "output_type": "display_data"
    }
   ],
   "source": [
    "sc = DataFrame(CSV.File(\"C:/Users/liber/Documents/GitHub/Portifolio/F1_dataset/safety_cars.csv\"))"
   ]
  },
  {
   "cell_type": "code",
   "execution_count": 15,
   "metadata": {},
   "outputs": [
    {
     "data": {
      "text/html": [
       "<div class=\"data-frame\"><p>526,450 rows × 22 columns (omitted printing of 13 columns)</p><table class=\"data-frame\"><thead><tr><th></th><th>raceId</th><th>driverId</th><th>lap</th><th>position</th><th>time</th><th>milliseconds</th><th>year</th><th>round</th><th>circuitId</th></tr><tr><th></th><th title=\"Int64\">Int64</th><th title=\"Int64\">Int64</th><th title=\"Int64\">Int64</th><th title=\"Int64\">Int64</th><th title=\"String\">String</th><th title=\"Int64\">Int64</th><th title=\"Int64\">Int64</th><th title=\"Int64\">Int64</th><th title=\"Int64\">Int64</th></tr></thead><tbody><tr><th>1</th><td>841</td><td>20</td><td>1</td><td>1</td><td>1:38.109</td><td>98109</td><td>2011</td><td>1</td><td>1</td></tr><tr><th>2</th><td>841</td><td>20</td><td>2</td><td>1</td><td>1:33.006</td><td>93006</td><td>2011</td><td>1</td><td>1</td></tr><tr><th>3</th><td>841</td><td>20</td><td>3</td><td>1</td><td>1:32.713</td><td>92713</td><td>2011</td><td>1</td><td>1</td></tr><tr><th>4</th><td>841</td><td>20</td><td>4</td><td>1</td><td>1:32.803</td><td>92803</td><td>2011</td><td>1</td><td>1</td></tr><tr><th>5</th><td>841</td><td>20</td><td>5</td><td>1</td><td>1:32.342</td><td>92342</td><td>2011</td><td>1</td><td>1</td></tr><tr><th>6</th><td>841</td><td>20</td><td>6</td><td>1</td><td>1:32.605</td><td>92605</td><td>2011</td><td>1</td><td>1</td></tr><tr><th>7</th><td>841</td><td>20</td><td>7</td><td>1</td><td>1:32.502</td><td>92502</td><td>2011</td><td>1</td><td>1</td></tr><tr><th>8</th><td>841</td><td>20</td><td>8</td><td>1</td><td>1:32.537</td><td>92537</td><td>2011</td><td>1</td><td>1</td></tr><tr><th>9</th><td>841</td><td>20</td><td>9</td><td>1</td><td>1:33.240</td><td>93240</td><td>2011</td><td>1</td><td>1</td></tr><tr><th>10</th><td>841</td><td>20</td><td>10</td><td>1</td><td>1:32.572</td><td>92572</td><td>2011</td><td>1</td><td>1</td></tr><tr><th>11</th><td>841</td><td>20</td><td>11</td><td>1</td><td>1:32.669</td><td>92669</td><td>2011</td><td>1</td><td>1</td></tr><tr><th>12</th><td>841</td><td>20</td><td>12</td><td>1</td><td>1:32.902</td><td>92902</td><td>2011</td><td>1</td><td>1</td></tr><tr><th>13</th><td>841</td><td>20</td><td>13</td><td>1</td><td>1:33.698</td><td>93698</td><td>2011</td><td>1</td><td>1</td></tr><tr><th>14</th><td>841</td><td>20</td><td>14</td><td>3</td><td>1:52.075</td><td>112075</td><td>2011</td><td>1</td><td>1</td></tr><tr><th>15</th><td>841</td><td>20</td><td>15</td><td>4</td><td>1:38.385</td><td>98385</td><td>2011</td><td>1</td><td>1</td></tr><tr><th>16</th><td>841</td><td>20</td><td>16</td><td>2</td><td>1:31.548</td><td>91548</td><td>2011</td><td>1</td><td>1</td></tr><tr><th>17</th><td>841</td><td>20</td><td>17</td><td>1</td><td>1:30.800</td><td>90800</td><td>2011</td><td>1</td><td>1</td></tr><tr><th>18</th><td>841</td><td>20</td><td>18</td><td>1</td><td>1:31.810</td><td>91810</td><td>2011</td><td>1</td><td>1</td></tr><tr><th>19</th><td>841</td><td>20</td><td>19</td><td>1</td><td>1:31.018</td><td>91018</td><td>2011</td><td>1</td><td>1</td></tr><tr><th>20</th><td>841</td><td>20</td><td>20</td><td>1</td><td>1:31.055</td><td>91055</td><td>2011</td><td>1</td><td>1</td></tr><tr><th>21</th><td>841</td><td>20</td><td>21</td><td>1</td><td>1:31.288</td><td>91288</td><td>2011</td><td>1</td><td>1</td></tr><tr><th>22</th><td>841</td><td>20</td><td>22</td><td>1</td><td>1:31.084</td><td>91084</td><td>2011</td><td>1</td><td>1</td></tr><tr><th>23</th><td>841</td><td>20</td><td>23</td><td>1</td><td>1:30.875</td><td>90875</td><td>2011</td><td>1</td><td>1</td></tr><tr><th>24</th><td>841</td><td>20</td><td>24</td><td>1</td><td>1:32.240</td><td>92240</td><td>2011</td><td>1</td><td>1</td></tr><tr><th>&vellip;</th><td>&vellip;</td><td>&vellip;</td><td>&vellip;</td><td>&vellip;</td><td>&vellip;</td><td>&vellip;</td><td>&vellip;</td><td>&vellip;</td><td>&vellip;</td></tr></tbody></table></div>"
      ],
      "text/latex": [
       "\\begin{tabular}{r|cccccccccc}\n",
       "\t& raceId & driverId & lap & position & time & milliseconds & year & round & circuitId & \\\\\n",
       "\t\\hline\n",
       "\t& Int64 & Int64 & Int64 & Int64 & String & Int64 & Int64 & Int64 & Int64 & \\\\\n",
       "\t\\hline\n",
       "\t1 & 841 & 20 & 1 & 1 & 1:38.109 & 98109 & 2011 & 1 & 1 & $\\dots$ \\\\\n",
       "\t2 & 841 & 20 & 2 & 1 & 1:33.006 & 93006 & 2011 & 1 & 1 & $\\dots$ \\\\\n",
       "\t3 & 841 & 20 & 3 & 1 & 1:32.713 & 92713 & 2011 & 1 & 1 & $\\dots$ \\\\\n",
       "\t4 & 841 & 20 & 4 & 1 & 1:32.803 & 92803 & 2011 & 1 & 1 & $\\dots$ \\\\\n",
       "\t5 & 841 & 20 & 5 & 1 & 1:32.342 & 92342 & 2011 & 1 & 1 & $\\dots$ \\\\\n",
       "\t6 & 841 & 20 & 6 & 1 & 1:32.605 & 92605 & 2011 & 1 & 1 & $\\dots$ \\\\\n",
       "\t7 & 841 & 20 & 7 & 1 & 1:32.502 & 92502 & 2011 & 1 & 1 & $\\dots$ \\\\\n",
       "\t8 & 841 & 20 & 8 & 1 & 1:32.537 & 92537 & 2011 & 1 & 1 & $\\dots$ \\\\\n",
       "\t9 & 841 & 20 & 9 & 1 & 1:33.240 & 93240 & 2011 & 1 & 1 & $\\dots$ \\\\\n",
       "\t10 & 841 & 20 & 10 & 1 & 1:32.572 & 92572 & 2011 & 1 & 1 & $\\dots$ \\\\\n",
       "\t11 & 841 & 20 & 11 & 1 & 1:32.669 & 92669 & 2011 & 1 & 1 & $\\dots$ \\\\\n",
       "\t12 & 841 & 20 & 12 & 1 & 1:32.902 & 92902 & 2011 & 1 & 1 & $\\dots$ \\\\\n",
       "\t13 & 841 & 20 & 13 & 1 & 1:33.698 & 93698 & 2011 & 1 & 1 & $\\dots$ \\\\\n",
       "\t14 & 841 & 20 & 14 & 3 & 1:52.075 & 112075 & 2011 & 1 & 1 & $\\dots$ \\\\\n",
       "\t15 & 841 & 20 & 15 & 4 & 1:38.385 & 98385 & 2011 & 1 & 1 & $\\dots$ \\\\\n",
       "\t16 & 841 & 20 & 16 & 2 & 1:31.548 & 91548 & 2011 & 1 & 1 & $\\dots$ \\\\\n",
       "\t17 & 841 & 20 & 17 & 1 & 1:30.800 & 90800 & 2011 & 1 & 1 & $\\dots$ \\\\\n",
       "\t18 & 841 & 20 & 18 & 1 & 1:31.810 & 91810 & 2011 & 1 & 1 & $\\dots$ \\\\\n",
       "\t19 & 841 & 20 & 19 & 1 & 1:31.018 & 91018 & 2011 & 1 & 1 & $\\dots$ \\\\\n",
       "\t20 & 841 & 20 & 20 & 1 & 1:31.055 & 91055 & 2011 & 1 & 1 & $\\dots$ \\\\\n",
       "\t21 & 841 & 20 & 21 & 1 & 1:31.288 & 91288 & 2011 & 1 & 1 & $\\dots$ \\\\\n",
       "\t22 & 841 & 20 & 22 & 1 & 1:31.084 & 91084 & 2011 & 1 & 1 & $\\dots$ \\\\\n",
       "\t23 & 841 & 20 & 23 & 1 & 1:30.875 & 90875 & 2011 & 1 & 1 & $\\dots$ \\\\\n",
       "\t24 & 841 & 20 & 24 & 1 & 1:32.240 & 92240 & 2011 & 1 & 1 & $\\dots$ \\\\\n",
       "\t$\\dots$ & $\\dots$ & $\\dots$ & $\\dots$ & $\\dots$ & $\\dots$ & $\\dots$ & $\\dots$ & $\\dots$ & $\\dots$ &  \\\\\n",
       "\\end{tabular}\n"
      ],
      "text/plain": [
       "\u001b[1m526450×22 DataFrame\u001b[0m\n",
       "\u001b[1m    Row \u001b[0m│\u001b[1m raceId \u001b[0m\u001b[1m driverId \u001b[0m\u001b[1m lap   \u001b[0m\u001b[1m position \u001b[0m\u001b[1m time     \u001b[0m\u001b[1m milliseconds \u001b[0m\u001b[1m year  \u001b[0m\u001b[1m ro\u001b[0m ⋯\n",
       "\u001b[1m        \u001b[0m│\u001b[90m Int64  \u001b[0m\u001b[90m Int64    \u001b[0m\u001b[90m Int64 \u001b[0m\u001b[90m Int64    \u001b[0m\u001b[90m String   \u001b[0m\u001b[90m Int64        \u001b[0m\u001b[90m Int64 \u001b[0m\u001b[90m In\u001b[0m ⋯\n",
       "────────┼───────────────────────────────────────────────────────────────────────\n",
       "      1 │    841        20      1         1  1:38.109         98109   2011     ⋯\n",
       "      2 │    841        20      2         1  1:33.006         93006   2011\n",
       "      3 │    841        20      3         1  1:32.713         92713   2011\n",
       "      4 │    841        20      4         1  1:32.803         92803   2011\n",
       "      5 │    841        20      5         1  1:32.342         92342   2011     ⋯\n",
       "      6 │    841        20      6         1  1:32.605         92605   2011\n",
       "      7 │    841        20      7         1  1:32.502         92502   2011\n",
       "      8 │    841        20      8         1  1:32.537         92537   2011\n",
       "   ⋮    │   ⋮        ⋮        ⋮       ⋮         ⋮           ⋮          ⋮       ⋱\n",
       " 526444 │   1084       815     18        20  1:12.880         72880   2022     ⋯\n",
       " 526445 │   1084       815     19        20  1:12.977         72977   2022\n",
       " 526446 │   1084       815     20        20  1:12.934         72934   2022\n",
       " 526447 │   1084       815     21        20  1:13.071         73071   2022\n",
       " 526448 │   1084       815     22        20  1:13.540         73540   2022     ⋯\n",
       " 526449 │   1084       815     23        20  1:14.844         74844   2022\n",
       " 526450 │   1084       815     24        20  1:18.175         78175   2022\n",
       "\u001b[36m                                              15 columns and 526435 rows omitted\u001b[0m"
      ]
     },
     "metadata": {},
     "output_type": "display_data"
    }
   ],
   "source": [
    "races_period = races[2018 .<= races.year .<= 2021, :]\n",
    "races = select(races, Not(:time));\n",
    "dados = innerjoin(lap_times_raw, races, on = :raceId)"
   ]
  },
  {
   "cell_type": "code",
   "execution_count": 17,
   "metadata": {},
   "outputs": [
    {
     "data": {
      "text/html": [
       "<div class=\"data-frame\"><p>25,620 rows × 18 columns (omitted printing of 10 columns)</p><table class=\"data-frame\"><thead><tr><th></th><th>resultId</th><th>raceId</th><th>driverId</th><th>constructorId</th><th>number</th><th>grid</th><th>position</th><th>positionText</th></tr><tr><th></th><th title=\"Int64\">Int64</th><th title=\"Int64\">Int64</th><th title=\"Int64\">Int64</th><th title=\"Int64\">Int64</th><th title=\"String\">String</th><th title=\"Int64\">Int64</th><th title=\"String\">String</th><th title=\"String\">String</th></tr></thead><tbody><tr><th>1</th><td>1</td><td>18</td><td>1</td><td>1</td><td>22</td><td>1</td><td>1</td><td>1</td></tr><tr><th>2</th><td>2</td><td>18</td><td>2</td><td>2</td><td>3</td><td>5</td><td>2</td><td>2</td></tr><tr><th>3</th><td>3</td><td>18</td><td>3</td><td>3</td><td>7</td><td>7</td><td>3</td><td>3</td></tr><tr><th>4</th><td>4</td><td>18</td><td>4</td><td>4</td><td>5</td><td>11</td><td>4</td><td>4</td></tr><tr><th>5</th><td>5</td><td>18</td><td>5</td><td>1</td><td>23</td><td>3</td><td>5</td><td>5</td></tr><tr><th>6</th><td>6</td><td>18</td><td>6</td><td>3</td><td>8</td><td>13</td><td>6</td><td>6</td></tr><tr><th>7</th><td>7</td><td>18</td><td>7</td><td>5</td><td>14</td><td>17</td><td>7</td><td>7</td></tr><tr><th>8</th><td>8</td><td>18</td><td>8</td><td>6</td><td>1</td><td>15</td><td>8</td><td>8</td></tr><tr><th>9</th><td>9</td><td>18</td><td>9</td><td>2</td><td>4</td><td>2</td><td>\\\\N</td><td>R</td></tr><tr><th>10</th><td>10</td><td>18</td><td>10</td><td>7</td><td>12</td><td>18</td><td>\\\\N</td><td>R</td></tr><tr><th>11</th><td>11</td><td>18</td><td>11</td><td>8</td><td>18</td><td>19</td><td>\\\\N</td><td>R</td></tr><tr><th>12</th><td>12</td><td>18</td><td>12</td><td>4</td><td>6</td><td>20</td><td>\\\\N</td><td>R</td></tr><tr><th>13</th><td>13</td><td>18</td><td>13</td><td>6</td><td>2</td><td>4</td><td>\\\\N</td><td>R</td></tr><tr><th>14</th><td>14</td><td>18</td><td>14</td><td>9</td><td>9</td><td>8</td><td>\\\\N</td><td>R</td></tr><tr><th>15</th><td>15</td><td>18</td><td>15</td><td>7</td><td>11</td><td>6</td><td>\\\\N</td><td>R</td></tr><tr><th>16</th><td>16</td><td>18</td><td>16</td><td>10</td><td>20</td><td>22</td><td>\\\\N</td><td>R</td></tr><tr><th>17</th><td>17</td><td>18</td><td>17</td><td>9</td><td>10</td><td>14</td><td>\\\\N</td><td>R</td></tr><tr><th>18</th><td>18</td><td>18</td><td>18</td><td>11</td><td>16</td><td>12</td><td>\\\\N</td><td>R</td></tr><tr><th>19</th><td>19</td><td>18</td><td>19</td><td>8</td><td>19</td><td>21</td><td>\\\\N</td><td>R</td></tr><tr><th>20</th><td>20</td><td>18</td><td>20</td><td>5</td><td>15</td><td>9</td><td>\\\\N</td><td>R</td></tr><tr><th>21</th><td>21</td><td>18</td><td>21</td><td>10</td><td>21</td><td>16</td><td>\\\\N</td><td>R</td></tr><tr><th>22</th><td>22</td><td>18</td><td>22</td><td>11</td><td>17</td><td>10</td><td>\\\\N</td><td>D</td></tr><tr><th>23</th><td>23</td><td>19</td><td>8</td><td>6</td><td>1</td><td>2</td><td>1</td><td>1</td></tr><tr><th>24</th><td>24</td><td>19</td><td>9</td><td>2</td><td>4</td><td>4</td><td>2</td><td>2</td></tr><tr><th>&vellip;</th><td>&vellip;</td><td>&vellip;</td><td>&vellip;</td><td>&vellip;</td><td>&vellip;</td><td>&vellip;</td><td>&vellip;</td><td>&vellip;</td></tr></tbody></table></div>"
      ],
      "text/latex": [
       "\\begin{tabular}{r|ccccccccc}\n",
       "\t& resultId & raceId & driverId & constructorId & number & grid & position & positionText & \\\\\n",
       "\t\\hline\n",
       "\t& Int64 & Int64 & Int64 & Int64 & String & Int64 & String & String & \\\\\n",
       "\t\\hline\n",
       "\t1 & 1 & 18 & 1 & 1 & 22 & 1 & 1 & 1 & $\\dots$ \\\\\n",
       "\t2 & 2 & 18 & 2 & 2 & 3 & 5 & 2 & 2 & $\\dots$ \\\\\n",
       "\t3 & 3 & 18 & 3 & 3 & 7 & 7 & 3 & 3 & $\\dots$ \\\\\n",
       "\t4 & 4 & 18 & 4 & 4 & 5 & 11 & 4 & 4 & $\\dots$ \\\\\n",
       "\t5 & 5 & 18 & 5 & 1 & 23 & 3 & 5 & 5 & $\\dots$ \\\\\n",
       "\t6 & 6 & 18 & 6 & 3 & 8 & 13 & 6 & 6 & $\\dots$ \\\\\n",
       "\t7 & 7 & 18 & 7 & 5 & 14 & 17 & 7 & 7 & $\\dots$ \\\\\n",
       "\t8 & 8 & 18 & 8 & 6 & 1 & 15 & 8 & 8 & $\\dots$ \\\\\n",
       "\t9 & 9 & 18 & 9 & 2 & 4 & 2 & \\textbackslash{}\\textbackslash{}N & R & $\\dots$ \\\\\n",
       "\t10 & 10 & 18 & 10 & 7 & 12 & 18 & \\textbackslash{}\\textbackslash{}N & R & $\\dots$ \\\\\n",
       "\t11 & 11 & 18 & 11 & 8 & 18 & 19 & \\textbackslash{}\\textbackslash{}N & R & $\\dots$ \\\\\n",
       "\t12 & 12 & 18 & 12 & 4 & 6 & 20 & \\textbackslash{}\\textbackslash{}N & R & $\\dots$ \\\\\n",
       "\t13 & 13 & 18 & 13 & 6 & 2 & 4 & \\textbackslash{}\\textbackslash{}N & R & $\\dots$ \\\\\n",
       "\t14 & 14 & 18 & 14 & 9 & 9 & 8 & \\textbackslash{}\\textbackslash{}N & R & $\\dots$ \\\\\n",
       "\t15 & 15 & 18 & 15 & 7 & 11 & 6 & \\textbackslash{}\\textbackslash{}N & R & $\\dots$ \\\\\n",
       "\t16 & 16 & 18 & 16 & 10 & 20 & 22 & \\textbackslash{}\\textbackslash{}N & R & $\\dots$ \\\\\n",
       "\t17 & 17 & 18 & 17 & 9 & 10 & 14 & \\textbackslash{}\\textbackslash{}N & R & $\\dots$ \\\\\n",
       "\t18 & 18 & 18 & 18 & 11 & 16 & 12 & \\textbackslash{}\\textbackslash{}N & R & $\\dots$ \\\\\n",
       "\t19 & 19 & 18 & 19 & 8 & 19 & 21 & \\textbackslash{}\\textbackslash{}N & R & $\\dots$ \\\\\n",
       "\t20 & 20 & 18 & 20 & 5 & 15 & 9 & \\textbackslash{}\\textbackslash{}N & R & $\\dots$ \\\\\n",
       "\t21 & 21 & 18 & 21 & 10 & 21 & 16 & \\textbackslash{}\\textbackslash{}N & R & $\\dots$ \\\\\n",
       "\t22 & 22 & 18 & 22 & 11 & 17 & 10 & \\textbackslash{}\\textbackslash{}N & D & $\\dots$ \\\\\n",
       "\t23 & 23 & 19 & 8 & 6 & 1 & 2 & 1 & 1 & $\\dots$ \\\\\n",
       "\t24 & 24 & 19 & 9 & 2 & 4 & 4 & 2 & 2 & $\\dots$ \\\\\n",
       "\t$\\dots$ & $\\dots$ & $\\dots$ & $\\dots$ & $\\dots$ & $\\dots$ & $\\dots$ & $\\dots$ & $\\dots$ &  \\\\\n",
       "\\end{tabular}\n"
      ],
      "text/plain": [
       "\u001b[1m25620×18 DataFrame\u001b[0m\n",
       "\u001b[1m   Row \u001b[0m│\u001b[1m resultId \u001b[0m\u001b[1m raceId \u001b[0m\u001b[1m driverId \u001b[0m\u001b[1m constructorId \u001b[0m\u001b[1m number \u001b[0m\u001b[1m grid  \u001b[0m\u001b[1m position \u001b[0m\u001b[1m p\u001b[0m ⋯\n",
       "\u001b[1m       \u001b[0m│\u001b[90m Int64    \u001b[0m\u001b[90m Int64  \u001b[0m\u001b[90m Int64    \u001b[0m\u001b[90m Int64         \u001b[0m\u001b[90m String \u001b[0m\u001b[90m Int64 \u001b[0m\u001b[90m String   \u001b[0m\u001b[90m S\u001b[0m ⋯\n",
       "───────┼────────────────────────────────────────────────────────────────────────\n",
       "     1 │        1      18         1              1  22          1  1         1 ⋯\n",
       "     2 │        2      18         2              2  3           5  2         2\n",
       "     3 │        3      18         3              3  7           7  3         3\n",
       "     4 │        4      18         4              4  5          11  4         4\n",
       "     5 │        5      18         5              1  23          3  5         5 ⋯\n",
       "     6 │        6      18         6              3  8          13  6         6\n",
       "     7 │        7      18         7              5  14         17  7         7\n",
       "     8 │        8      18         8              6  1          15  8         8\n",
       "   ⋮   │    ⋮        ⋮        ⋮            ⋮          ⋮       ⋮       ⋮        ⋱\n",
       " 25614 │    25619    1084       855             51  24         18  14        1 ⋯\n",
       " 25615 │    25620    1084       842            213  10         10  15        1\n",
       " 25616 │    25621    1084       852            213  22         14  16        1\n",
       " 25617 │    25622    1084        20            117  5          20  17        1\n",
       " 25618 │    25623    1084       832              6  55          3  \\\\N       R ⋯\n",
       " 25619 │    25624    1084       849              3  6          19  \\\\N       R\n",
       " 25620 │    25625    1084       815              9  11         13  \\\\N       R\n",
       "\u001b[36m                                               11 columns and 25605 rows omitted\u001b[0m"
      ]
     },
     "metadata": {},
     "output_type": "display_data"
    }
   ],
   "source": [
    "results = DataFrame(CSV.File(\"C:/Users/liber/Documents/GitHub/Portifolio/F1_dataset/results.csv\"))\n",
    "#results = results[:, [:resultId, :raceId, :driverId]]"
   ]
  },
  {
   "cell_type": "code",
   "execution_count": null,
   "metadata": {},
   "outputs": [],
   "source": []
  },
  {
   "cell_type": "code",
   "execution_count": 31,
   "metadata": {},
   "outputs": [
    {
     "data": {
      "text/plain": [
       "\"C:/Users/liber/Desktop/Stats/3o Semestre/Pacotes/voltas_HAM\""
      ]
     },
     "metadata": {},
     "output_type": "display_data"
    }
   ],
   "source": [
    "voltas_HAM = dados[dados.driverId .== 1, :]\n",
    "CSV.write(\"C:/Users/liber/Desktop/Stats/3o Semestre/Pacotes/voltas_HAM\", voltas_HAM)"
   ]
  },
  {
   "cell_type": "code",
   "execution_count": 18,
   "metadata": {},
   "outputs": [
    {
     "data": {
      "text/html": [
       "<div class=\"data-frame\"><p>854 rows × 9 columns (omitted printing of 2 columns)</p><table class=\"data-frame\"><thead><tr><th></th><th>driverId</th><th>driverRef</th><th>number</th><th>code</th><th>forename</th><th>surname</th><th>dob</th></tr><tr><th></th><th title=\"Int64\">Int64</th><th title=\"String\">String</th><th title=\"String\">String</th><th title=\"String\">String</th><th title=\"String\">String</th><th title=\"String\">String</th><th title=\"Dates.Date\">Date</th></tr></thead><tbody><tr><th>1</th><td>1</td><td>hamilton</td><td>44</td><td>HAM</td><td>Lewis</td><td>Hamilton</td><td>1985-01-07</td></tr><tr><th>2</th><td>2</td><td>heidfeld</td><td>\\\\N</td><td>HEI</td><td>Nick</td><td>Heidfeld</td><td>1977-05-10</td></tr><tr><th>3</th><td>3</td><td>rosberg</td><td>6</td><td>ROS</td><td>Nico</td><td>Rosberg</td><td>1985-06-27</td></tr><tr><th>4</th><td>4</td><td>alonso</td><td>14</td><td>ALO</td><td>Fernando</td><td>Alonso</td><td>1981-07-29</td></tr><tr><th>5</th><td>5</td><td>kovalainen</td><td>\\\\N</td><td>KOV</td><td>Heikki</td><td>Kovalainen</td><td>1981-10-19</td></tr><tr><th>6</th><td>6</td><td>nakajima</td><td>\\\\N</td><td>NAK</td><td>Kazuki</td><td>Nakajima</td><td>1985-01-11</td></tr><tr><th>7</th><td>7</td><td>bourdais</td><td>\\\\N</td><td>BOU</td><td>Sébastien</td><td>Bourdais</td><td>1979-02-28</td></tr><tr><th>8</th><td>8</td><td>raikkonen</td><td>7</td><td>RAI</td><td>Kimi</td><td>Räikkönen</td><td>1979-10-17</td></tr><tr><th>9</th><td>9</td><td>kubica</td><td>88</td><td>KUB</td><td>Robert</td><td>Kubica</td><td>1984-12-07</td></tr><tr><th>10</th><td>10</td><td>glock</td><td>\\\\N</td><td>GLO</td><td>Timo</td><td>Glock</td><td>1982-03-18</td></tr><tr><th>11</th><td>11</td><td>sato</td><td>\\\\N</td><td>SAT</td><td>Takuma</td><td>Sato</td><td>1977-01-28</td></tr><tr><th>12</th><td>12</td><td>piquet_jr</td><td>\\\\N</td><td>PIQ</td><td>Nelson</td><td>Piquet Jr.</td><td>1985-07-25</td></tr><tr><th>13</th><td>13</td><td>massa</td><td>19</td><td>MAS</td><td>Felipe</td><td>Massa</td><td>1981-04-25</td></tr><tr><th>14</th><td>14</td><td>coulthard</td><td>\\\\N</td><td>COU</td><td>David</td><td>Coulthard</td><td>1971-03-27</td></tr><tr><th>15</th><td>15</td><td>trulli</td><td>\\\\N</td><td>TRU</td><td>Jarno</td><td>Trulli</td><td>1974-07-13</td></tr><tr><th>16</th><td>16</td><td>sutil</td><td>99</td><td>SUT</td><td>Adrian</td><td>Sutil</td><td>1983-01-11</td></tr><tr><th>17</th><td>17</td><td>webber</td><td>\\\\N</td><td>WEB</td><td>Mark</td><td>Webber</td><td>1976-08-27</td></tr><tr><th>18</th><td>18</td><td>button</td><td>22</td><td>BUT</td><td>Jenson</td><td>Button</td><td>1980-01-19</td></tr><tr><th>19</th><td>19</td><td>davidson</td><td>\\\\N</td><td>DAV</td><td>Anthony</td><td>Davidson</td><td>1979-04-18</td></tr><tr><th>20</th><td>20</td><td>vettel</td><td>5</td><td>VET</td><td>Sebastian</td><td>Vettel</td><td>1987-07-03</td></tr><tr><th>21</th><td>21</td><td>fisichella</td><td>\\\\N</td><td>FIS</td><td>Giancarlo</td><td>Fisichella</td><td>1973-01-14</td></tr><tr><th>22</th><td>22</td><td>barrichello</td><td>\\\\N</td><td>BAR</td><td>Rubens</td><td>Barrichello</td><td>1972-05-23</td></tr><tr><th>23</th><td>23</td><td>ralf_schumacher</td><td>\\\\N</td><td>SCH</td><td>Ralf</td><td>Schumacher</td><td>1975-06-30</td></tr><tr><th>24</th><td>24</td><td>liuzzi</td><td>\\\\N</td><td>LIU</td><td>Vitantonio</td><td>Liuzzi</td><td>1980-08-06</td></tr><tr><th>&vellip;</th><td>&vellip;</td><td>&vellip;</td><td>&vellip;</td><td>&vellip;</td><td>&vellip;</td><td>&vellip;</td><td>&vellip;</td></tr></tbody></table></div>"
      ],
      "text/latex": [
       "\\begin{tabular}{r|cccccccc}\n",
       "\t& driverId & driverRef & number & code & forename & surname & dob & \\\\\n",
       "\t\\hline\n",
       "\t& Int64 & String & String & String & String & String & Date & \\\\\n",
       "\t\\hline\n",
       "\t1 & 1 & hamilton & 44 & HAM & Lewis & Hamilton & 1985-01-07 & $\\dots$ \\\\\n",
       "\t2 & 2 & heidfeld & \\textbackslash{}\\textbackslash{}N & HEI & Nick & Heidfeld & 1977-05-10 & $\\dots$ \\\\\n",
       "\t3 & 3 & rosberg & 6 & ROS & Nico & Rosberg & 1985-06-27 & $\\dots$ \\\\\n",
       "\t4 & 4 & alonso & 14 & ALO & Fernando & Alonso & 1981-07-29 & $\\dots$ \\\\\n",
       "\t5 & 5 & kovalainen & \\textbackslash{}\\textbackslash{}N & KOV & Heikki & Kovalainen & 1981-10-19 & $\\dots$ \\\\\n",
       "\t6 & 6 & nakajima & \\textbackslash{}\\textbackslash{}N & NAK & Kazuki & Nakajima & 1985-01-11 & $\\dots$ \\\\\n",
       "\t7 & 7 & bourdais & \\textbackslash{}\\textbackslash{}N & BOU & Sébastien & Bourdais & 1979-02-28 & $\\dots$ \\\\\n",
       "\t8 & 8 & raikkonen & 7 & RAI & Kimi & Räikkönen & 1979-10-17 & $\\dots$ \\\\\n",
       "\t9 & 9 & kubica & 88 & KUB & Robert & Kubica & 1984-12-07 & $\\dots$ \\\\\n",
       "\t10 & 10 & glock & \\textbackslash{}\\textbackslash{}N & GLO & Timo & Glock & 1982-03-18 & $\\dots$ \\\\\n",
       "\t11 & 11 & sato & \\textbackslash{}\\textbackslash{}N & SAT & Takuma & Sato & 1977-01-28 & $\\dots$ \\\\\n",
       "\t12 & 12 & piquet\\_jr & \\textbackslash{}\\textbackslash{}N & PIQ & Nelson & Piquet Jr. & 1985-07-25 & $\\dots$ \\\\\n",
       "\t13 & 13 & massa & 19 & MAS & Felipe & Massa & 1981-04-25 & $\\dots$ \\\\\n",
       "\t14 & 14 & coulthard & \\textbackslash{}\\textbackslash{}N & COU & David & Coulthard & 1971-03-27 & $\\dots$ \\\\\n",
       "\t15 & 15 & trulli & \\textbackslash{}\\textbackslash{}N & TRU & Jarno & Trulli & 1974-07-13 & $\\dots$ \\\\\n",
       "\t16 & 16 & sutil & 99 & SUT & Adrian & Sutil & 1983-01-11 & $\\dots$ \\\\\n",
       "\t17 & 17 & webber & \\textbackslash{}\\textbackslash{}N & WEB & Mark & Webber & 1976-08-27 & $\\dots$ \\\\\n",
       "\t18 & 18 & button & 22 & BUT & Jenson & Button & 1980-01-19 & $\\dots$ \\\\\n",
       "\t19 & 19 & davidson & \\textbackslash{}\\textbackslash{}N & DAV & Anthony & Davidson & 1979-04-18 & $\\dots$ \\\\\n",
       "\t20 & 20 & vettel & 5 & VET & Sebastian & Vettel & 1987-07-03 & $\\dots$ \\\\\n",
       "\t21 & 21 & fisichella & \\textbackslash{}\\textbackslash{}N & FIS & Giancarlo & Fisichella & 1973-01-14 & $\\dots$ \\\\\n",
       "\t22 & 22 & barrichello & \\textbackslash{}\\textbackslash{}N & BAR & Rubens & Barrichello & 1972-05-23 & $\\dots$ \\\\\n",
       "\t23 & 23 & ralf\\_schumacher & \\textbackslash{}\\textbackslash{}N & SCH & Ralf & Schumacher & 1975-06-30 & $\\dots$ \\\\\n",
       "\t24 & 24 & liuzzi & \\textbackslash{}\\textbackslash{}N & LIU & Vitantonio & Liuzzi & 1980-08-06 & $\\dots$ \\\\\n",
       "\t$\\dots$ & $\\dots$ & $\\dots$ & $\\dots$ & $\\dots$ & $\\dots$ & $\\dots$ & $\\dots$ &  \\\\\n",
       "\\end{tabular}\n"
      ],
      "text/plain": [
       "\u001b[1m854×9 DataFrame\u001b[0m\n",
       "\u001b[1m Row \u001b[0m│\u001b[1m driverId \u001b[0m\u001b[1m driverRef         \u001b[0m\u001b[1m number \u001b[0m\u001b[1m code   \u001b[0m\u001b[1m forename  \u001b[0m\u001b[1m surname    \u001b[0m\u001b[1m dob\u001b[0m ⋯\n",
       "\u001b[1m     \u001b[0m│\u001b[90m Int64    \u001b[0m\u001b[90m String            \u001b[0m\u001b[90m String \u001b[0m\u001b[90m String \u001b[0m\u001b[90m String    \u001b[0m\u001b[90m String     \u001b[0m\u001b[90m Dat\u001b[0m ⋯\n",
       "─────┼──────────────────────────────────────────────────────────────────────────\n",
       "   1 │        1  hamilton           44      HAM     Lewis      Hamilton    198 ⋯\n",
       "   2 │        2  heidfeld           \\\\N     HEI     Nick       Heidfeld    197\n",
       "   3 │        3  rosberg            6       ROS     Nico       Rosberg     198\n",
       "   4 │        4  alonso             14      ALO     Fernando   Alonso      198\n",
       "   5 │        5  kovalainen         \\\\N     KOV     Heikki     Kovalainen  198 ⋯\n",
       "   6 │        6  nakajima           \\\\N     NAK     Kazuki     Nakajima    198\n",
       "   7 │        7  bourdais           \\\\N     BOU     Sébastien  Bourdais    197\n",
       "   8 │        8  raikkonen          7       RAI     Kimi       Räikkönen   197\n",
       "  ⋮  │    ⋮              ⋮            ⋮       ⋮         ⋮          ⋮           ⋱\n",
       " 848 │      849  latifi             6       LAT     Nicholas   Latifi      199 ⋯\n",
       " 849 │      850  pietro_fittipaldi  51      FIT     Pietro     Fittipaldi  199\n",
       " 850 │      851  aitken             89      AIT     Jack       Aitken      199\n",
       " 851 │      852  tsunoda            22      TSU     Yuki       Tsunoda     200\n",
       " 852 │      853  mazepin            9       MAZ     Nikita     Mazepin     199 ⋯\n",
       " 853 │      854  mick_schumacher    47      MSC     Mick       Schumacher  199\n",
       " 854 │      855  zhou               24      ZHO     Guanyu     Zhou        199\n",
       "\u001b[36m                                                  3 columns and 839 rows omitted\u001b[0m"
      ]
     },
     "metadata": {},
     "output_type": "display_data"
    }
   ],
   "source": [
    "Drivers = DataFrame(CSV.File(\"C:/Users/liber/Documents/GitHub/Portifolio/F1_dataset/drivers.csv\"))"
   ]
  },
  {
   "cell_type": "code",
   "execution_count": 19,
   "metadata": {},
   "outputs": [
    {
     "data": {
      "text/html": [
       "<div class=\"data-frame\"><p>4 rows × 9 columns (omitted printing of 1 columns)</p><table class=\"data-frame\"><thead><tr><th></th><th>driverId</th><th>driverRef</th><th>number</th><th>code</th><th>forename</th><th>surname</th><th>dob</th><th>nationality</th></tr><tr><th></th><th title=\"Int64\">Int64</th><th title=\"String\">String</th><th title=\"String\">String</th><th title=\"String\">String</th><th title=\"String\">String</th><th title=\"String\">String</th><th title=\"Dates.Date\">Date</th><th title=\"String\">String</th></tr></thead><tbody><tr><th>1</th><td>349</td><td>jean</td><td>\\\\N</td><td>\\\\N</td><td>Max</td><td>Jean</td><td>1943-07-27</td><td>French</td></tr><tr><th>2</th><td>720</td><td>terra</td><td>\\\\N</td><td>\\\\N</td><td>Max</td><td>de Terra</td><td>1918-10-06</td><td>Swiss</td></tr><tr><th>3</th><td>820</td><td>chilton</td><td>4</td><td>CHI</td><td>Max</td><td>Chilton</td><td>1991-04-21</td><td>British</td></tr><tr><th>4</th><td>830</td><td>max_verstappen</td><td>33</td><td>VER</td><td>Max</td><td>Verstappen</td><td>1997-09-30</td><td>Dutch</td></tr></tbody></table></div>"
      ],
      "text/latex": [
       "\\begin{tabular}{r|ccccccccc}\n",
       "\t& driverId & driverRef & number & code & forename & surname & dob & nationality & \\\\\n",
       "\t\\hline\n",
       "\t& Int64 & String & String & String & String & String & Date & String & \\\\\n",
       "\t\\hline\n",
       "\t1 & 349 & jean & \\textbackslash{}\\textbackslash{}N & \\textbackslash{}\\textbackslash{}N & Max & Jean & 1943-07-27 & French & $\\dots$ \\\\\n",
       "\t2 & 720 & terra & \\textbackslash{}\\textbackslash{}N & \\textbackslash{}\\textbackslash{}N & Max & de Terra & 1918-10-06 & Swiss & $\\dots$ \\\\\n",
       "\t3 & 820 & chilton & 4 & CHI & Max & Chilton & 1991-04-21 & British & $\\dots$ \\\\\n",
       "\t4 & 830 & max\\_verstappen & 33 & VER & Max & Verstappen & 1997-09-30 & Dutch & $\\dots$ \\\\\n",
       "\\end{tabular}\n"
      ],
      "text/plain": [
       "\u001b[1m4×9 DataFrame\u001b[0m\n",
       "\u001b[1m Row \u001b[0m│\u001b[1m driverId \u001b[0m\u001b[1m driverRef      \u001b[0m\u001b[1m number \u001b[0m\u001b[1m code   \u001b[0m\u001b[1m forename \u001b[0m\u001b[1m surname    \u001b[0m\u001b[1m dob    \u001b[0m ⋯\n",
       "\u001b[1m     \u001b[0m│\u001b[90m Int64    \u001b[0m\u001b[90m String         \u001b[0m\u001b[90m String \u001b[0m\u001b[90m String \u001b[0m\u001b[90m String   \u001b[0m\u001b[90m String     \u001b[0m\u001b[90m Date   \u001b[0m ⋯\n",
       "─────┼──────────────────────────────────────────────────────────────────────────\n",
       "   1 │      349  jean            \\\\N     \\\\N     Max       Jean        1943-07 ⋯\n",
       "   2 │      720  terra           \\\\N     \\\\N     Max       de Terra    1918-10\n",
       "   3 │      820  chilton         4       CHI     Max       Chilton     1991-04\n",
       "   4 │      830  max_verstappen  33      VER     Max       Verstappen  1997-09\n",
       "\u001b[36m                                                               3 columns omitted\u001b[0m"
      ]
     },
     "metadata": {},
     "output_type": "display_data"
    }
   ],
   "source": [
    "Drivers[Drivers.forename .== \"Max\", :]"
   ]
  },
  {
   "cell_type": "code",
   "execution_count": 30,
   "metadata": {},
   "outputs": [
    {
     "data": {
      "text/plain": [
       "\"C:/Users/liber/Desktop/Stats/3o Semestre/Pacotes/MAX.csv\""
      ]
     },
     "metadata": {},
     "output_type": "display_data"
    }
   ],
   "source": [
    "voltas_VER = dados[dados.driverId .== 830, :]\n",
    "CSV.write(\"C:/Users/liber/Desktop/Stats/3o Semestre/Pacotes/MAX.csv\", voltas_VER)\n"
   ]
  },
  {
   "cell_type": "code",
   "execution_count": 26,
   "metadata": {},
   "outputs": [
    {
     "data": {
      "text/plain": [
       "5-element Vector{Float64}:\n",
       "  68881.5\n",
       " 104488.0\n",
       " 115250.0\n",
       " 135036.75\n",
       " 171561.50000000044"
      ]
     },
     "metadata": {},
     "output_type": "display_data"
    }
   ],
   "source": [
    "#histogram(voltas_VER)\n",
    "quantile(voltas_VER, [0.05, 0.9, 0.95, 0.975, 0.99])"
   ]
  },
  {
   "cell_type": "code",
   "execution_count": 27,
   "metadata": {},
   "outputs": [
    {
     "data": {
      "text/plain": [
       "5-element Vector{Float64}:\n",
       "  69415.2\n",
       " 104949.40000000001\n",
       " 116783.79999999997\n",
       " 142771.69999999998\n",
       " 176811.55999999974"
      ]
     },
     "metadata": {},
     "output_type": "display_data"
    }
   ],
   "source": [
    "quantile(voltas_HAM, [0.05, 0.9, 0.95, 0.975, 0.99])"
   ]
  },
  {
   "cell_type": "code",
   "execution_count": null,
   "metadata": {},
   "outputs": [],
   "source": []
  },
  {
   "cell_type": "code",
   "execution_count": 25,
   "metadata": {},
   "outputs": [],
   "source": [
    "using Statistics\n",
    "#quantile(dados[dados.driverId .== 3, :].milliseconds, [0.05, 0.9, 0.95, 0.975, 0.99])"
   ]
  },
  {
   "cell_type": "code",
   "execution_count": null,
   "metadata": {},
   "outputs": [],
   "source": [
    "dados_ham = dados[dados.milliseconds .< 100000, :]\n",
    "dados_ham = dados_ham[dados_ham.driverId .== 1, :]"
   ]
  },
  {
   "cell_type": "code",
   "execution_count": null,
   "metadata": {},
   "outputs": [],
   "source": [
    "scatter(dados[dados.circuitId .== 1, :].lap, dados[dados.circuitId .== 1, :].milliseconds)"
   ]
  },
  {
   "cell_type": "code",
   "execution_count": null,
   "metadata": {},
   "outputs": [],
   "source": [
    "quantile(dados.milliseconds, [0.05, 0.9, 0.95, 0.975, 0.99])"
   ]
  },
  {
   "cell_type": "code",
   "execution_count": null,
   "metadata": {},
   "outputs": [],
   "source": [
    "hamilton = filter(row -> row.driverId == 1 , lap_times_raw);"
   ]
  },
  {
   "cell_type": "code",
   "execution_count": null,
   "metadata": {},
   "outputs": [],
   "source": [
    "hamilton_race_1 = filter(row -> row.raceId == 841, hamilton);"
   ]
  },
  {
   "cell_type": "code",
   "execution_count": 21,
   "metadata": {},
   "outputs": [
    {
     "data": {
      "text/plain": [
       "Plots.GRBackend()"
      ]
     },
     "metadata": {},
     "output_type": "display_data"
    }
   ],
   "source": [
    "using Plots \n",
    "gr()"
   ]
  },
  {
   "cell_type": "code",
   "execution_count": null,
   "metadata": {},
   "outputs": [],
   "source": [
    "histogram(hamilton_race_1.milliseconds, bins = 100);"
   ]
  },
  {
   "cell_type": "code",
   "execution_count": null,
   "metadata": {},
   "outputs": [],
   "source": [
    "hamilton_race_2 = filter(row -> row.raceId == 1015, hamilton);"
   ]
  },
  {
   "cell_type": "code",
   "execution_count": null,
   "metadata": {},
   "outputs": [],
   "source": [
    "#scatter(lap_times_raw.milliseconds, lap_times_raw.lap)"
   ]
  },
  {
   "cell_type": "code",
   "execution_count": null,
   "metadata": {},
   "outputs": [],
   "source": [
    "race1015 = filter(row -> row.raceId == 1015 , lap_times_raw);"
   ]
  },
  {
   "cell_type": "code",
   "execution_count": null,
   "metadata": {},
   "outputs": [],
   "source": [
    "using Statistics"
   ]
  },
  {
   "cell_type": "code",
   "execution_count": null,
   "metadata": {},
   "outputs": [],
   "source": [
    "function mean_groups(grouped_data)    \n",
    "    mean_times = Dict()\n",
    "    for (j, i) in enumerate(keys(grouped_data))\n",
    "        mean_ = mean(get(gd, i, nothing).milliseconds)\n",
    "        driver = get(gd, i, nothing).driverId[1]\n",
    "        mean_times[driver] = mean_  \n",
    "    end\n",
    "    return mean_times\n",
    "end"
   ]
  },
  {
   "cell_type": "code",
   "execution_count": null,
   "metadata": {},
   "outputs": [],
   "source": [
    "means = mean_groups(gd)"
   ]
  },
  {
   "cell_type": "code",
   "execution_count": null,
   "metadata": {},
   "outputs": [],
   "source": [
    "delete!(means, 844)"
   ]
  },
  {
   "cell_type": "code",
   "execution_count": null,
   "metadata": {},
   "outputs": [],
   "source": [
    "histogram(means, bin = 9)"
   ]
  },
  {
   "cell_type": "code",
   "execution_count": null,
   "metadata": {},
   "outputs": [],
   "source": [
    "drivers_raw = DataFrame(CSV.File(\"C:/Users/liber/Documents/GitHub/Portifolio/F1_dataset/drivers.csv\"));"
   ]
  },
  {
   "cell_type": "code",
   "execution_count": null,
   "metadata": {},
   "outputs": [],
   "source": [
    "function drivers_dict(data)\n",
    "    drivers = Dict()\n",
    "    for i in 1:nrow(drivers_raw)\n",
    "        ID = drivers_raw.driverId[i]\n",
    "        driver = drivers_raw.surname[i]\n",
    "        drivers[ID] = driver\n",
    "    end\n",
    "    return drivers\n",
    "end"
   ]
  },
  {
   "cell_type": "code",
   "execution_count": null,
   "metadata": {},
   "outputs": [],
   "source": [
    "nrow(drivers_raw)"
   ]
  },
  {
   "cell_type": "code",
   "execution_count": null,
   "metadata": {},
   "outputs": [],
   "source": [
    "drivers = drivers_dict(drivers_raw)"
   ]
  },
  {
   "cell_type": "code",
   "execution_count": null,
   "metadata": {},
   "outputs": [],
   "source": [
    "drivers[1]"
   ]
  },
  {
   "cell_type": "code",
   "execution_count": null,
   "metadata": {},
   "outputs": [],
   "source": [
    "names(lap_times_raw)"
   ]
  },
  {
   "cell_type": "code",
   "execution_count": null,
   "metadata": {},
   "outputs": [],
   "source": [
    "races = DataFrame(CSV.File(\"C:/Users/liber/Documents/GitHub/Portifolio/F1_dataset/races.csv\"));"
   ]
  },
  {
   "cell_type": "code",
   "execution_count": null,
   "metadata": {},
   "outputs": [],
   "source": [
    "first(races, 6)"
   ]
  },
  {
   "cell_type": "code",
   "execution_count": null,
   "metadata": {},
   "outputs": [],
   "source": [
    "function races_dict(data)\n",
    "    races_dictionary = Dict()\n",
    "    for i in 1:nrow(data)\n",
    "        ID = data.raceId[i]\n",
    "        year = data.year[i]\n",
    "        circuit = data.name[i]\n",
    "        races_dictionary[ID] = (year, circuit)\n",
    "    end\n",
    "    return races_dictionary\n",
    "end"
   ]
  },
  {
   "cell_type": "code",
   "execution_count": null,
   "metadata": {},
   "outputs": [],
   "source": [
    "race_dict = races_dict(races)"
   ]
  },
  {
   "cell_type": "code",
   "execution_count": null,
   "metadata": {},
   "outputs": [],
   "source": [
    "D = Dict('a'=>5, 'b'=>6)"
   ]
  },
  {
   "cell_type": "code",
   "execution_count": null,
   "metadata": {},
   "outputs": [],
   "source": [
    "depois_de_2013 = [i for (i, j) in race_dict if j[1]>2013]\n",
    "# filter(x -> x[1]> 2013, race_dict)"
   ]
  }
 ],
 "metadata": {
  "kernelspec": {
   "display_name": "Julia 1.7.1",
   "language": "julia",
   "name": "julia-1.7"
  },
  "language_info": {
   "file_extension": ".jl",
   "mimetype": "application/julia",
   "name": "julia",
   "version": "1.7.1"
  },
  "orig_nbformat": 4
 },
 "nbformat": 4,
 "nbformat_minor": 2
}
