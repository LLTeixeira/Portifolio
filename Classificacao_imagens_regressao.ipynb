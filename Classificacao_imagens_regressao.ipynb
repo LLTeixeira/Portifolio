{
 "cells": [
  {
   "cell_type": "code",
   "execution_count": 1,
   "metadata": {},
   "outputs": [],
   "source": [
    "import numpy as np\n",
    "import os\n",
    "import pandas as pd"
   ]
  },
  {
   "cell_type": "code",
   "execution_count": 2,
   "metadata": {},
   "outputs": [],
   "source": [
    "#Selecionando o caminho dos dados# \n",
    "absolute_path = os.path.dirname(\"__file__\")\n",
    "relative_path = \"dadosFacesAltaResolucao.txt\"\n",
    "full_path = os.path.join(absolute_path, relative_path)"
   ]
  },
  {
   "cell_type": "code",
   "execution_count": 3,
   "metadata": {},
   "outputs": [
    {
     "data": {
      "text/html": [
       "<div>\n",
       "<style scoped>\n",
       "    .dataframe tbody tr th:only-of-type {\n",
       "        vertical-align: middle;\n",
       "    }\n",
       "\n",
       "    .dataframe tbody tr th {\n",
       "        vertical-align: top;\n",
       "    }\n",
       "\n",
       "    .dataframe thead th {\n",
       "        text-align: right;\n",
       "    }\n",
       "</style>\n",
       "<table border=\"1\" class=\"dataframe\">\n",
       "  <thead>\n",
       "    <tr style=\"text-align: right;\">\n",
       "      <th></th>\n",
       "      <th>y</th>\n",
       "      <th>x1</th>\n",
       "      <th>x2</th>\n",
       "      <th>x3</th>\n",
       "      <th>x4</th>\n",
       "      <th>x5</th>\n",
       "      <th>x6</th>\n",
       "      <th>x7</th>\n",
       "      <th>x8</th>\n",
       "      <th>x9</th>\n",
       "      <th>...</th>\n",
       "      <th>x4087</th>\n",
       "      <th>x4088</th>\n",
       "      <th>x4089</th>\n",
       "      <th>x4090</th>\n",
       "      <th>x4091</th>\n",
       "      <th>x4092</th>\n",
       "      <th>x4093</th>\n",
       "      <th>x4094</th>\n",
       "      <th>x4095</th>\n",
       "      <th>x4096</th>\n",
       "    </tr>\n",
       "  </thead>\n",
       "  <tbody>\n",
       "    <tr>\n",
       "      <th>0</th>\n",
       "      <td>-32.119</td>\n",
       "      <td>0.016176</td>\n",
       "      <td>0</td>\n",
       "      <td>0</td>\n",
       "      <td>0</td>\n",
       "      <td>0</td>\n",
       "      <td>0</td>\n",
       "      <td>0</td>\n",
       "      <td>0</td>\n",
       "      <td>0.0</td>\n",
       "      <td>...</td>\n",
       "      <td>0.642940</td>\n",
       "      <td>0.71656</td>\n",
       "      <td>0.691410</td>\n",
       "      <td>0.610660</td>\n",
       "      <td>0.560630</td>\n",
       "      <td>0.564890</td>\n",
       "      <td>0.538110</td>\n",
       "      <td>0.384190</td>\n",
       "      <td>0.127670</td>\n",
       "      <td>0.008624</td>\n",
       "    </tr>\n",
       "    <tr>\n",
       "      <th>1</th>\n",
       "      <td>29.044</td>\n",
       "      <td>0.016176</td>\n",
       "      <td>0</td>\n",
       "      <td>0</td>\n",
       "      <td>0</td>\n",
       "      <td>0</td>\n",
       "      <td>0</td>\n",
       "      <td>0</td>\n",
       "      <td>0</td>\n",
       "      <td>0.0</td>\n",
       "      <td>...</td>\n",
       "      <td>0.000000</td>\n",
       "      <td>0.00000</td>\n",
       "      <td>0.000000</td>\n",
       "      <td>0.000000</td>\n",
       "      <td>0.000000</td>\n",
       "      <td>0.000000</td>\n",
       "      <td>0.000000</td>\n",
       "      <td>0.000000</td>\n",
       "      <td>0.000000</td>\n",
       "      <td>0.000000</td>\n",
       "    </tr>\n",
       "    <tr>\n",
       "      <th>2</th>\n",
       "      <td>-28.113</td>\n",
       "      <td>0.016176</td>\n",
       "      <td>0</td>\n",
       "      <td>0</td>\n",
       "      <td>0</td>\n",
       "      <td>0</td>\n",
       "      <td>0</td>\n",
       "      <td>0</td>\n",
       "      <td>0</td>\n",
       "      <td>0.0</td>\n",
       "      <td>...</td>\n",
       "      <td>0.781660</td>\n",
       "      <td>0.72143</td>\n",
       "      <td>0.651470</td>\n",
       "      <td>0.581620</td>\n",
       "      <td>0.559540</td>\n",
       "      <td>0.546550</td>\n",
       "      <td>0.455390</td>\n",
       "      <td>0.262640</td>\n",
       "      <td>0.095282</td>\n",
       "      <td>0.008640</td>\n",
       "    </tr>\n",
       "    <tr>\n",
       "      <th>3</th>\n",
       "      <td>59.263</td>\n",
       "      <td>0.016176</td>\n",
       "      <td>0</td>\n",
       "      <td>0</td>\n",
       "      <td>0</td>\n",
       "      <td>0</td>\n",
       "      <td>0</td>\n",
       "      <td>0</td>\n",
       "      <td>0</td>\n",
       "      <td>0.0</td>\n",
       "      <td>...</td>\n",
       "      <td>0.000000</td>\n",
       "      <td>0.00000</td>\n",
       "      <td>0.000000</td>\n",
       "      <td>0.000000</td>\n",
       "      <td>0.000000</td>\n",
       "      <td>0.000000</td>\n",
       "      <td>0.000000</td>\n",
       "      <td>0.000000</td>\n",
       "      <td>0.000000</td>\n",
       "      <td>0.000000</td>\n",
       "    </tr>\n",
       "    <tr>\n",
       "      <th>4</th>\n",
       "      <td>-42.010</td>\n",
       "      <td>0.016176</td>\n",
       "      <td>0</td>\n",
       "      <td>0</td>\n",
       "      <td>0</td>\n",
       "      <td>0</td>\n",
       "      <td>0</td>\n",
       "      <td>0</td>\n",
       "      <td>0</td>\n",
       "      <td>0.0</td>\n",
       "      <td>...</td>\n",
       "      <td>0.000000</td>\n",
       "      <td>0.00000</td>\n",
       "      <td>0.046094</td>\n",
       "      <td>0.142970</td>\n",
       "      <td>0.074249</td>\n",
       "      <td>0.034589</td>\n",
       "      <td>0.023499</td>\n",
       "      <td>0.000781</td>\n",
       "      <td>0.000000</td>\n",
       "      <td>0.000000</td>\n",
       "    </tr>\n",
       "    <tr>\n",
       "      <th>...</th>\n",
       "      <td>...</td>\n",
       "      <td>...</td>\n",
       "      <td>...</td>\n",
       "      <td>...</td>\n",
       "      <td>...</td>\n",
       "      <td>...</td>\n",
       "      <td>...</td>\n",
       "      <td>...</td>\n",
       "      <td>...</td>\n",
       "      <td>...</td>\n",
       "      <td>...</td>\n",
       "      <td>...</td>\n",
       "      <td>...</td>\n",
       "      <td>...</td>\n",
       "      <td>...</td>\n",
       "      <td>...</td>\n",
       "      <td>...</td>\n",
       "      <td>...</td>\n",
       "      <td>...</td>\n",
       "      <td>...</td>\n",
       "      <td>...</td>\n",
       "    </tr>\n",
       "    <tr>\n",
       "      <th>693</th>\n",
       "      <td>-34.086</td>\n",
       "      <td>0.016176</td>\n",
       "      <td>0</td>\n",
       "      <td>0</td>\n",
       "      <td>0</td>\n",
       "      <td>0</td>\n",
       "      <td>0</td>\n",
       "      <td>0</td>\n",
       "      <td>0</td>\n",
       "      <td>0.0</td>\n",
       "      <td>...</td>\n",
       "      <td>0.045129</td>\n",
       "      <td>0.10725</td>\n",
       "      <td>0.369820</td>\n",
       "      <td>0.569290</td>\n",
       "      <td>0.661090</td>\n",
       "      <td>0.594930</td>\n",
       "      <td>0.257600</td>\n",
       "      <td>0.036734</td>\n",
       "      <td>0.015502</td>\n",
       "      <td>0.000797</td>\n",
       "    </tr>\n",
       "    <tr>\n",
       "      <th>694</th>\n",
       "      <td>-48.328</td>\n",
       "      <td>0.016176</td>\n",
       "      <td>0</td>\n",
       "      <td>0</td>\n",
       "      <td>0</td>\n",
       "      <td>0</td>\n",
       "      <td>0</td>\n",
       "      <td>0</td>\n",
       "      <td>0</td>\n",
       "      <td>0.0</td>\n",
       "      <td>...</td>\n",
       "      <td>0.000000</td>\n",
       "      <td>0.00000</td>\n",
       "      <td>0.003125</td>\n",
       "      <td>0.003125</td>\n",
       "      <td>0.000000</td>\n",
       "      <td>0.000000</td>\n",
       "      <td>0.000000</td>\n",
       "      <td>0.000000</td>\n",
       "      <td>0.000000</td>\n",
       "      <td>0.000000</td>\n",
       "    </tr>\n",
       "    <tr>\n",
       "      <th>695</th>\n",
       "      <td>69.475</td>\n",
       "      <td>0.016176</td>\n",
       "      <td>0</td>\n",
       "      <td>0</td>\n",
       "      <td>0</td>\n",
       "      <td>0</td>\n",
       "      <td>0</td>\n",
       "      <td>0</td>\n",
       "      <td>0</td>\n",
       "      <td>0.0</td>\n",
       "      <td>...</td>\n",
       "      <td>0.000000</td>\n",
       "      <td>0.00000</td>\n",
       "      <td>0.000000</td>\n",
       "      <td>0.000000</td>\n",
       "      <td>0.000000</td>\n",
       "      <td>0.000000</td>\n",
       "      <td>0.000000</td>\n",
       "      <td>0.000000</td>\n",
       "      <td>0.000000</td>\n",
       "      <td>0.000000</td>\n",
       "    </tr>\n",
       "    <tr>\n",
       "      <th>696</th>\n",
       "      <td>24.340</td>\n",
       "      <td>0.016176</td>\n",
       "      <td>0</td>\n",
       "      <td>0</td>\n",
       "      <td>0</td>\n",
       "      <td>0</td>\n",
       "      <td>0</td>\n",
       "      <td>0</td>\n",
       "      <td>0</td>\n",
       "      <td>0.0</td>\n",
       "      <td>...</td>\n",
       "      <td>0.000000</td>\n",
       "      <td>0.00000</td>\n",
       "      <td>0.000000</td>\n",
       "      <td>0.000000</td>\n",
       "      <td>0.000000</td>\n",
       "      <td>0.000000</td>\n",
       "      <td>0.000000</td>\n",
       "      <td>0.000000</td>\n",
       "      <td>0.000000</td>\n",
       "      <td>0.000000</td>\n",
       "    </tr>\n",
       "    <tr>\n",
       "      <th>697</th>\n",
       "      <td>-14.983</td>\n",
       "      <td>0.016176</td>\n",
       "      <td>0</td>\n",
       "      <td>0</td>\n",
       "      <td>0</td>\n",
       "      <td>0</td>\n",
       "      <td>0</td>\n",
       "      <td>0</td>\n",
       "      <td>0</td>\n",
       "      <td>0.0</td>\n",
       "      <td>...</td>\n",
       "      <td>0.551850</td>\n",
       "      <td>0.49332</td>\n",
       "      <td>0.417100</td>\n",
       "      <td>0.334220</td>\n",
       "      <td>0.247560</td>\n",
       "      <td>0.173580</td>\n",
       "      <td>0.092616</td>\n",
       "      <td>0.024755</td>\n",
       "      <td>0.000781</td>\n",
       "      <td>0.000000</td>\n",
       "    </tr>\n",
       "  </tbody>\n",
       "</table>\n",
       "<p>698 rows × 4097 columns</p>\n",
       "</div>"
      ],
      "text/plain": [
       "          y        x1  x2  x3  x4  x5  x6  x7  x8   x9  ...     x4087  \\\n",
       "0   -32.119  0.016176   0   0   0   0   0   0   0  0.0  ...  0.642940   \n",
       "1    29.044  0.016176   0   0   0   0   0   0   0  0.0  ...  0.000000   \n",
       "2   -28.113  0.016176   0   0   0   0   0   0   0  0.0  ...  0.781660   \n",
       "3    59.263  0.016176   0   0   0   0   0   0   0  0.0  ...  0.000000   \n",
       "4   -42.010  0.016176   0   0   0   0   0   0   0  0.0  ...  0.000000   \n",
       "..      ...       ...  ..  ..  ..  ..  ..  ..  ..  ...  ...       ...   \n",
       "693 -34.086  0.016176   0   0   0   0   0   0   0  0.0  ...  0.045129   \n",
       "694 -48.328  0.016176   0   0   0   0   0   0   0  0.0  ...  0.000000   \n",
       "695  69.475  0.016176   0   0   0   0   0   0   0  0.0  ...  0.000000   \n",
       "696  24.340  0.016176   0   0   0   0   0   0   0  0.0  ...  0.000000   \n",
       "697 -14.983  0.016176   0   0   0   0   0   0   0  0.0  ...  0.551850   \n",
       "\n",
       "       x4088     x4089     x4090     x4091     x4092     x4093     x4094  \\\n",
       "0    0.71656  0.691410  0.610660  0.560630  0.564890  0.538110  0.384190   \n",
       "1    0.00000  0.000000  0.000000  0.000000  0.000000  0.000000  0.000000   \n",
       "2    0.72143  0.651470  0.581620  0.559540  0.546550  0.455390  0.262640   \n",
       "3    0.00000  0.000000  0.000000  0.000000  0.000000  0.000000  0.000000   \n",
       "4    0.00000  0.046094  0.142970  0.074249  0.034589  0.023499  0.000781   \n",
       "..       ...       ...       ...       ...       ...       ...       ...   \n",
       "693  0.10725  0.369820  0.569290  0.661090  0.594930  0.257600  0.036734   \n",
       "694  0.00000  0.003125  0.003125  0.000000  0.000000  0.000000  0.000000   \n",
       "695  0.00000  0.000000  0.000000  0.000000  0.000000  0.000000  0.000000   \n",
       "696  0.00000  0.000000  0.000000  0.000000  0.000000  0.000000  0.000000   \n",
       "697  0.49332  0.417100  0.334220  0.247560  0.173580  0.092616  0.024755   \n",
       "\n",
       "        x4095     x4096  \n",
       "0    0.127670  0.008624  \n",
       "1    0.000000  0.000000  \n",
       "2    0.095282  0.008640  \n",
       "3    0.000000  0.000000  \n",
       "4    0.000000  0.000000  \n",
       "..        ...       ...  \n",
       "693  0.015502  0.000797  \n",
       "694  0.000000  0.000000  \n",
       "695  0.000000  0.000000  \n",
       "696  0.000000  0.000000  \n",
       "697  0.000781  0.000000  \n",
       "\n",
       "[698 rows x 4097 columns]"
      ]
     },
     "execution_count": 3,
     "metadata": {},
     "output_type": "execute_result"
    }
   ],
   "source": [
    "df = pd.read_table(full_path, sep=' ')\n",
    "df"
   ]
  },
  {
   "cell_type": "code",
   "execution_count": 4,
   "metadata": {},
   "outputs": [],
   "source": [
    "import matplotlib.pyplot as plt"
   ]
  },
  {
   "cell_type": "code",
   "execution_count": 5,
   "metadata": {},
   "outputs": [],
   "source": [
    "imagens = [0, 0, 0, 0, 0]\n",
    "for i in range(5):\n",
    "    line = df.iloc[i,1:]\n",
    "    line = np.resize(line, (64, 64))\n",
    "    line = np.flip(line, axis=0)\n",
    "    imagens[i] = line\n",
    "   "
   ]
  },
  {
   "cell_type": "code",
   "execution_count": 6,
   "metadata": {},
   "outputs": [
    {
     "data": {
      "text/plain": [
       "<matplotlib.image.AxesImage at 0x232e8ae4c40>"
      ]
     },
     "execution_count": 6,
     "metadata": {},
     "output_type": "execute_result"
    },
    {
     "data": {
      "image/png": "[encoded data removed]",
      "text/plain": [
       "<Figure size 432x288 with 1 Axes>"
      ]
     },
     "metadata": {
      "needs_background": "light"
     },
     "output_type": "display_data"
    }
   ],
   "source": [
    "plt.imshow(imagens[0], cmap=\"gray\")"
   ]
  },
  {
   "cell_type": "code",
   "execution_count": 7,
   "metadata": {},
   "outputs": [
    {
     "data": {
      "text/plain": [
       "<matplotlib.image.AxesImage at 0x232e8bd9420>"
      ]
     },
     "execution_count": 7,
     "metadata": {},
     "output_type": "execute_result"
    },
    {
     "data": {
      "image/png": "[encoded data removed]",
      "text/plain": [
       "<Figure size 432x288 with 1 Axes>"
      ]
     },
     "metadata": {
      "needs_background": "light"
     },
     "output_type": "display_data"
    }
   ],
   "source": [
    "plt.imshow(imagens[1], cmap=\"gray\")"
   ]
  },
  {
   "cell_type": "code",
   "execution_count": 8,
   "metadata": {},
   "outputs": [
    {
     "data": {
      "text/plain": [
       "<matplotlib.image.AxesImage at 0x232e8c45390>"
      ]
     },
     "execution_count": 8,
     "metadata": {},
     "output_type": "execute_result"
    },
    {
     "data": {
      "image/png": "[encoded data removed]",
      "text/plain": [
       "<Figure size 432x288 with 1 Axes>"
      ]
     },
     "metadata": {
      "needs_background": "light"
     },
     "output_type": "display_data"
    }
   ],
   "source": [
    "plt.imshow(imagens[2], cmap=\"gray\")"
   ]
  },
  {
   "cell_type": "code",
   "execution_count": 9,
   "metadata": {},
   "outputs": [
    {
     "data": {
      "text/plain": [
       "<matplotlib.image.AxesImage at 0x232e8e74ca0>"
      ]
     },
     "execution_count": 9,
     "metadata": {},
     "output_type": "execute_result"
    },
    {
     "data": {
      "image/png": "[encoded data removed]",
      "text/plain": [
       "<Figure size 432x288 with 1 Axes>"
      ]
     },
     "metadata": {
      "needs_background": "light"
     },
     "output_type": "display_data"
    }
   ],
   "source": [
    "plt.imshow(imagens[3], cmap=\"gray\")"
   ]
  },
  {
   "cell_type": "code",
   "execution_count": 10,
   "metadata": {},
   "outputs": [
    {
     "data": {
      "text/plain": [
       "<matplotlib.image.AxesImage at 0x232e8ee4490>"
      ]
     },
     "execution_count": 10,
     "metadata": {},
     "output_type": "execute_result"
    },
    {
     "data": {
      "image/png": "[encoded data removed]",
      "text/plain": [
       "<Figure size 432x288 with 1 Axes>"
      ]
     },
     "metadata": {
      "needs_background": "light"
     },
     "output_type": "display_data"
    }
   ],
   "source": [
    "plt.imshow(imagens[4], cmap=\"gray\")"
   ]
  },
  {
   "cell_type": "markdown",
   "metadata": {},
   "source": [
    "São 697 observações e 4096 covariáveis. Cada covariável representa um pixel em escala de cinza. "
   ]
  },
  {
   "cell_type": "code",
   "execution_count": 11,
   "metadata": {},
   "outputs": [],
   "source": [
    "#Separando variavel independente e covariaveis# \n",
    "Y = df.iloc[:,0]\n",
    "X = df.iloc[:,1:]"
   ]
  },
  {
   "cell_type": "code",
   "execution_count": 12,
   "metadata": {},
   "outputs": [],
   "source": [
    "#Separando conjunto de treino e teste. Conjunto validacao saira do treino por validacao cruzada dado o numero pequeno de observacoes#\n",
    "from sklearn.model_selection import train_test_split\n",
    "X_train, X_test, y_train, y_test = train_test_split(X, Y, test_size=0.2, random_state=2022)"
   ]
  },
  {
   "cell_type": "code",
   "execution_count": 13,
   "metadata": {},
   "outputs": [
    {
     "data": {
      "text/plain": [
       "KNeighborsRegressor()"
      ]
     },
     "execution_count": 13,
     "metadata": {},
     "output_type": "execute_result"
    }
   ],
   "source": [
    "#Ajustando modelo KNN k=5#\n",
    "from sklearn.neighbors import KNeighborsRegressor\n",
    "knn = KNeighborsRegressor(n_neighbors=5)\n",
    "knn.fit(X_train, y_train)"
   ]
  },
  {
   "cell_type": "code",
   "execution_count": 14,
   "metadata": {},
   "outputs": [
    {
     "data": {
      "text/plain": [
       "array([-59.8862  , -19.93324 ,  54.5622  , -16.295   ,  29.2294  ,\n",
       "       -27.4206  , -23.2114  ,  -3.03718 ,  -2.10428 , -67.593   ,\n",
       "       -58.3274  , -67.3354  ,  -9.91304 , -62.33    , -23.2114  ,\n",
       "        41.6674  , -45.2198  , -49.462   , -19.1194  , -52.9056  ,\n",
       "        41.7184  , -43.8928  , -41.24    , -55.6422  , -31.0442  ,\n",
       "        -4.2464  , -67.7786  ,  46.6564  , -44.2662  , -69.0848  ,\n",
       "        16.7371  , -42.9132  ,  16.391   ,  70.456   ,  66.8532  ,\n",
       "       -20.9182  , -32.5426  ,  57.2602  ,  29.4068  ,  11.4232  ,\n",
       "       -47.3154  ,  46.801   , -65.5816  ,  58.5912  , -21.2116  ,\n",
       "       -23.2744  , -50.644   , -46.547   , -34.7992  , -63.7808  ,\n",
       "       -16.5076  , -57.6072  , -52.1594  ,  57.9504  , -19.7442  ,\n",
       "       -22.7444  ,  66.186   , -55.4302  ,  52.1252  ,  35.6274  ,\n",
       "        48.7768  ,  43.5332  ,   4.45726 , -48.6702  ,  50.4094  ,\n",
       "         9.3341  , -67.0196  ,  -2.10428 ,   1.14194 ,  -7.14282 ,\n",
       "        39.7908  ,  61.184   ,  -1.618044,  33.9842  , -52.4102  ,\n",
       "        15.5679  , -19.1922  ,  15.6688  ,  17.6626  ,  53.7328  ,\n",
       "        57.501   ,  54.5622  ,  42.5412  , -15.67224 , -10.76794 ,\n",
       "        16.592   ,  13.0097  , -42.3398  , -20.25372 ,  -4.3665  ,\n",
       "        47.9526  ,  28.6504  ,  58.1754  ,  53.6664  , -16.47354 ,\n",
       "        -7.01662 ,  -8.48522 ,   0.8339  ,  58.9726  ,  48.7176  ,\n",
       "        48.1128  , -16.9408  ,  61.8594  ,  32.3546  ,   8.15202 ,\n",
       "       -18.9482  ,  69.2112  ,  13.1321  ,  71.193   ,  67.2268  ,\n",
       "        10.64544 , -45.0084  , -48.9468  , -41.24    ,  14.52458 ,\n",
       "       -67.6608  ,   9.39268 ,   7.43472 ,   3.776752,  56.6012  ,\n",
       "       -16.08112 , -41.2146  ,  10.88456 ,  18.9996  ,  57.2988  ,\n",
       "        38.6946  , -40.0942  ,  17.6845  ,  67.211   ,  55.776   ,\n",
       "        62.3628  , -21.0208  , -26.249   ,  67.1216  , -64.697   ,\n",
       "        -9.91304 , -10.02914 , -19.5726  , -48.075   , -63.979   ])"
      ]
     },
     "execution_count": 14,
     "metadata": {},
     "output_type": "execute_result"
    }
   ],
   "source": [
    "#Previsao com o grupo teste#\n",
    "preds_k5 = knn.predict(X_test)\n",
    "preds_k5"
   ]
  },
  {
   "cell_type": "code",
   "execution_count": 15,
   "metadata": {},
   "outputs": [
    {
     "name": "stdout",
     "output_type": "stream",
     "text": [
      "Score: [-18.36764838 -16.00937181 -17.26079092 -18.52544114] para k= 1\n",
      "Score: [-12.14357345 -14.19534619 -13.17001181 -16.93778706] para k= 2\n",
      "Score: [-12.70235468 -12.39189302 -10.93348383 -17.5417149 ] para k= 3\n",
      "Score: [-10.42943641 -12.55482172 -12.94544017 -15.53761363] para k= 4\n",
      "Score: [-11.5879766  -14.16741396 -13.07702293 -17.0573431 ] para k= 5\n",
      "Score: [-12.49272424 -13.53268604 -13.98444691 -17.9511445 ] para k= 6\n",
      "Score: [-14.83222424 -14.30436215 -14.18421389 -18.63828642] para k= 7\n",
      "Score: [-14.20540379 -19.76198401 -16.5446883  -19.16663265] para k= 8\n",
      "Score: [-16.07998423 -26.80121048 -19.30134569 -20.51110661] para k= 9\n",
      "Score: [-17.50487568 -28.88241034 -22.3221592  -20.64893456] para k= 10\n",
      "Score: [-25.10596163 -29.92100201 -25.53944365 -21.06818856] para k= 11\n",
      "Score: [-30.75225314 -31.56769306 -26.29571783 -24.3702174 ] para k= 12\n",
      "Score: [-31.88082322 -41.86462846 -27.94742207 -30.73285008] para k= 13\n",
      "Score: [-34.98098088 -46.42320788 -32.63362359 -34.90310461] para k= 14\n",
      "Score: [-43.68969277 -52.78813758 -41.39477668 -43.87994694] para k= 15\n",
      "Score: [-53.49688485 -64.97866037 -46.66159832 -50.71659566] para k= 16\n",
      "Score: [-65.00391299 -67.07876739 -48.71204984 -55.88141406] para k= 17\n",
      "Score: [-72.29972366 -76.59377564 -51.7829601  -57.85713985] para k= 18\n",
      "Score: [-84.01283607 -89.33620038 -55.1913979  -66.82184965] para k= 19\n",
      "Score: [-91.07580213 -93.06193562 -59.61236054 -74.95835637] para k= 20\n",
      "Score: [ -90.57112824 -106.20338676  -68.15445764  -82.2878085 ] para k= 21\n",
      "Score: [-100.63804266 -108.91348839  -69.7040328   -90.48678595] para k= 22\n",
      "Score: [-108.26937347 -115.21657865  -74.80344359 -103.71656229] para k= 23\n",
      "Score: [-119.15588874 -120.175097    -78.11222339 -105.45023091] para k= 24\n",
      "Score: [-126.02492828 -124.21295517  -85.73100115 -114.15431629] para k= 25\n",
      "Score: [-132.97054124 -130.2386154   -91.67635308 -119.78299257] para k= 26\n",
      "Score: [-142.90585189 -140.07730439  -97.79054205 -126.63475527] para k= 27\n",
      "Score: [-152.97418077 -150.69817195 -103.22363796 -137.2124583 ] para k= 28\n",
      "Score: [-158.28053848 -155.77366517 -111.18623206 -141.74016784] para k= 29\n"
     ]
    }
   ],
   "source": [
    "#Testando k de 1 a 30 com validacao cruzada em 4 grupos. Funcao risco dada pelo EQM\"\n",
    "from sklearn.model_selection import cross_val_score\n",
    "from statistics import mean\n",
    "scores = np.zeros(30)\n",
    "\n",
    "for i in range(1, 30):\n",
    "    knn = KNeighborsRegressor(n_neighbors=i)\n",
    "    score = cross_val_score(knn, X_train, y_train, scoring='neg_mean_squared_error', cv=4)\n",
    "    scores[i] = mean(score)*(-1)\n",
    "    print(f'Score: {score} para k= {i}')"
   ]
  },
  {
   "cell_type": "code",
   "execution_count": 16,
   "metadata": {},
   "outputs": [
    {
     "data": {
      "text/plain": [
       "array([  0.        ,  17.54081306,  14.11167963,  13.39236161,\n",
       "        12.86682798,  13.97243915,  14.49025042,  15.48977167,\n",
       "        17.41967719,  20.67341175,  22.33959494,  25.40864896,\n",
       "        28.24647036,  33.10643096,  37.23522924,  45.43813849,\n",
       "        53.9634348 ,  59.16903607,  64.63339981,  73.840571  ,\n",
       "        79.67711366,  86.80419528,  92.43558745, 100.5014895 ,\n",
       "       105.72336001, 112.53080022, 118.66712557, 126.8521134 ,\n",
       "       136.02711224, 141.74515088])"
      ]
     },
     "execution_count": 16,
     "metadata": {},
     "output_type": "execute_result"
    }
   ],
   "source": [
    "scores"
   ]
  },
  {
   "cell_type": "code",
   "execution_count": 17,
   "metadata": {},
   "outputs": [
    {
     "data": {
      "text/plain": [
       "12.86682798068125"
      ]
     },
     "execution_count": 17,
     "metadata": {},
     "output_type": "execute_result"
    }
   ],
   "source": [
    "min(scores[1:])"
   ]
  },
  {
   "cell_type": "markdown",
   "metadata": {},
   "source": [
    "K = 4 tem o melhor risco estimado "
   ]
  },
  {
   "cell_type": "code",
   "execution_count": 18,
   "metadata": {},
   "outputs": [
    {
     "data": {
      "text/plain": [
       "Text(0, 0.5, 'EQM')"
      ]
     },
     "execution_count": 18,
     "metadata": {},
     "output_type": "execute_result"
    },
    {
     "data": {
      "image/png": "[encoded data removed]",
      "text/plain": [
       "<Figure size 432x288 with 1 Axes>"
      ]
     },
     "metadata": {
      "needs_background": "light"
     },
     "output_type": "display_data"
    }
   ],
   "source": [
    "x = np.arange(1,30)\n",
    "plt.scatter(x, scores[1:])\n",
    "plt.title(\"EQM para valores diferentes de k\")\n",
    "plt.xlabel(\"k\")\n",
    "plt.ylabel(\"EQM\")"
   ]
  },
  {
   "cell_type": "code",
   "execution_count": 19,
   "metadata": {},
   "outputs": [],
   "source": [
    "#Ajustando o melhor modelo KNN#\n",
    "knn_final = KNeighborsRegressor(n_neighbors=4)\n",
    "knn_final.fit(X_train, y_train)\n",
    "valor_predito = knn_final.predict(X_test)\n",
    "eqm = mean((y_test - valor_predito)**2)"
   ]
  },
  {
   "cell_type": "code",
   "execution_count": 20,
   "metadata": {},
   "outputs": [
    {
     "name": "stdout",
     "output_type": "stream",
     "text": [
      "EQM para K=4 usando o conjunto teste: 10.335897429045714\n"
     ]
    }
   ],
   "source": [
    "print(f'EQM para K=4 usando o conjunto teste: {eqm}')"
   ]
  },
  {
   "cell_type": "code",
   "execution_count": 29,
   "metadata": {},
   "outputs": [
    {
     "data": {
      "text/plain": [
       "Text(0, 0.5, 'Valor predito')"
      ]
     },
     "execution_count": 29,
     "metadata": {},
     "output_type": "execute_result"
    },
    {
     "data": {
      "image/png": "[encoded data removed]",
      "text/plain": [
       "<Figure size 432x288 with 1 Axes>"
      ]
     },
     "metadata": {
      "needs_background": "light"
     },
     "output_type": "display_data"
    }
   ],
   "source": [
    "import matplotlib.lines as mlines\n",
    "plt.scatter(y_test, valor_predito)\n",
    "plt.plot([-75, 80], [-75, 80], color='red')\n",
    "plt.title(\"Valor predito vs Valor observado (KNN)\")\n",
    "plt.xlabel(\"Valor observado\")\n",
    "plt.ylabel(\"Valor predito\")"
   ]
  },
  {
   "cell_type": "code",
   "execution_count": 22,
   "metadata": {},
   "outputs": [
    {
     "data": {
      "text/plain": [
       "array([0.00052564, 0.0005935 , 0.00067013, 0.00075664, 0.00085433,\n",
       "       0.00096464, 0.00108918, 0.0012298 , 0.00138858, 0.00156786,\n",
       "       0.00177028, 0.00199884, 0.00225691, 0.00254829, 0.0028773 ,\n",
       "       0.00324879, 0.00366823, 0.00414183, 0.00467658, 0.00528037,\n",
       "       0.00596211, 0.00673187, 0.00760101, 0.00858237, 0.00969043,\n",
       "       0.01094155, 0.01235419, 0.01394923, 0.0157502 , 0.01778368,\n",
       "       0.02007971, 0.02267218, 0.02559935, 0.02890445, 0.03263627,\n",
       "       0.0368499 , 0.04160754, 0.04697944, 0.05304489, 0.05989345,\n",
       "       0.06762621, 0.07635735, 0.08621575, 0.09734695, 0.10991529,\n",
       "       0.12410631, 0.14012952, 0.15822146, 0.17864923, 0.2017144 ])"
      ]
     },
     "execution_count": 22,
     "metadata": {},
     "output_type": "execute_result"
    }
   ],
   "source": [
    "#Gerando lambdas num espaco exponencial#\n",
    "import math\n",
    "lambdas= np.logspace(0.05, 6, base= math.e)\n",
    "lambdas = lambdas/2000\n",
    "lambdas"
   ]
  },
  {
   "cell_type": "code",
   "execution_count": 23,
   "metadata": {},
   "outputs": [
    {
     "name": "stdout",
     "output_type": "stream",
     "text": [
      "Score: [-28.69606497 -16.91591794 -14.51356982 -19.01963646] para lamda= 0.000525635548188012\n",
      "Score: [-28.66221163 -16.97868478 -14.21517398 -18.54860305] para lamda= 0.0005934996770180054\n",
      "Score: [-28.49331926 -17.03667774 -14.23940292 -18.5505397 ] para lamda= 0.0006701256561409067\n",
      "Score: [-28.37810762 -17.06653626 -14.88565014 -19.64522668] para lamda= 0.0007566447167664709\n",
      "Score: [-28.16718371 -16.96278576 -14.78093402 -19.66983414] para lamda= 0.0008543341419093968\n",
      "Score: [-28.06450527 -16.568407   -14.43164674 -19.7067947 ] para lamda= 0.0009646361229498097\n",
      "Score: [-28.0051017  -16.07994605 -14.08367814 -19.36522363] para lamda= 0.0010891790507399897\n",
      "Score: [-27.90184181 -16.12109846 -13.92832009 -19.29325846] para lamda= 0.0012298015555784747\n",
      "Score: [-27.99715226 -16.2778507  -13.90945486 -19.08243415] para lamda= 0.0013885796509542686\n",
      "Score: [-28.10149292 -16.40850861 -14.045249   -18.85863157] para lamda= 0.0015678573817849112\n",
      "Score: [-28.04645147 -16.41447063 -13.82867762 -18.88444096] para lamda= 0.0017702814296091066\n",
      "Score: [-28.09965307 -16.45338536 -13.7893649  -18.86424971] para lamda= 0.0019988401856112126\n",
      "Score: [-28.27349744 -16.59509939 -13.80977944 -18.69610997] para lamda= 0.0022569078683136153\n",
      "Score: [-28.66241078 -16.79139891 -13.77102662 -18.60124793] para lamda= 0.0025482943372475554\n",
      "Score: [-28.69403829 -17.07264391 -13.72426311 -18.79461515] para lamda= 0.002877301338002865\n",
      "Score: [-28.60389216 -17.35514922 -13.85922402 -18.92625168] para lamda= 0.003248786009003646\n",
      "Score: [-28.61821276 -17.43288769 -14.10700382 -18.94935073] para lamda= 0.003668232587561994\n",
      "Score: [-28.73767451 -17.6608192  -14.33576375 -18.87137484] para lamda= 0.004141833373807987\n",
      "Score: [-28.80776156 -18.01133217 -14.56846852 -18.71103102] para lamda= 0.004676580147768436\n",
      "Score: [-28.59354113 -18.45132113 -14.79765687 -18.60080952] para lamda= 0.005280367389186947\n",
      "Score: [-28.32190607 -18.93215037 -14.99085282 -18.59488607] para lamda= 0.005962108823922071\n",
      "Score: [-27.85556431 -19.24208486 -15.18715242 -18.62760939] para lamda= 0.0067318690175008425\n",
      "Score: [-27.5173466  -19.49974562 -15.37819674 -18.77069959] para lamda= 0.00760101195854658\n",
      "Score: [-27.07343846 -19.72452857 -15.59709299 -18.93501744] para lamda= 0.008582368825621748\n",
      "Score: [-26.56651977 -20.09116381 -15.86251892 -18.66178078] para lamda= 0.009690427414231864\n",
      "Score: [-26.16044301 -20.50859117 -16.11020599 -18.53180829] para lamda= 0.010941546020506007\n",
      "Score: [-26.0354336  -20.82167319 -16.45649096 -18.44429688] para lamda= 0.012354194939123904\n",
      "Score: [-26.25209697 -21.29027429 -16.71590198 -18.72668338] para lamda= 0.013949229140729444\n",
      "Score: [-26.72362931 -21.78289724 -16.84863394 -19.03734021] para lamda= 0.01575019615437396\n",
      "Score: [-27.09947322 -22.65266432 -17.18236219 -19.15458212] para lamda= 0.01778368370026532\n",
      "Score: [-27.4262337  -23.72678124 -17.63565389 -19.49806752] para lamda= 0.020079712204933688\n",
      "Score: [-27.74091345 -24.68946956 -18.12643825 -20.05612374] para lamda= 0.0226721779935249\n",
      "Score: [-28.35382174 -25.70043136 -18.69206329 -20.66338786] para lamda= 0.025599353702080233\n",
      "Score: [-29.21506234 -26.97584085 -19.42809247 -21.36554418] para lamda= 0.028904453297401253\n",
      "Score: [-29.76749616 -28.45871464 -20.26930287 -21.98135059] para lamda= 0.03263627004590193\n",
      "Score: [-30.47347624 -30.01556448 -20.98083267 -23.08852497] para lamda= 0.036849896849797885\n",
      "Score: [-31.54614695 -31.66074687 -21.67391141 -24.48648704] para lamda= 0.0416075395849733\n",
      "Score: [-32.79491299 -33.51753864 -22.54347924 -25.84788818] para lamda= 0.046979435447853\n",
      "Score: [-34.27154751 -35.01357642 -23.63973503 -27.24239086] para lamda= 0.05304488986885624\n",
      "Score: [-35.78167317 -36.29590113 -24.7895179  -28.75134419] para lamda= 0.05989344730041198\n",
      "Score: [-36.89993175 -37.76624903 -26.31281189 -30.17699125] para lamda= 0.06762621316390664\n",
      "Score: [-38.0533826  -39.42329945 -27.88506243 -31.39703202] para lamda= 0.076357346471501\n",
      "Score: [-39.56604321 -41.36617192 -29.43548059 -32.5661415 ] para lamda= 0.08621574515842707\n",
      "Score: [-41.38011148 -43.48211932 -31.07008101 -34.18068996] para lamda= 0.09734694900636888\n",
      "Score: [-43.61757535 -45.53884804 -33.1046276  -35.77328523] para lamda= 0.10991528825082954\n",
      "Score: [-46.24789442 -47.74140823 -35.26359751 -37.41198233] para lamda= 0.12410630959243046\n",
      "Score: [-49.65572235 -49.75353582 -37.46953392 -39.5442457 ] para lamda= 0.14012951542740407\n",
      "Score: [-53.10448258 -52.26423923 -40.02127272 -42.20630919] para lamda= 0.15822145673661026\n",
      "Score: [-56.31069843 -54.97843296 -43.22407373 -45.53623989] para lamda= 0.1786492252934694\n",
      "Score: [-60.26608352 -57.85331156 -46.88813776 -49.12384625] para lamda= 0.20171439674636749\n"
     ]
    }
   ],
   "source": [
    "#Testando os lambdas por validacao cruzada em 4 blocos#\n",
    "from sklearn import linear_model\n",
    "media_scores_lasso = np.zeros(len(lambdas))\n",
    "for i, j in enumerate(lambdas):\n",
    "    lasso = linear_model.Lasso(alpha=j, max_iter=100000)\n",
    "    score = cross_val_score(lasso, X_train, y_train, scoring='neg_mean_squared_error', cv=4)\n",
    "    media_scores_lasso[i] = mean(score)*(-1)\n",
    "    print(f'Score: {score} para lamda= {j}')"
   ]
  },
  {
   "cell_type": "code",
   "execution_count": 24,
   "metadata": {},
   "outputs": [
    {
     "data": {
      "text/plain": [
       "Text(0, 0.5, 'EQM')"
      ]
     },
     "execution_count": 24,
     "metadata": {},
     "output_type": "execute_result"
    },
    {
     "data": {
      "image/png": "[encoded data removed]",
      "text/plain": [
       "<Figure size 432x288 with 1 Axes>"
      ]
     },
     "metadata": {
      "needs_background": "light"
     },
     "output_type": "display_data"
    }
   ],
   "source": [
    "plt.scatter(lambdas, media_scores_lasso)\n",
    "plt.title(\"EQM para valores diferentes de lambda\")\n",
    "plt.xlabel(\"lambda\")\n",
    "plt.ylabel(\"EQM\")"
   ]
  },
  {
   "cell_type": "code",
   "execution_count": 25,
   "metadata": {},
   "outputs": [
    {
     "data": {
      "text/plain": [
       "0.0017702814296091066"
      ]
     },
     "execution_count": 25,
     "metadata": {},
     "output_type": "execute_result"
    }
   ],
   "source": [
    "#Selecionando o melhor lambda#\n",
    "indice = np.argmin(media_scores_lasso)\n",
    "melhor_lambda = lambdas[indice]\n",
    "melhor_lambda"
   ]
  },
  {
   "cell_type": "markdown",
   "metadata": {},
   "source": [
    "O melhor lambda foi 0.0017702814296091066"
   ]
  },
  {
   "cell_type": "code",
   "execution_count": 30,
   "metadata": {},
   "outputs": [
    {
     "data": {
      "text/plain": [
       "Lasso(alpha=0.0017702814296091066, max_iter=100000)"
      ]
     },
     "execution_count": 30,
     "metadata": {},
     "output_type": "execute_result"
    }
   ],
   "source": [
    "lasso_final = linear_model.Lasso(alpha=melhor_lambda, max_iter=100000)\n",
    "lasso_final.fit(X_train, y_train)"
   ]
  },
  {
   "cell_type": "code",
   "execution_count": 27,
   "metadata": {},
   "outputs": [
    {
     "name": "stdout",
     "output_type": "stream",
     "text": [
      "O EQM para para o lasso de lamda 0.0017702814296091066 foi 12.822892678738974\n"
     ]
    }
   ],
   "source": [
    "valor_predito_lasso = lasso_final.predict(X_test)\n",
    "eqm_lasso = mean((y_test - valor_predito_lasso)**2)\n",
    "print(f'O EQM para para o lasso de lamda {melhor_lambda} foi {eqm_lasso}')"
   ]
  },
  {
   "cell_type": "code",
   "execution_count": 28,
   "metadata": {},
   "outputs": [
    {
     "data": {
      "text/plain": [
       "Text(0, 0.5, 'Valor predito')"
      ]
     },
     "execution_count": 28,
     "metadata": {},
     "output_type": "execute_result"
    },
    {
     "data": {
      "image/png": "[encoded data removed]",
      "text/plain": [
       "<Figure size 432x288 with 1 Axes>"
      ]
     },
     "metadata": {
      "needs_background": "light"
     },
     "output_type": "display_data"
    }
   ],
   "source": [
    "plt.scatter(y_test, valor_predito_lasso)\n",
    "plt.plot([-75, 80], [-75, 80], color='red')\n",
    "plt.title(\"Valor predito vs Valor observado (Lasso)\")\n",
    "plt.xlabel(\"Valor observado\")\n",
    "plt.ylabel(\"Valor predito\")"
   ]
  },
  {
   "cell_type": "code",
   "execution_count": 31,
   "metadata": {},
   "outputs": [
    {
     "name": "stdout",
     "output_type": "stream",
     "text": [
      "Numero de coeficientes iguais a zero foi: 3652\n"
     ]
    }
   ],
   "source": [
    "coeficientes_melhor_lambda = lasso_final.coef_\n",
    "n_zeros = np.count_nonzero(coeficientes_melhor_lambda==0)\n",
    "print(f'Numero de coeficientes iguais a zero foi: {n_zeros}')"
   ]
  },
  {
   "cell_type": "markdown",
   "metadata": {},
   "source": [
    "O modelo KNN teve resultado melhor, pois o EQM dele foi 10.34 enquanto o do Lasso foi 12.82"
   ]
  }
 ],
 "metadata": {
  "kernelspec": {
   "display_name": "Python 3.10.1 ('python3.10')",
   "language": "python",
   "name": "python3"
  },
  "language_info": {
   "codemirror_mode": {
    "name": "ipython",
    "version": 3
   },
   "file_extension": ".py",
   "mimetype": "text/x-python",
   "name": "python",
   "nbconvert_exporter": "python",
   "pygments_lexer": "ipython3",
   "version": "3.10.1 | packaged by conda-forge | (main, Dec 22 2021, 01:33:54) [MSC v.1929 64 bit (AMD64)]"
  },
  "orig_nbformat": 4,
  "vscode": {
   "interpreter": {
    "hash": "d5f81a93457b83cf2d910e37efb41915d6c9f506aacc4ef45f00b4610c8873bc"
   }
  }
 },
 "nbformat": 4,
 "nbformat_minor": 2
}
